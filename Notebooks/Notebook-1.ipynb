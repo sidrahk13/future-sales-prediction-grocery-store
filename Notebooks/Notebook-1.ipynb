{
 "cells": [
  {
   "cell_type": "code",
   "execution_count": 1,
   "metadata": {
    "_cell_guid": "b1076dfc-b9ad-4769-8c92-a6c4dae69d19",
    "_uuid": "8f2839f25d086af736a60e9eeb907d3b93b6e0e5"
   },
   "outputs": [
    {
     "name": "stdout",
     "output_type": "stream",
     "text": [
      "/kaggle/input/favorita-grocery-sales-forecasting/test.csv\n",
      "/kaggle/input/favorita-grocery-sales-forecasting/stores.csv\n",
      "/kaggle/input/favorita-grocery-sales-forecasting/train.csv\n",
      "/kaggle/input/favorita-grocery-sales-forecasting/sample_submission.csv\n",
      "/kaggle/input/favorita-grocery-sales-forecasting/items.csv\n",
      "/kaggle/input/favorita-grocery-sales-forecasting/transactions.csv\n",
      "/kaggle/input/favorita-grocery-sales-forecasting/holidays_events.csv\n",
      "/kaggle/input/favorita-grocery-sales-forecasting/oil.csv\n"
     ]
    }
   ],
   "source": [
    "import numpy as np\n",
    "import pandas as pd\n",
    "\n",
    "import os\n",
    "for dirname, _, filenames in os.walk('/kaggle/input'):\n",
    "    for filename in filenames:\n",
    "        print(os.path.join(dirname, filename))\n"
   ]
  },
  {
   "cell_type": "markdown",
   "metadata": {},
   "source": [
    "# Importing all required libraries"
   ]
  },
  {
   "cell_type": "code",
   "execution_count": 2,
   "metadata": {
    "_cell_guid": "79c7e3d0-c299-4dcb-8224-4455121ee9b0",
    "_uuid": "d629ff2d2480ee46fbb7e2d37f6b5fab8052498a"
   },
   "outputs": [],
   "source": [
    "import pandas as pd\n",
    "import numpy as np\n",
    "import matplotlib.pyplot as plt\n",
    "import seaborn as sns\n",
    "from scipy import stats\n",
    "from sklearn.preprocessing import LabelEncoder,minmax_scale,PolynomialFeatures,StandardScaler,Normalizer\n",
    "from sklearn.model_selection import KFold,GridSearchCV,train_test_split\n",
    "import matplotlib.pyplot as plt\n",
    "from scipy.stats import itemfreq\n",
    "import seaborn as sns\n",
    "from sklearn import linear_model\n",
    "from sklearn.model_selection import cross_val_score\n",
    "from sklearn.linear_model import Lasso\n",
    "from sklearn.preprocessing import StandardScaler\n",
    "from sklearn.linear_model import LinearRegression, Ridge, LassoCV, ElasticNetCV\n",
    "from sklearn.metrics import mean_squared_error, make_scorer\n",
    "#from sklearn.model_selection import train_test_split\n",
    "%matplotlib inline\n",
    "import datetime\n",
    "from datetime import date, timedelta\n",
    "from sklearn.tree import DecisionTreeRegressor\n",
    "from sklearn.metrics import r2_score\n",
    "from sklearn.metrics import mean_squared_error\n",
    "from sklearn.ensemble import ExtraTreesRegressor\n",
    "from sklearn.ensemble import RandomForestRegressor\n",
    "from sklearn.model_selection import GridSearchCV\n",
    "from sklearn.ensemble import GradientBoostingRegressor\n",
    "from xgboost import XGBRegressor\n",
    "import sys"
   ]
  },
  {
   "cell_type": "markdown",
   "metadata": {},
   "source": [
    "# Data Loading"
   ]
  },
  {
   "cell_type": "code",
   "execution_count": 3,
   "metadata": {},
   "outputs": [],
   "source": [
    "#Loading the data\n",
    "dtypes = {'store_nbr': np.dtype('int64'),\n",
    "          'item_nbr': np.dtype('int64'),\n",
    "          'unit_sales': np.dtype('float64'),\n",
    "          'onpromotion': np.dtype('O')}\n",
    "\n",
    "Sales = pd.read_csv('/kaggle/input/favorita-grocery-sales-forecasting/train.csv',dtype=dtypes)\n",
    "test = pd.read_csv('/kaggle/input/favorita-grocery-sales-forecasting/test.csv', dtype=dtypes)\n",
    "stores = pd.read_csv('/kaggle/input/favorita-grocery-sales-forecasting/stores.csv')\n",
    "items = pd.read_csv('/kaggle/input/favorita-grocery-sales-forecasting/items.csv')\n",
    "trans = pd.read_csv('/kaggle/input/favorita-grocery-sales-forecasting/transactions.csv')\n",
    "#oil = pd.read_csv('../input/oil.csv') #we upload this database later\n",
    "holidays = pd.read_csv('/kaggle/input/favorita-grocery-sales-forecasting/holidays_events.csv')"
   ]
  },
  {
   "cell_type": "code",
   "execution_count": 4,
   "metadata": {},
   "outputs": [
    {
     "data": {
      "text/plain": [
       "3117887"
      ]
     },
     "execution_count": 4,
     "metadata": {},
     "output_type": "execute_result"
    }
   ],
   "source": [
    "#sampling the data, since the data is too huge to carry put any operations\n",
    "date_mask = (Sales['date'] >= '2016-07-15') & (Sales['date'] <= '2016-08-15')\n",
    "\n",
    "Salesdf = Sales[date_mask]\n",
    "#Print the size\n",
    "len(Salesdf)"
   ]
  },
  {
   "cell_type": "markdown",
   "metadata": {},
   "source": [
    "# Anomaly Detection"
   ]
  },
  {
   "cell_type": "code",
   "execution_count": 5,
   "metadata": {},
   "outputs": [],
   "source": [
    "#Load the data\n",
    "oil = pd.read_csv('/kaggle/input/favorita-grocery-sales-forecasting/oil.csv')\n",
    "\n",
    "#add missing date\n",
    "min_oil_date = min(Salesdf.date)\n",
    "max_oil_date = max(Salesdf.date)\n",
    "calendar = []\n",
    "\n",
    "d1 = datetime.datetime.strptime(min_oil_date, '%Y-%m-%d')  # start date\n",
    "d2 = datetime.datetime.strptime(max_oil_date, '%Y-%m-%d')  # end date\n",
    "\n",
    "\n",
    "delta = d2 - d1         # timedelta\n",
    "\n",
    "\n",
    "for i in range(delta.days + 1):\n",
    "    calendar.append(datetime.date.strftime(d1 + timedelta(days=i), '%Y-%m-%d'))\n",
    "\n",
    "calendar = pd.DataFrame({'date':calendar})\n",
    "\n",
    "oil = calendar.merge(oil, left_on='date', right_on='date', how='left')"
   ]
  },
  {
   "cell_type": "code",
   "execution_count": 6,
   "metadata": {},
   "outputs": [
    {
     "data": {
      "text/html": [
       "<div>\n",
       "<style scoped>\n",
       "    .dataframe tbody tr th:only-of-type {\n",
       "        vertical-align: middle;\n",
       "    }\n",
       "\n",
       "    .dataframe tbody tr th {\n",
       "        vertical-align: top;\n",
       "    }\n",
       "\n",
       "    .dataframe thead th {\n",
       "        text-align: right;\n",
       "    }\n",
       "</style>\n",
       "<table border=\"1\" class=\"dataframe\">\n",
       "  <thead>\n",
       "    <tr style=\"text-align: right;\">\n",
       "      <th></th>\n",
       "      <th>date</th>\n",
       "      <th>dcoilwtico</th>\n",
       "    </tr>\n",
       "  </thead>\n",
       "  <tbody>\n",
       "    <tr>\n",
       "      <td>0</td>\n",
       "      <td>2016-07-15</td>\n",
       "      <td>45.93</td>\n",
       "    </tr>\n",
       "    <tr>\n",
       "      <td>1</td>\n",
       "      <td>2016-07-16</td>\n",
       "      <td>NaN</td>\n",
       "    </tr>\n",
       "    <tr>\n",
       "      <td>2</td>\n",
       "      <td>2016-07-17</td>\n",
       "      <td>NaN</td>\n",
       "    </tr>\n",
       "    <tr>\n",
       "      <td>3</td>\n",
       "      <td>2016-07-18</td>\n",
       "      <td>45.23</td>\n",
       "    </tr>\n",
       "    <tr>\n",
       "      <td>4</td>\n",
       "      <td>2016-07-19</td>\n",
       "      <td>44.64</td>\n",
       "    </tr>\n",
       "  </tbody>\n",
       "</table>\n",
       "</div>"
      ],
      "text/plain": [
       "         date  dcoilwtico\n",
       "0  2016-07-15       45.93\n",
       "1  2016-07-16         NaN\n",
       "2  2016-07-17         NaN\n",
       "3  2016-07-18       45.23\n",
       "4  2016-07-19       44.64"
      ]
     },
     "execution_count": 6,
     "metadata": {},
     "output_type": "execute_result"
    }
   ],
   "source": [
    "oil.head(5)"
   ]
  },
  {
   "cell_type": "markdown",
   "metadata": {},
   "source": [
    "# Data Preparation and Cleaning"
   ]
  },
  {
   "cell_type": "code",
   "execution_count": 7,
   "metadata": {},
   "outputs": [
    {
     "name": "stdout",
     "output_type": "stream",
     "text": [
      "date           0\n",
      "dcoilwtico    10\n",
      "dtype: int64 \n",
      "\n",
      "Type :  \n",
      " date           object\n",
      "dcoilwtico    float64\n",
      "dtype: object\n"
     ]
    }
   ],
   "source": [
    "#Check how many NA\n",
    "print(oil.isnull().sum(), '\\n')\n",
    "\n",
    "#Type\n",
    "print('Type : ', '\\n', oil.dtypes)\n",
    "\n"
   ]
  },
  {
   "cell_type": "markdown",
   "metadata": {},
   "source": [
    "# Analyzing Impact of Oil on the sales of other products\n",
    "\n",
    "Adding values to NaN attributes using boundary method"
   ]
  },
  {
   "cell_type": "code",
   "execution_count": 8,
   "metadata": {},
   "outputs": [
    {
     "name": "stdout",
     "output_type": "stream",
     "text": [
      "date          0\n",
      "dcoilwtico    0\n",
      "dtype: int64\n"
     ]
    },
    {
     "data": {
      "text/html": [
       "<div>\n",
       "<style scoped>\n",
       "    .dataframe tbody tr th:only-of-type {\n",
       "        vertical-align: middle;\n",
       "    }\n",
       "\n",
       "    .dataframe tbody tr th {\n",
       "        vertical-align: top;\n",
       "    }\n",
       "\n",
       "    .dataframe thead th {\n",
       "        text-align: right;\n",
       "    }\n",
       "</style>\n",
       "<table border=\"1\" class=\"dataframe\">\n",
       "  <thead>\n",
       "    <tr style=\"text-align: right;\">\n",
       "      <th></th>\n",
       "      <th>date</th>\n",
       "      <th>dcoilwtico</th>\n",
       "    </tr>\n",
       "  </thead>\n",
       "  <tbody>\n",
       "    <tr>\n",
       "      <td>0</td>\n",
       "      <td>2016-07-15</td>\n",
       "      <td>45.930</td>\n",
       "    </tr>\n",
       "    <tr>\n",
       "      <td>1</td>\n",
       "      <td>2016-07-16</td>\n",
       "      <td>45.580</td>\n",
       "    </tr>\n",
       "    <tr>\n",
       "      <td>2</td>\n",
       "      <td>2016-07-17</td>\n",
       "      <td>45.405</td>\n",
       "    </tr>\n",
       "    <tr>\n",
       "      <td>3</td>\n",
       "      <td>2016-07-18</td>\n",
       "      <td>45.230</td>\n",
       "    </tr>\n",
       "    <tr>\n",
       "      <td>4</td>\n",
       "      <td>2016-07-19</td>\n",
       "      <td>44.640</td>\n",
       "    </tr>\n",
       "  </tbody>\n",
       "</table>\n",
       "</div>"
      ],
      "text/plain": [
       "         date  dcoilwtico\n",
       "0  2016-07-15      45.930\n",
       "1  2016-07-16      45.580\n",
       "2  2016-07-17      45.405\n",
       "3  2016-07-18      45.230\n",
       "4  2016-07-19      44.640"
      ]
     },
     "execution_count": 8,
     "metadata": {},
     "output_type": "execute_result"
    }
   ],
   "source": [
    "#Check index to apply the formula\n",
    "na_index_oil = oil[oil['dcoilwtico'].isnull() == True].index.values\n",
    "\n",
    "#Define the index to use to apply the formala\n",
    "na_index_oil_plus = na_index_oil.copy()\n",
    "na_index_oil_minus = np.maximum(0, na_index_oil-1) # subtracting 1 from each indexes\n",
    "\n",
    "for i in range(len(na_index_oil)):\n",
    "    k = 1\n",
    "    while (na_index_oil[min(i+k,len(na_index_oil)-1)] == na_index_oil[i]+k):\n",
    "        k += 1\n",
    "    na_index_oil_plus[i] = min(len(oil)-1, na_index_oil_plus[i] + k )\n",
    "\n",
    "#Apply the formula\n",
    "\n",
    "for i in range(len(na_index_oil)):\n",
    "    if (na_index_oil[i] == 0):\n",
    "        oil.loc[na_index_oil[i], 'dcoilwtico'] = oil.loc[na_index_oil_plus[i], 'dcoilwtico']\n",
    "    elif (na_index_oil[i] == len(oil)-1):\n",
    "        oil.loc[na_index_oil[i], 'dcoilwtico'] = oil.loc[na_index_oil_minus[i], 'dcoilwtico']\n",
    "    else:\n",
    "        oil.loc[na_index_oil[i], 'dcoilwtico'] = (oil.loc[na_index_oil_plus[i], 'dcoilwtico'] + oil.loc[na_index_oil_minus[i], 'dcoilwtico'])/ 2\n",
    "print(oil.isnull().sum())\n",
    "oil.head(5)"
   ]
  },
  {
   "cell_type": "code",
   "execution_count": 9,
   "metadata": {},
   "outputs": [
    {
     "data": {
      "image/png": "[encoded data removed]",
      "text/plain": [
       "<Figure size 432x288 with 1 Axes>"
      ]
     },
     "metadata": {
      "needs_background": "light"
     },
     "output_type": "display_data"
    }
   ],
   "source": [
    "#Plot the oil values\n",
    "oil_plot = oil['dcoilwtico'].copy()\n",
    "oil_plot.index = oil['date'].copy()\n",
    "oil_plot.plot()\n",
    "#oil_plot.set_xticklabels([])\n",
    "plt.show()"
   ]
  },
  {
   "cell_type": "markdown",
   "metadata": {},
   "source": [
    "# Data Blending"
   ]
  },
  {
   "cell_type": "code",
   "execution_count": 10,
   "metadata": {},
   "outputs": [
    {
     "name": "stdout",
     "output_type": "stream",
     "text": [
      "<class 'pandas.core.frame.DataFrame'>\n",
      "Int64Index: 3117887 entries, 85020772 to 88138658\n",
      "Data columns (total 6 columns):\n",
      "id             int64\n",
      "date           object\n",
      "store_nbr      int64\n",
      "item_nbr       int64\n",
      "unit_sales     float64\n",
      "onpromotion    object\n",
      "dtypes: float64(1), int64(3), object(2)\n",
      "memory usage: 166.5+ MB\n"
     ]
    }
   ],
   "source": [
    "Salesdf.info()\n",
    "Salesdf = Salesdf.drop('id', axis = 1)\n",
    "Salesdf = Salesdf.merge(stores, left_on='store_nbr', right_on='store_nbr', how='left')\n",
    "Salesdf = Salesdf.merge(items, left_on='item_nbr', right_on='item_nbr', how='left')\n",
    "Salesdf = Salesdf.merge(holidays, left_on='date', right_on='date', how='left')\n",
    "Salesdf = Salesdf.merge(oil, left_on='date', right_on='date', how='left')\n",
    "Salesdf = Salesdf.drop(['description', 'state', 'locale_name', 'class'], axis = 1)"
   ]
  },
  {
   "cell_type": "code",
   "execution_count": 11,
   "metadata": {},
   "outputs": [
    {
     "name": "stdout",
     "output_type": "stream",
     "text": [
      "<class 'pandas.core.frame.DataFrame'>\n",
      "Int64Index: 3218342 entries, 0 to 3218341\n",
      "Data columns (total 14 columns):\n",
      "date           object\n",
      "store_nbr      int64\n",
      "item_nbr       int64\n",
      "unit_sales     float64\n",
      "onpromotion    object\n",
      "city           object\n",
      "type_x         object\n",
      "cluster        int64\n",
      "family         object\n",
      "perishable     int64\n",
      "type_y         object\n",
      "locale         object\n",
      "transferred    object\n",
      "dcoilwtico     float64\n",
      "dtypes: float64(2), int64(4), object(8)\n",
      "memory usage: 368.3+ MB\n"
     ]
    }
   ],
   "source": [
    "Salesdf.info()"
   ]
  },
  {
   "cell_type": "code",
   "execution_count": 12,
   "metadata": {},
   "outputs": [
    {
     "data": {
      "text/plain": [
       "transferred    2434721\n",
       "locale         2434721\n",
       "type_y         2434721\n",
       "dcoilwtico           0\n",
       "perishable           0\n",
       "family               0\n",
       "cluster              0\n",
       "type_x               0\n",
       "city                 0\n",
       "onpromotion          0\n",
       "unit_sales           0\n",
       "item_nbr             0\n",
       "store_nbr            0\n",
       "date                 0\n",
       "dtype: int64"
      ]
     },
     "execution_count": 12,
     "metadata": {},
     "output_type": "execute_result"
    }
   ],
   "source": [
    "Salesdf.isnull().sum().sort_values(ascending=False)"
   ]
  },
  {
   "cell_type": "code",
   "execution_count": 13,
   "metadata": {},
   "outputs": [
    {
     "name": "stdout",
     "output_type": "stream",
     "text": [
      "Shape :  (3218342, 14) \n",
      "\n",
      "Type :  \n",
      " date            object\n",
      "store_nbr        int64\n",
      "item_nbr         int64\n",
      "unit_sales     float64\n",
      "onpromotion     object\n",
      "city            object\n",
      "type_x          object\n",
      "cluster          int64\n",
      "family          object\n",
      "perishable       int64\n",
      "type_y          object\n",
      "locale          object\n",
      "transferred     object\n",
      "dcoilwtico     float64\n",
      "dtype: object\n"
     ]
    },
    {
     "data": {
      "text/html": [
       "<div>\n",
       "<style scoped>\n",
       "    .dataframe tbody tr th:only-of-type {\n",
       "        vertical-align: middle;\n",
       "    }\n",
       "\n",
       "    .dataframe tbody tr th {\n",
       "        vertical-align: top;\n",
       "    }\n",
       "\n",
       "    .dataframe thead th {\n",
       "        text-align: right;\n",
       "    }\n",
       "</style>\n",
       "<table border=\"1\" class=\"dataframe\">\n",
       "  <thead>\n",
       "    <tr style=\"text-align: right;\">\n",
       "      <th></th>\n",
       "      <th>store_nbr</th>\n",
       "      <th>item_nbr</th>\n",
       "      <th>unit_sales</th>\n",
       "      <th>cluster</th>\n",
       "      <th>perishable</th>\n",
       "      <th>dcoilwtico</th>\n",
       "    </tr>\n",
       "  </thead>\n",
       "  <tbody>\n",
       "    <tr>\n",
       "      <td>count</td>\n",
       "      <td>3.218342e+06</td>\n",
       "      <td>3.218342e+06</td>\n",
       "      <td>3.218342e+06</td>\n",
       "      <td>3.218342e+06</td>\n",
       "      <td>3.218342e+06</td>\n",
       "      <td>3.218342e+06</td>\n",
       "    </tr>\n",
       "    <tr>\n",
       "      <td>mean</td>\n",
       "      <td>2.767294e+01</td>\n",
       "      <td>1.100111e+06</td>\n",
       "      <td>7.592344e+00</td>\n",
       "      <td>8.643655e+00</td>\n",
       "      <td>2.588240e-01</td>\n",
       "      <td>4.298099e+01</td>\n",
       "    </tr>\n",
       "    <tr>\n",
       "      <td>std</td>\n",
       "      <td>1.614841e+01</td>\n",
       "      <td>5.488708e+05</td>\n",
       "      <td>1.692901e+01</td>\n",
       "      <td>4.609769e+00</td>\n",
       "      <td>4.379888e-01</td>\n",
       "      <td>1.783225e+00</td>\n",
       "    </tr>\n",
       "    <tr>\n",
       "      <td>min</td>\n",
       "      <td>1.000000e+00</td>\n",
       "      <td>9.919700e+04</td>\n",
       "      <td>-1.750000e+02</td>\n",
       "      <td>1.000000e+00</td>\n",
       "      <td>0.000000e+00</td>\n",
       "      <td>3.950000e+01</td>\n",
       "    </tr>\n",
       "    <tr>\n",
       "      <td>25%</td>\n",
       "      <td>1.300000e+01</td>\n",
       "      <td>6.557490e+05</td>\n",
       "      <td>2.000000e+00</td>\n",
       "      <td>5.000000e+00</td>\n",
       "      <td>0.000000e+00</td>\n",
       "      <td>4.183000e+01</td>\n",
       "    </tr>\n",
       "    <tr>\n",
       "      <td>50%</td>\n",
       "      <td>2.800000e+01</td>\n",
       "      <td>1.146783e+06</td>\n",
       "      <td>4.000000e+00</td>\n",
       "      <td>9.000000e+00</td>\n",
       "      <td>0.000000e+00</td>\n",
       "      <td>4.275250e+01</td>\n",
       "    </tr>\n",
       "    <tr>\n",
       "      <td>75%</td>\n",
       "      <td>4.300000e+01</td>\n",
       "      <td>1.464002e+06</td>\n",
       "      <td>8.000000e+00</td>\n",
       "      <td>1.300000e+01</td>\n",
       "      <td>1.000000e+00</td>\n",
       "      <td>4.464000e+01</td>\n",
       "    </tr>\n",
       "    <tr>\n",
       "      <td>max</td>\n",
       "      <td>5.400000e+01</td>\n",
       "      <td>2.037487e+06</td>\n",
       "      <td>5.065200e+03</td>\n",
       "      <td>1.700000e+01</td>\n",
       "      <td>1.000000e+00</td>\n",
       "      <td>4.593000e+01</td>\n",
       "    </tr>\n",
       "  </tbody>\n",
       "</table>\n",
       "</div>"
      ],
      "text/plain": [
       "          store_nbr      item_nbr    unit_sales       cluster    perishable  \\\n",
       "count  3.218342e+06  3.218342e+06  3.218342e+06  3.218342e+06  3.218342e+06   \n",
       "mean   2.767294e+01  1.100111e+06  7.592344e+00  8.643655e+00  2.588240e-01   \n",
       "std    1.614841e+01  5.488708e+05  1.692901e+01  4.609769e+00  4.379888e-01   \n",
       "min    1.000000e+00  9.919700e+04 -1.750000e+02  1.000000e+00  0.000000e+00   \n",
       "25%    1.300000e+01  6.557490e+05  2.000000e+00  5.000000e+00  0.000000e+00   \n",
       "50%    2.800000e+01  1.146783e+06  4.000000e+00  9.000000e+00  0.000000e+00   \n",
       "75%    4.300000e+01  1.464002e+06  8.000000e+00  1.300000e+01  1.000000e+00   \n",
       "max    5.400000e+01  2.037487e+06  5.065200e+03  1.700000e+01  1.000000e+00   \n",
       "\n",
       "         dcoilwtico  \n",
       "count  3.218342e+06  \n",
       "mean   4.298099e+01  \n",
       "std    1.783225e+00  \n",
       "min    3.950000e+01  \n",
       "25%    4.183000e+01  \n",
       "50%    4.275250e+01  \n",
       "75%    4.464000e+01  \n",
       "max    4.593000e+01  "
      ]
     },
     "execution_count": 13,
     "metadata": {},
     "output_type": "execute_result"
    }
   ],
   "source": [
    "#Shape\n",
    "print('Shape : ', Salesdf.shape, '\\n')\n",
    "\n",
    "#Type\n",
    "print('Type : ', '\\n', Salesdf.dtypes)\n",
    "\n",
    "#Summary\n",
    "Salesdf.describe()"
   ]
  },
  {
   "cell_type": "code",
   "execution_count": 14,
   "metadata": {},
   "outputs": [
    {
     "data": {
      "text/html": [
       "<div>\n",
       "<style scoped>\n",
       "    .dataframe tbody tr th:only-of-type {\n",
       "        vertical-align: middle;\n",
       "    }\n",
       "\n",
       "    .dataframe tbody tr th {\n",
       "        vertical-align: top;\n",
       "    }\n",
       "\n",
       "    .dataframe thead th {\n",
       "        text-align: right;\n",
       "    }\n",
       "</style>\n",
       "<table border=\"1\" class=\"dataframe\">\n",
       "  <thead>\n",
       "    <tr style=\"text-align: right;\">\n",
       "      <th></th>\n",
       "      <th>date</th>\n",
       "      <th>store_nbr</th>\n",
       "      <th>item_nbr</th>\n",
       "      <th>unit_sales</th>\n",
       "      <th>onpromotion</th>\n",
       "      <th>city</th>\n",
       "      <th>type_x</th>\n",
       "      <th>cluster</th>\n",
       "      <th>family</th>\n",
       "      <th>perishable</th>\n",
       "      <th>type_y</th>\n",
       "      <th>locale</th>\n",
       "      <th>transferred</th>\n",
       "      <th>dcoilwtico</th>\n",
       "    </tr>\n",
       "  </thead>\n",
       "  <tbody>\n",
       "    <tr>\n",
       "      <td>584107</td>\n",
       "      <td>2016-07-20</td>\n",
       "      <td>53</td>\n",
       "      <td>1391548</td>\n",
       "      <td>2.000</td>\n",
       "      <td>False</td>\n",
       "      <td>Manta</td>\n",
       "      <td>D</td>\n",
       "      <td>13</td>\n",
       "      <td>GROCERY I</td>\n",
       "      <td>0</td>\n",
       "      <td>NaN</td>\n",
       "      <td>NaN</td>\n",
       "      <td>NaN</td>\n",
       "      <td>44.96</td>\n",
       "    </tr>\n",
       "    <tr>\n",
       "      <td>1959003</td>\n",
       "      <td>2016-08-03</td>\n",
       "      <td>3</td>\n",
       "      <td>318932</td>\n",
       "      <td>6.000</td>\n",
       "      <td>False</td>\n",
       "      <td>Quito</td>\n",
       "      <td>D</td>\n",
       "      <td>8</td>\n",
       "      <td>DELI</td>\n",
       "      <td>1</td>\n",
       "      <td>NaN</td>\n",
       "      <td>NaN</td>\n",
       "      <td>NaN</td>\n",
       "      <td>40.80</td>\n",
       "    </tr>\n",
       "    <tr>\n",
       "      <td>646847</td>\n",
       "      <td>2016-07-21</td>\n",
       "      <td>38</td>\n",
       "      <td>1908028</td>\n",
       "      <td>7.000</td>\n",
       "      <td>False</td>\n",
       "      <td>Loja</td>\n",
       "      <td>D</td>\n",
       "      <td>4</td>\n",
       "      <td>PRODUCE</td>\n",
       "      <td>1</td>\n",
       "      <td>NaN</td>\n",
       "      <td>NaN</td>\n",
       "      <td>NaN</td>\n",
       "      <td>43.96</td>\n",
       "    </tr>\n",
       "    <tr>\n",
       "      <td>2085729</td>\n",
       "      <td>2016-08-04</td>\n",
       "      <td>18</td>\n",
       "      <td>1473509</td>\n",
       "      <td>1.827</td>\n",
       "      <td>False</td>\n",
       "      <td>Quito</td>\n",
       "      <td>B</td>\n",
       "      <td>16</td>\n",
       "      <td>PRODUCE</td>\n",
       "      <td>1</td>\n",
       "      <td>NaN</td>\n",
       "      <td>NaN</td>\n",
       "      <td>NaN</td>\n",
       "      <td>41.92</td>\n",
       "    </tr>\n",
       "    <tr>\n",
       "      <td>2853573</td>\n",
       "      <td>2016-08-12</td>\n",
       "      <td>14</td>\n",
       "      <td>1621528</td>\n",
       "      <td>5.000</td>\n",
       "      <td>False</td>\n",
       "      <td>Riobamba</td>\n",
       "      <td>C</td>\n",
       "      <td>7</td>\n",
       "      <td>PRODUCE</td>\n",
       "      <td>1</td>\n",
       "      <td>Transfer</td>\n",
       "      <td>National</td>\n",
       "      <td>False</td>\n",
       "      <td>44.47</td>\n",
       "    </tr>\n",
       "    <tr>\n",
       "      <td>31644</td>\n",
       "      <td>2016-07-15</td>\n",
       "      <td>18</td>\n",
       "      <td>1390352</td>\n",
       "      <td>1.000</td>\n",
       "      <td>False</td>\n",
       "      <td>Quito</td>\n",
       "      <td>B</td>\n",
       "      <td>16</td>\n",
       "      <td>GROCERY I</td>\n",
       "      <td>0</td>\n",
       "      <td>NaN</td>\n",
       "      <td>NaN</td>\n",
       "      <td>NaN</td>\n",
       "      <td>45.93</td>\n",
       "    </tr>\n",
       "    <tr>\n",
       "      <td>2908990</td>\n",
       "      <td>2016-08-12</td>\n",
       "      <td>46</td>\n",
       "      <td>1457217</td>\n",
       "      <td>15.000</td>\n",
       "      <td>False</td>\n",
       "      <td>Quito</td>\n",
       "      <td>A</td>\n",
       "      <td>14</td>\n",
       "      <td>HOME CARE</td>\n",
       "      <td>0</td>\n",
       "      <td>Transfer</td>\n",
       "      <td>National</td>\n",
       "      <td>False</td>\n",
       "      <td>44.47</td>\n",
       "    </tr>\n",
       "    <tr>\n",
       "      <td>1842070</td>\n",
       "      <td>2016-08-01</td>\n",
       "      <td>48</td>\n",
       "      <td>716958</td>\n",
       "      <td>1.000</td>\n",
       "      <td>False</td>\n",
       "      <td>Quito</td>\n",
       "      <td>A</td>\n",
       "      <td>14</td>\n",
       "      <td>BEAUTY</td>\n",
       "      <td>0</td>\n",
       "      <td>NaN</td>\n",
       "      <td>NaN</td>\n",
       "      <td>NaN</td>\n",
       "      <td>40.05</td>\n",
       "    </tr>\n",
       "    <tr>\n",
       "      <td>2540937</td>\n",
       "      <td>2016-08-08</td>\n",
       "      <td>50</td>\n",
       "      <td>1501559</td>\n",
       "      <td>4.000</td>\n",
       "      <td>False</td>\n",
       "      <td>Ambato</td>\n",
       "      <td>A</td>\n",
       "      <td>14</td>\n",
       "      <td>PRODUCE</td>\n",
       "      <td>1</td>\n",
       "      <td>NaN</td>\n",
       "      <td>NaN</td>\n",
       "      <td>NaN</td>\n",
       "      <td>43.06</td>\n",
       "    </tr>\n",
       "    <tr>\n",
       "      <td>1909727</td>\n",
       "      <td>2016-08-02</td>\n",
       "      <td>31</td>\n",
       "      <td>1105212</td>\n",
       "      <td>49.000</td>\n",
       "      <td>False</td>\n",
       "      <td>Babahoyo</td>\n",
       "      <td>B</td>\n",
       "      <td>10</td>\n",
       "      <td>GROCERY I</td>\n",
       "      <td>0</td>\n",
       "      <td>NaN</td>\n",
       "      <td>NaN</td>\n",
       "      <td>NaN</td>\n",
       "      <td>39.50</td>\n",
       "    </tr>\n",
       "  </tbody>\n",
       "</table>\n",
       "</div>"
      ],
      "text/plain": [
       "               date  store_nbr  item_nbr  unit_sales onpromotion      city  \\\n",
       "584107   2016-07-20         53   1391548       2.000       False     Manta   \n",
       "1959003  2016-08-03          3    318932       6.000       False     Quito   \n",
       "646847   2016-07-21         38   1908028       7.000       False      Loja   \n",
       "2085729  2016-08-04         18   1473509       1.827       False     Quito   \n",
       "2853573  2016-08-12         14   1621528       5.000       False  Riobamba   \n",
       "31644    2016-07-15         18   1390352       1.000       False     Quito   \n",
       "2908990  2016-08-12         46   1457217      15.000       False     Quito   \n",
       "1842070  2016-08-01         48    716958       1.000       False     Quito   \n",
       "2540937  2016-08-08         50   1501559       4.000       False    Ambato   \n",
       "1909727  2016-08-02         31   1105212      49.000       False  Babahoyo   \n",
       "\n",
       "        type_x  cluster     family  perishable    type_y    locale  \\\n",
       "584107       D       13  GROCERY I           0       NaN       NaN   \n",
       "1959003      D        8       DELI           1       NaN       NaN   \n",
       "646847       D        4    PRODUCE           1       NaN       NaN   \n",
       "2085729      B       16    PRODUCE           1       NaN       NaN   \n",
       "2853573      C        7    PRODUCE           1  Transfer  National   \n",
       "31644        B       16  GROCERY I           0       NaN       NaN   \n",
       "2908990      A       14  HOME CARE           0  Transfer  National   \n",
       "1842070      A       14     BEAUTY           0       NaN       NaN   \n",
       "2540937      A       14    PRODUCE           1       NaN       NaN   \n",
       "1909727      B       10  GROCERY I           0       NaN       NaN   \n",
       "\n",
       "        transferred  dcoilwtico  \n",
       "584107          NaN       44.96  \n",
       "1959003         NaN       40.80  \n",
       "646847          NaN       43.96  \n",
       "2085729         NaN       41.92  \n",
       "2853573       False       44.47  \n",
       "31644           NaN       45.93  \n",
       "2908990       False       44.47  \n",
       "1842070         NaN       40.05  \n",
       "2540937         NaN       43.06  \n",
       "1909727         NaN       39.50  "
      ]
     },
     "execution_count": 14,
     "metadata": {},
     "output_type": "execute_result"
    }
   ],
   "source": [
    "#10 random lines\n",
    "Salesdf.sample(10)"
   ]
  },
  {
   "cell_type": "code",
   "execution_count": 15,
   "metadata": {},
   "outputs": [
    {
     "data": {
      "image/png": "[encoded data removed]",
      "text/plain": [
       "<Figure size 432x288 with 1 Axes>"
      ]
     },
     "metadata": {
      "needs_background": "light"
     },
     "output_type": "display_data"
    }
   ],
   "source": [
    "sns.countplot(x='store_nbr', data=Salesdf);"
   ]
  },
  {
   "cell_type": "markdown",
   "metadata": {},
   "source": [
    "# The the above plot shows the number of stores according to each store type."
   ]
  },
  {
   "cell_type": "code",
   "execution_count": 16,
   "metadata": {},
   "outputs": [
    {
     "data": {
      "text/plain": [
       "<bound method Series.unique of 0           103665\n",
       "1           105574\n",
       "2           105575\n",
       "3           105577\n",
       "4           105693\n",
       "            ...   \n",
       "3218337    2026893\n",
       "3218338    2026945\n",
       "3218339    2026983\n",
       "3218340    2027090\n",
       "3218341    2027203\n",
       "Name: item_nbr, Length: 3218342, dtype: int64>"
      ]
     },
     "execution_count": 16,
     "metadata": {},
     "output_type": "execute_result"
    }
   ],
   "source": [
    "Salesdf.item_nbr.unique"
   ]
  },
  {
   "cell_type": "code",
   "execution_count": 17,
   "metadata": {},
   "outputs": [
    {
     "name": "stderr",
     "output_type": "stream",
     "text": [
      "/opt/conda/lib/python3.6/site-packages/ipykernel_launcher.py:1: DeprecationWarning: `itemfreq` is deprecated!\n",
      "`itemfreq` is deprecated and will be removed in a future version. Use instead `np.unique(..., return_counts=True)`\n",
      "  \"\"\"Entry point for launching an IPython kernel.\n"
     ]
    },
    {
     "data": {
      "text/plain": [
       "array([[ 314384,    1748],\n",
       "       [ 364606,    1748],\n",
       "       [1463810,    1746],\n",
       "       ...,\n",
       "       [1575252,       1],\n",
       "       [ 579759,       1],\n",
       "       [ 638327,       1]])"
      ]
     },
     "execution_count": 17,
     "metadata": {},
     "output_type": "execute_result"
    }
   ],
   "source": [
    "x=itemfreq(Salesdf.item_nbr)\n",
    "x=x[x[:,1].argsort()[::-1]]\n",
    "x"
   ]
  },
  {
   "cell_type": "code",
   "execution_count": 18,
   "metadata": {},
   "outputs": [
    {
     "data": {
      "text/plain": [
       "array([ 314384,  364606, 1463810,  502331,  222879,  265559,  323013,\n",
       "       1157564,  414353, 1958216])"
      ]
     },
     "execution_count": 18,
     "metadata": {},
     "output_type": "execute_result"
    }
   ],
   "source": [
    "x[:,0][0:10]"
   ]
  },
  {
   "cell_type": "code",
   "execution_count": 19,
   "metadata": {},
   "outputs": [
    {
     "name": "stderr",
     "output_type": "stream",
     "text": [
      "/opt/conda/lib/python3.6/site-packages/ipykernel_launcher.py:1: FutureWarning: Method .as_matrix will be removed in a future version. Use .values instead.\n",
      "  \"\"\"Entry point for launching an IPython kernel.\n"
     ]
    },
    {
     "data": {
      "text/plain": [
       "array([ 103665,  105574,  105575, ..., 2026983, 2027090, 2027203])"
      ]
     },
     "execution_count": 19,
     "metadata": {},
     "output_type": "execute_result"
    }
   ],
   "source": [
    "s=Salesdf.item_nbr.as_matrix()\n",
    "s"
   ]
  },
  {
   "cell_type": "code",
   "execution_count": 20,
   "metadata": {},
   "outputs": [
    {
     "data": {
      "text/plain": [
       "array([[ 103665],\n",
       "       [ 105574],\n",
       "       [ 105575],\n",
       "       ...,\n",
       "       [2026983],\n",
       "       [2027090],\n",
       "       [2027203]])"
      ]
     },
     "execution_count": 20,
     "metadata": {},
     "output_type": "execute_result"
    }
   ],
   "source": [
    "t=s.reshape(s.shape[0],1)\n",
    "t"
   ]
  },
  {
   "cell_type": "code",
   "execution_count": 21,
   "metadata": {},
   "outputs": [
    {
     "name": "stderr",
     "output_type": "stream",
     "text": [
      "/opt/conda/lib/python3.6/site-packages/ipykernel_launcher.py:1: DeprecationWarning: elementwise comparison failed; this will raise an error in the future.\n",
      "  \"\"\"Entry point for launching an IPython kernel.\n"
     ]
    },
    {
     "data": {
      "text/plain": [
       "(array([], dtype=int64),)"
      ]
     },
     "execution_count": 21,
     "metadata": {},
     "output_type": "execute_result"
    }
   ],
   "source": [
    "t1=np.where(t==x)\n",
    "t1"
   ]
  },
  {
   "cell_type": "markdown",
   "metadata": {},
   "source": [
    "# Product Purchase Trend\n",
    "### N most purchased products"
   ]
  },
  {
   "cell_type": "code",
   "execution_count": 22,
   "metadata": {},
   "outputs": [
    {
     "name": "stderr",
     "output_type": "stream",
     "text": [
      "/opt/conda/lib/python3.6/site-packages/ipykernel_launcher.py:2: DeprecationWarning: `itemfreq` is deprecated!\n",
      "`itemfreq` is deprecated and will be removed in a future version. Use instead `np.unique(..., return_counts=True)`\n",
      "  \n",
      "/opt/conda/lib/python3.6/site-packages/ipykernel_launcher.py:10: FutureWarning: Method .as_matrix will be removed in a future version. Use .values instead.\n",
      "  # Remove the CWD from sys.path while we load stuff.\n"
     ]
    },
    {
     "name": "stdout",
     "output_type": "stream",
     "text": [
      "labels_filtered_index[0].shape =  (34678,)\n"
     ]
    }
   ],
   "source": [
    "def N_most_labels(data, variable , N , all='TRUE'):\n",
    "    labels_freq_pd = itemfreq(data[variable])\n",
    "    labels_freq_pd = labels_freq_pd[labels_freq_pd[:, 1].argsort()[::-1]] #[::-1] ==> to sort in descending order\n",
    "    \n",
    "    if all == 'FALSE':\n",
    "        main_labels = labels_freq_pd[:,0][0:N]\n",
    "    else: \n",
    "        main_labels = labels_freq_pd[:,0][:]\n",
    "        \n",
    "    labels_raw_np = data[variable].as_matrix() #transform in numpy\n",
    "    labels_raw_np = labels_raw_np.reshape(labels_raw_np.shape[0],1)\n",
    "\n",
    "    labels_filtered_index = np.where(labels_raw_np == main_labels)\n",
    "    \n",
    "    return labels_freq_pd, labels_filtered_index\n",
    "\n",
    "label_freq, labels_filtered_index = N_most_labels(data = Salesdf, variable = \"item_nbr\", N = 20, all='FALSE')\n",
    "print(\"labels_filtered_index[0].shape = \", labels_filtered_index[0].shape)\n",
    "\n",
    "Salesdf_filtered = Salesdf.loc[labels_filtered_index[0],:]"
   ]
  },
  {
   "cell_type": "markdown",
   "metadata": {},
   "source": [
    "#### The number of most purchased products gives us the idea of looking for the sales for those products."
   ]
  },
  {
   "cell_type": "code",
   "execution_count": 23,
   "metadata": {},
   "outputs": [
    {
     "data": {
      "text/plain": [
       "array([[ 314384,    1748],\n",
       "       [ 364606,    1748],\n",
       "       [1463810,    1746],\n",
       "       [ 502331,    1744],\n",
       "       [ 222879,    1743],\n",
       "       [ 265559,    1742],\n",
       "       [ 323013,    1740],\n",
       "       [1157564,    1738],\n",
       "       [ 414353,    1737],\n",
       "       [1958216,    1734]])"
      ]
     },
     "execution_count": 23,
     "metadata": {},
     "output_type": "execute_result"
    }
   ],
   "source": [
    "label_freq[0:10]"
   ]
  },
  {
   "cell_type": "code",
   "execution_count": 24,
   "metadata": {},
   "outputs": [
    {
     "data": {
      "text/html": [
       "<div>\n",
       "<style scoped>\n",
       "    .dataframe tbody tr th:only-of-type {\n",
       "        vertical-align: middle;\n",
       "    }\n",
       "\n",
       "    .dataframe tbody tr th {\n",
       "        vertical-align: top;\n",
       "    }\n",
       "\n",
       "    .dataframe thead th {\n",
       "        text-align: right;\n",
       "    }\n",
       "</style>\n",
       "<table border=\"1\" class=\"dataframe\">\n",
       "  <thead>\n",
       "    <tr style=\"text-align: right;\">\n",
       "      <th></th>\n",
       "      <th>date</th>\n",
       "      <th>store_nbr</th>\n",
       "      <th>item_nbr</th>\n",
       "      <th>unit_sales</th>\n",
       "      <th>onpromotion</th>\n",
       "      <th>city</th>\n",
       "      <th>type_x</th>\n",
       "      <th>cluster</th>\n",
       "      <th>family</th>\n",
       "      <th>perishable</th>\n",
       "      <th>type_y</th>\n",
       "      <th>locale</th>\n",
       "      <th>transferred</th>\n",
       "      <th>dcoilwtico</th>\n",
       "    </tr>\n",
       "  </thead>\n",
       "  <tbody>\n",
       "    <tr>\n",
       "      <td>119</td>\n",
       "      <td>2016-07-15</td>\n",
       "      <td>1</td>\n",
       "      <td>222879</td>\n",
       "      <td>9.0</td>\n",
       "      <td>False</td>\n",
       "      <td>Quito</td>\n",
       "      <td>D</td>\n",
       "      <td>13</td>\n",
       "      <td>GROCERY I</td>\n",
       "      <td>0</td>\n",
       "      <td>NaN</td>\n",
       "      <td>NaN</td>\n",
       "      <td>NaN</td>\n",
       "      <td>45.93</td>\n",
       "    </tr>\n",
       "    <tr>\n",
       "      <td>142</td>\n",
       "      <td>2016-07-15</td>\n",
       "      <td>1</td>\n",
       "      <td>261052</td>\n",
       "      <td>6.0</td>\n",
       "      <td>True</td>\n",
       "      <td>Quito</td>\n",
       "      <td>D</td>\n",
       "      <td>13</td>\n",
       "      <td>GROCERY I</td>\n",
       "      <td>0</td>\n",
       "      <td>NaN</td>\n",
       "      <td>NaN</td>\n",
       "      <td>NaN</td>\n",
       "      <td>45.93</td>\n",
       "    </tr>\n",
       "    <tr>\n",
       "      <td>156</td>\n",
       "      <td>2016-07-15</td>\n",
       "      <td>1</td>\n",
       "      <td>265559</td>\n",
       "      <td>29.0</td>\n",
       "      <td>False</td>\n",
       "      <td>Quito</td>\n",
       "      <td>D</td>\n",
       "      <td>13</td>\n",
       "      <td>GROCERY I</td>\n",
       "      <td>0</td>\n",
       "      <td>NaN</td>\n",
       "      <td>NaN</td>\n",
       "      <td>NaN</td>\n",
       "      <td>45.93</td>\n",
       "    </tr>\n",
       "    <tr>\n",
       "      <td>170</td>\n",
       "      <td>2016-07-15</td>\n",
       "      <td>1</td>\n",
       "      <td>273528</td>\n",
       "      <td>9.0</td>\n",
       "      <td>False</td>\n",
       "      <td>Quito</td>\n",
       "      <td>D</td>\n",
       "      <td>13</td>\n",
       "      <td>PERSONAL CARE</td>\n",
       "      <td>0</td>\n",
       "      <td>NaN</td>\n",
       "      <td>NaN</td>\n",
       "      <td>NaN</td>\n",
       "      <td>45.93</td>\n",
       "    </tr>\n",
       "    <tr>\n",
       "      <td>193</td>\n",
       "      <td>2016-07-15</td>\n",
       "      <td>1</td>\n",
       "      <td>314384</td>\n",
       "      <td>25.0</td>\n",
       "      <td>False</td>\n",
       "      <td>Quito</td>\n",
       "      <td>D</td>\n",
       "      <td>13</td>\n",
       "      <td>GROCERY I</td>\n",
       "      <td>0</td>\n",
       "      <td>NaN</td>\n",
       "      <td>NaN</td>\n",
       "      <td>NaN</td>\n",
       "      <td>45.93</td>\n",
       "    </tr>\n",
       "    <tr>\n",
       "      <td>...</td>\n",
       "      <td>...</td>\n",
       "      <td>...</td>\n",
       "      <td>...</td>\n",
       "      <td>...</td>\n",
       "      <td>...</td>\n",
       "      <td>...</td>\n",
       "      <td>...</td>\n",
       "      <td>...</td>\n",
       "      <td>...</td>\n",
       "      <td>...</td>\n",
       "      <td>...</td>\n",
       "      <td>...</td>\n",
       "      <td>...</td>\n",
       "      <td>...</td>\n",
       "    </tr>\n",
       "    <tr>\n",
       "      <td>3218052</td>\n",
       "      <td>2016-08-15</td>\n",
       "      <td>54</td>\n",
       "      <td>1463810</td>\n",
       "      <td>29.0</td>\n",
       "      <td>False</td>\n",
       "      <td>El Carmen</td>\n",
       "      <td>C</td>\n",
       "      <td>3</td>\n",
       "      <td>BEVERAGES</td>\n",
       "      <td>0</td>\n",
       "      <td>Holiday</td>\n",
       "      <td>Local</td>\n",
       "      <td>False</td>\n",
       "      <td>45.72</td>\n",
       "    </tr>\n",
       "    <tr>\n",
       "      <td>3218053</td>\n",
       "      <td>2016-08-15</td>\n",
       "      <td>54</td>\n",
       "      <td>1463814</td>\n",
       "      <td>5.0</td>\n",
       "      <td>False</td>\n",
       "      <td>El Carmen</td>\n",
       "      <td>C</td>\n",
       "      <td>3</td>\n",
       "      <td>BEVERAGES</td>\n",
       "      <td>0</td>\n",
       "      <td>Holiday</td>\n",
       "      <td>Local</td>\n",
       "      <td>False</td>\n",
       "      <td>45.72</td>\n",
       "    </tr>\n",
       "    <tr>\n",
       "      <td>3218058</td>\n",
       "      <td>2016-08-15</td>\n",
       "      <td>54</td>\n",
       "      <td>1463855</td>\n",
       "      <td>9.0</td>\n",
       "      <td>False</td>\n",
       "      <td>El Carmen</td>\n",
       "      <td>C</td>\n",
       "      <td>3</td>\n",
       "      <td>BEVERAGES</td>\n",
       "      <td>0</td>\n",
       "      <td>Holiday</td>\n",
       "      <td>Local</td>\n",
       "      <td>False</td>\n",
       "      <td>45.72</td>\n",
       "    </tr>\n",
       "    <tr>\n",
       "      <td>3218060</td>\n",
       "      <td>2016-08-15</td>\n",
       "      <td>54</td>\n",
       "      <td>1463860</td>\n",
       "      <td>9.0</td>\n",
       "      <td>False</td>\n",
       "      <td>El Carmen</td>\n",
       "      <td>C</td>\n",
       "      <td>3</td>\n",
       "      <td>BEVERAGES</td>\n",
       "      <td>0</td>\n",
       "      <td>Holiday</td>\n",
       "      <td>Local</td>\n",
       "      <td>False</td>\n",
       "      <td>45.72</td>\n",
       "    </tr>\n",
       "    <tr>\n",
       "      <td>3218223</td>\n",
       "      <td>2016-08-15</td>\n",
       "      <td>54</td>\n",
       "      <td>1958216</td>\n",
       "      <td>44.0</td>\n",
       "      <td>False</td>\n",
       "      <td>El Carmen</td>\n",
       "      <td>C</td>\n",
       "      <td>3</td>\n",
       "      <td>BEVERAGES</td>\n",
       "      <td>0</td>\n",
       "      <td>Holiday</td>\n",
       "      <td>Local</td>\n",
       "      <td>False</td>\n",
       "      <td>45.72</td>\n",
       "    </tr>\n",
       "  </tbody>\n",
       "</table>\n",
       "<p>34678 rows × 14 columns</p>\n",
       "</div>"
      ],
      "text/plain": [
       "               date  store_nbr  item_nbr  unit_sales onpromotion       city  \\\n",
       "119      2016-07-15          1    222879         9.0       False      Quito   \n",
       "142      2016-07-15          1    261052         6.0        True      Quito   \n",
       "156      2016-07-15          1    265559        29.0       False      Quito   \n",
       "170      2016-07-15          1    273528         9.0       False      Quito   \n",
       "193      2016-07-15          1    314384        25.0       False      Quito   \n",
       "...             ...        ...       ...         ...         ...        ...   \n",
       "3218052  2016-08-15         54   1463810        29.0       False  El Carmen   \n",
       "3218053  2016-08-15         54   1463814         5.0       False  El Carmen   \n",
       "3218058  2016-08-15         54   1463855         9.0       False  El Carmen   \n",
       "3218060  2016-08-15         54   1463860         9.0       False  El Carmen   \n",
       "3218223  2016-08-15         54   1958216        44.0       False  El Carmen   \n",
       "\n",
       "        type_x  cluster         family  perishable   type_y locale  \\\n",
       "119          D       13      GROCERY I           0      NaN    NaN   \n",
       "142          D       13      GROCERY I           0      NaN    NaN   \n",
       "156          D       13      GROCERY I           0      NaN    NaN   \n",
       "170          D       13  PERSONAL CARE           0      NaN    NaN   \n",
       "193          D       13      GROCERY I           0      NaN    NaN   \n",
       "...        ...      ...            ...         ...      ...    ...   \n",
       "3218052      C        3      BEVERAGES           0  Holiday  Local   \n",
       "3218053      C        3      BEVERAGES           0  Holiday  Local   \n",
       "3218058      C        3      BEVERAGES           0  Holiday  Local   \n",
       "3218060      C        3      BEVERAGES           0  Holiday  Local   \n",
       "3218223      C        3      BEVERAGES           0  Holiday  Local   \n",
       "\n",
       "        transferred  dcoilwtico  \n",
       "119             NaN       45.93  \n",
       "142             NaN       45.93  \n",
       "156             NaN       45.93  \n",
       "170             NaN       45.93  \n",
       "193             NaN       45.93  \n",
       "...             ...         ...  \n",
       "3218052       False       45.72  \n",
       "3218053       False       45.72  \n",
       "3218058       False       45.72  \n",
       "3218060       False       45.72  \n",
       "3218223       False       45.72  \n",
       "\n",
       "[34678 rows x 14 columns]"
      ]
     },
     "execution_count": 24,
     "metadata": {},
     "output_type": "execute_result"
    }
   ],
   "source": [
    "Salesdf_filtered"
   ]
  },
  {
   "cell_type": "code",
   "execution_count": 25,
   "metadata": {},
   "outputs": [
    {
     "name": "stdout",
     "output_type": "stream",
     "text": [
      "Shape :  (34678, 14) \n",
      "\n",
      "Type :  \n",
      " date            object\n",
      "store_nbr        int64\n",
      "item_nbr         int64\n",
      "unit_sales     float64\n",
      "onpromotion     object\n",
      "city            object\n",
      "type_x          object\n",
      "cluster          int64\n",
      "family          object\n",
      "perishable       int64\n",
      "type_y          object\n",
      "locale          object\n",
      "transferred     object\n",
      "dcoilwtico     float64\n",
      "dtype: object\n"
     ]
    }
   ],
   "source": [
    "print('Shape : ', Salesdf_filtered.shape, '\\n')\n",
    "\n",
    "#Type\n",
    "print('Type : ', '\\n', Salesdf_filtered.dtypes)"
   ]
  },
  {
   "cell_type": "code",
   "execution_count": 26,
   "metadata": {},
   "outputs": [
    {
     "name": "stdout",
     "output_type": "stream",
     "text": [
      "Size of na_index_Salesdf :  26267 \n",
      "\n"
     ]
    },
    {
     "data": {
      "text/plain": [
       "date           0\n",
       "store_nbr      0\n",
       "item_nbr       0\n",
       "unit_sales     0\n",
       "onpromotion    0\n",
       "city           0\n",
       "type_x         0\n",
       "cluster        0\n",
       "family         0\n",
       "perishable     0\n",
       "type_y         0\n",
       "locale         0\n",
       "transferred    0\n",
       "dcoilwtico     0\n",
       "dtype: int64"
      ]
     },
     "execution_count": 26,
     "metadata": {},
     "output_type": "execute_result"
    }
   ],
   "source": [
    "#Fill in cells if there is no holiday by the value : \"no_holyday\"\n",
    "na_index_Salesdf = Salesdf_filtered[Salesdf_filtered['type_y'].isnull() == True].index.values\n",
    "print(\"Size of na_index_Salesdf : \", len(na_index_Salesdf), '\\n')\n",
    "\n",
    "Salesdf_filtered.loc[Salesdf_filtered['type_y'].isnull(), 'type_y'] = \"no_holyday\"\n",
    "Salesdf_filtered.loc[Salesdf_filtered['locale'].isnull(), 'locale'] = \"no_locale\"\n",
    "Salesdf_filtered.loc[Salesdf_filtered['transferred'].isnull(), 'transferred'] = \"no_holyday\"\n",
    "    \n",
    "#check is there is NA\n",
    "Salesdf_filtered.isnull().sum()"
   ]
  },
  {
   "cell_type": "code",
   "execution_count": 27,
   "metadata": {},
   "outputs": [],
   "source": [
    "strain_plots = Salesdf_filtered.sample(frac=0.01,replace=True)"
   ]
  },
  {
   "cell_type": "code",
   "execution_count": 28,
   "metadata": {},
   "outputs": [
    {
     "data": {
      "text/plain": [
       "<matplotlib.axes._subplots.AxesSubplot at 0x7f2f67e7df98>"
      ]
     },
     "execution_count": 28,
     "metadata": {},
     "output_type": "execute_result"
    },
    {
     "data": {
      "image/png": "[encoded data removed]",
      "text/plain": [
       "<Figure size 6480x864 with 1 Axes>"
      ]
     },
     "metadata": {
      "needs_background": "light"
     },
     "output_type": "display_data"
    }
   ],
   "source": [
    "fig, (axis1) = plt.subplots(1,1,figsize=(90,12))\n",
    "sns.barplot(x='dcoilwtico', y='unit_sales', data=strain_plots, ax=axis1)\n"
   ]
  },
  {
   "cell_type": "markdown",
   "metadata": {},
   "source": [
    "## The above plot shows unit_sales for different oil prices.\n",
    "#### We can see that small change in oil price varies unit_sales drastically, which leads to Variance_Inflation_Factor which we will see further."
   ]
  },
  {
   "cell_type": "code",
   "execution_count": 29,
   "metadata": {},
   "outputs": [
    {
     "data": {
      "text/plain": [
       "<matplotlib.axes._subplots.AxesSubplot at 0x7f2f67eb7160>"
      ]
     },
     "execution_count": 29,
     "metadata": {},
     "output_type": "execute_result"
    },
    {
     "data": {
      "image/png": "[encoded data removed]",
      "text/plain": [
       "<Figure size 6480x864 with 1 Axes>"
      ]
     },
     "metadata": {
      "needs_background": "light"
     },
     "output_type": "display_data"
    }
   ],
   "source": [
    "fig, (axis1) = plt.subplots(1,1,figsize=(90,12))\n",
    "sns.barplot(x='type_x', y='unit_sales', data=strain_plots, ax=axis1)"
   ]
  },
  {
   "cell_type": "markdown",
   "metadata": {},
   "source": [
    "## The above plot shows unit_sales for different store types."
   ]
  },
  {
   "cell_type": "code",
   "execution_count": 30,
   "metadata": {},
   "outputs": [
    {
     "data": {
      "text/plain": [
       "<matplotlib.axes._subplots.AxesSubplot at 0x7f2f67da87b8>"
      ]
     },
     "execution_count": 30,
     "metadata": {},
     "output_type": "execute_result"
    },
    {
     "data": {
      "image/png": "[encoded data removed]",
      "text/plain": [
       "<Figure size 6480x864 with 1 Axes>"
      ]
     },
     "metadata": {
      "needs_background": "light"
     },
     "output_type": "display_data"
    }
   ],
   "source": [
    "fig, (axis1) = plt.subplots(1,1,figsize=(90,12))\n",
    "sns.barplot(x='type_y', y='unit_sales', data=strain_plots[0:100], ax=axis1)"
   ]
  },
  {
   "cell_type": "markdown",
   "metadata": {},
   "source": [
    "## The above plot shows unit_sales for different Holiday types."
   ]
  },
  {
   "cell_type": "code",
   "execution_count": 31,
   "metadata": {},
   "outputs": [
    {
     "data": {
      "text/plain": [
       "<matplotlib.axes._subplots.AxesSubplot at 0x7f2fa4631b00>"
      ]
     },
     "execution_count": 31,
     "metadata": {},
     "output_type": "execute_result"
    },
    {
     "data": {
      "image/png": "[encoded data removed]",
      "text/plain": [
       "<Figure size 6480x864 with 1 Axes>"
      ]
     },
     "metadata": {
      "needs_background": "light"
     },
     "output_type": "display_data"
    }
   ],
   "source": [
    "fig, (axis1) = plt.subplots(1,1,figsize=(90,12))\n",
    "sns.barplot(x='family', y='unit_sales', data=strain_plots[0:100], ax=axis1)"
   ]
  },
  {
   "cell_type": "markdown",
   "metadata": {},
   "source": [
    "## The above plot shows unit_sales for different family of products."
   ]
  },
  {
   "cell_type": "code",
   "execution_count": 32,
   "metadata": {},
   "outputs": [],
   "source": [
    "def get_month_year(df):\n",
    "    df['month'] = df.date.apply(lambda x: x.split('-')[1])\n",
    "    df['year'] = df.date.apply(lambda x: x.split('-')[0])\n",
    "    \n",
    "    return df\n",
    "\n",
    "get_month_year(Salesdf_filtered);"
   ]
  },
  {
   "cell_type": "code",
   "execution_count": 33,
   "metadata": {},
   "outputs": [],
   "source": [
    "Salesdf_filtered['date'] = pd.to_datetime(Salesdf_filtered['date'])\n",
    "Salesdf_filtered['day'] = Salesdf_filtered['date'].dt.weekday_name\n",
    "Salesdf_filtered = Salesdf_filtered.drop('date', axis=1)"
   ]
  },
  {
   "cell_type": "code",
   "execution_count": 34,
   "metadata": {},
   "outputs": [
    {
     "data": {
      "text/html": [
       "<div>\n",
       "<style scoped>\n",
       "    .dataframe tbody tr th:only-of-type {\n",
       "        vertical-align: middle;\n",
       "    }\n",
       "\n",
       "    .dataframe tbody tr th {\n",
       "        vertical-align: top;\n",
       "    }\n",
       "\n",
       "    .dataframe thead th {\n",
       "        text-align: right;\n",
       "    }\n",
       "</style>\n",
       "<table border=\"1\" class=\"dataframe\">\n",
       "  <thead>\n",
       "    <tr style=\"text-align: right;\">\n",
       "      <th></th>\n",
       "      <th>store_nbr</th>\n",
       "      <th>item_nbr</th>\n",
       "      <th>unit_sales</th>\n",
       "      <th>onpromotion</th>\n",
       "      <th>city</th>\n",
       "      <th>type_x</th>\n",
       "      <th>cluster</th>\n",
       "      <th>family</th>\n",
       "      <th>perishable</th>\n",
       "      <th>type_y</th>\n",
       "      <th>locale</th>\n",
       "      <th>transferred</th>\n",
       "      <th>dcoilwtico</th>\n",
       "      <th>month</th>\n",
       "      <th>year</th>\n",
       "      <th>day</th>\n",
       "    </tr>\n",
       "  </thead>\n",
       "  <tbody>\n",
       "    <tr>\n",
       "      <td>2370157</td>\n",
       "      <td>11</td>\n",
       "      <td>1463855</td>\n",
       "      <td>26.0</td>\n",
       "      <td>False</td>\n",
       "      <td>Cayambe</td>\n",
       "      <td>B</td>\n",
       "      <td>6</td>\n",
       "      <td>BEVERAGES</td>\n",
       "      <td>0</td>\n",
       "      <td>no_holyday</td>\n",
       "      <td>no_locale</td>\n",
       "      <td>no_holyday</td>\n",
       "      <td>42.7525</td>\n",
       "      <td>08</td>\n",
       "      <td>2016</td>\n",
       "      <td>Sunday</td>\n",
       "    </tr>\n",
       "    <tr>\n",
       "      <td>1421332</td>\n",
       "      <td>42</td>\n",
       "      <td>273528</td>\n",
       "      <td>4.0</td>\n",
       "      <td>False</td>\n",
       "      <td>Cuenca</td>\n",
       "      <td>D</td>\n",
       "      <td>2</td>\n",
       "      <td>PERSONAL CARE</td>\n",
       "      <td>0</td>\n",
       "      <td>no_holyday</td>\n",
       "      <td>no_locale</td>\n",
       "      <td>no_holyday</td>\n",
       "      <td>41.1300</td>\n",
       "      <td>07</td>\n",
       "      <td>2016</td>\n",
       "      <td>Thursday</td>\n",
       "    </tr>\n",
       "    <tr>\n",
       "      <td>2199651</td>\n",
       "      <td>30</td>\n",
       "      <td>265559</td>\n",
       "      <td>23.0</td>\n",
       "      <td>False</td>\n",
       "      <td>Guayaquil</td>\n",
       "      <td>C</td>\n",
       "      <td>3</td>\n",
       "      <td>GROCERY I</td>\n",
       "      <td>0</td>\n",
       "      <td>Holiday</td>\n",
       "      <td>Local</td>\n",
       "      <td>False</td>\n",
       "      <td>41.8300</td>\n",
       "      <td>08</td>\n",
       "      <td>2016</td>\n",
       "      <td>Friday</td>\n",
       "    </tr>\n",
       "    <tr>\n",
       "      <td>546865</td>\n",
       "      <td>34</td>\n",
       "      <td>364606</td>\n",
       "      <td>25.0</td>\n",
       "      <td>False</td>\n",
       "      <td>Guayaquil</td>\n",
       "      <td>B</td>\n",
       "      <td>6</td>\n",
       "      <td>GROCERY I</td>\n",
       "      <td>0</td>\n",
       "      <td>no_holyday</td>\n",
       "      <td>no_locale</td>\n",
       "      <td>no_holyday</td>\n",
       "      <td>44.9600</td>\n",
       "      <td>07</td>\n",
       "      <td>2016</td>\n",
       "      <td>Wednesday</td>\n",
       "    </tr>\n",
       "    <tr>\n",
       "      <td>1474956</td>\n",
       "      <td>17</td>\n",
       "      <td>273528</td>\n",
       "      <td>11.0</td>\n",
       "      <td>False</td>\n",
       "      <td>Quito</td>\n",
       "      <td>C</td>\n",
       "      <td>12</td>\n",
       "      <td>PERSONAL CARE</td>\n",
       "      <td>0</td>\n",
       "      <td>no_holyday</td>\n",
       "      <td>no_locale</td>\n",
       "      <td>no_holyday</td>\n",
       "      <td>41.5400</td>\n",
       "      <td>07</td>\n",
       "      <td>2016</td>\n",
       "      <td>Friday</td>\n",
       "    </tr>\n",
       "    <tr>\n",
       "      <td>1780825</td>\n",
       "      <td>15</td>\n",
       "      <td>1036689</td>\n",
       "      <td>4.0</td>\n",
       "      <td>False</td>\n",
       "      <td>Ibarra</td>\n",
       "      <td>C</td>\n",
       "      <td>15</td>\n",
       "      <td>GROCERY I</td>\n",
       "      <td>0</td>\n",
       "      <td>no_holyday</td>\n",
       "      <td>no_locale</td>\n",
       "      <td>no_holyday</td>\n",
       "      <td>40.0500</td>\n",
       "      <td>08</td>\n",
       "      <td>2016</td>\n",
       "      <td>Monday</td>\n",
       "    </tr>\n",
       "    <tr>\n",
       "      <td>1216036</td>\n",
       "      <td>28</td>\n",
       "      <td>222879</td>\n",
       "      <td>17.0</td>\n",
       "      <td>False</td>\n",
       "      <td>Guayaquil</td>\n",
       "      <td>E</td>\n",
       "      <td>10</td>\n",
       "      <td>GROCERY I</td>\n",
       "      <td>0</td>\n",
       "      <td>no_holyday</td>\n",
       "      <td>no_locale</td>\n",
       "      <td>no_holyday</td>\n",
       "      <td>42.1600</td>\n",
       "      <td>07</td>\n",
       "      <td>2016</td>\n",
       "      <td>Tuesday</td>\n",
       "    </tr>\n",
       "    <tr>\n",
       "      <td>1870043</td>\n",
       "      <td>8</td>\n",
       "      <td>261052</td>\n",
       "      <td>7.0</td>\n",
       "      <td>True</td>\n",
       "      <td>Quito</td>\n",
       "      <td>D</td>\n",
       "      <td>8</td>\n",
       "      <td>GROCERY I</td>\n",
       "      <td>0</td>\n",
       "      <td>no_holyday</td>\n",
       "      <td>no_locale</td>\n",
       "      <td>no_holyday</td>\n",
       "      <td>39.5000</td>\n",
       "      <td>08</td>\n",
       "      <td>2016</td>\n",
       "      <td>Tuesday</td>\n",
       "    </tr>\n",
       "    <tr>\n",
       "      <td>1492451</td>\n",
       "      <td>27</td>\n",
       "      <td>1958216</td>\n",
       "      <td>78.0</td>\n",
       "      <td>False</td>\n",
       "      <td>Daule</td>\n",
       "      <td>D</td>\n",
       "      <td>1</td>\n",
       "      <td>BEVERAGES</td>\n",
       "      <td>0</td>\n",
       "      <td>no_holyday</td>\n",
       "      <td>no_locale</td>\n",
       "      <td>no_holyday</td>\n",
       "      <td>41.5400</td>\n",
       "      <td>07</td>\n",
       "      <td>2016</td>\n",
       "      <td>Friday</td>\n",
       "    </tr>\n",
       "    <tr>\n",
       "      <td>2714439</td>\n",
       "      <td>44</td>\n",
       "      <td>1463810</td>\n",
       "      <td>122.0</td>\n",
       "      <td>False</td>\n",
       "      <td>Quito</td>\n",
       "      <td>A</td>\n",
       "      <td>5</td>\n",
       "      <td>BEVERAGES</td>\n",
       "      <td>0</td>\n",
       "      <td>Holiday</td>\n",
       "      <td>National</td>\n",
       "      <td>True</td>\n",
       "      <td>41.7500</td>\n",
       "      <td>08</td>\n",
       "      <td>2016</td>\n",
       "      <td>Wednesday</td>\n",
       "    </tr>\n",
       "  </tbody>\n",
       "</table>\n",
       "</div>"
      ],
      "text/plain": [
       "         store_nbr  item_nbr  unit_sales onpromotion       city type_x  \\\n",
       "2370157         11   1463855        26.0       False    Cayambe      B   \n",
       "1421332         42    273528         4.0       False     Cuenca      D   \n",
       "2199651         30    265559        23.0       False  Guayaquil      C   \n",
       "546865          34    364606        25.0       False  Guayaquil      B   \n",
       "1474956         17    273528        11.0       False      Quito      C   \n",
       "1780825         15   1036689         4.0       False     Ibarra      C   \n",
       "1216036         28    222879        17.0       False  Guayaquil      E   \n",
       "1870043          8    261052         7.0        True      Quito      D   \n",
       "1492451         27   1958216        78.0       False      Daule      D   \n",
       "2714439         44   1463810       122.0       False      Quito      A   \n",
       "\n",
       "         cluster         family  perishable      type_y     locale  \\\n",
       "2370157        6      BEVERAGES           0  no_holyday  no_locale   \n",
       "1421332        2  PERSONAL CARE           0  no_holyday  no_locale   \n",
       "2199651        3      GROCERY I           0     Holiday      Local   \n",
       "546865         6      GROCERY I           0  no_holyday  no_locale   \n",
       "1474956       12  PERSONAL CARE           0  no_holyday  no_locale   \n",
       "1780825       15      GROCERY I           0  no_holyday  no_locale   \n",
       "1216036       10      GROCERY I           0  no_holyday  no_locale   \n",
       "1870043        8      GROCERY I           0  no_holyday  no_locale   \n",
       "1492451        1      BEVERAGES           0  no_holyday  no_locale   \n",
       "2714439        5      BEVERAGES           0     Holiday   National   \n",
       "\n",
       "        transferred  dcoilwtico month  year        day  \n",
       "2370157  no_holyday     42.7525    08  2016     Sunday  \n",
       "1421332  no_holyday     41.1300    07  2016   Thursday  \n",
       "2199651       False     41.8300    08  2016     Friday  \n",
       "546865   no_holyday     44.9600    07  2016  Wednesday  \n",
       "1474956  no_holyday     41.5400    07  2016     Friday  \n",
       "1780825  no_holyday     40.0500    08  2016     Monday  \n",
       "1216036  no_holyday     42.1600    07  2016    Tuesday  \n",
       "1870043  no_holyday     39.5000    08  2016    Tuesday  \n",
       "1492451  no_holyday     41.5400    07  2016     Friday  \n",
       "2714439        True     41.7500    08  2016  Wednesday  "
      ]
     },
     "execution_count": 34,
     "metadata": {},
     "output_type": "execute_result"
    }
   ],
   "source": [
    "Salesdf_filtered.sample(10)"
   ]
  },
  {
   "cell_type": "markdown",
   "metadata": {},
   "source": [
    "# Exploratory Data Analysis"
   ]
  },
  {
   "cell_type": "code",
   "execution_count": 35,
   "metadata": {},
   "outputs": [
    {
     "data": {
      "text/html": [
       "<div>\n",
       "<style scoped>\n",
       "    .dataframe tbody tr th:only-of-type {\n",
       "        vertical-align: middle;\n",
       "    }\n",
       "\n",
       "    .dataframe tbody tr th {\n",
       "        vertical-align: top;\n",
       "    }\n",
       "\n",
       "    .dataframe thead th {\n",
       "        text-align: right;\n",
       "    }\n",
       "</style>\n",
       "<table border=\"1\" class=\"dataframe\">\n",
       "  <thead>\n",
       "    <tr style=\"text-align: right;\">\n",
       "      <th></th>\n",
       "      <th>date</th>\n",
       "      <th>store_nbr</th>\n",
       "      <th>item_nbr</th>\n",
       "      <th>unit_sales</th>\n",
       "      <th>onpromotion</th>\n",
       "      <th>city</th>\n",
       "      <th>type_x</th>\n",
       "      <th>cluster</th>\n",
       "      <th>family</th>\n",
       "      <th>perishable</th>\n",
       "      <th>type_y</th>\n",
       "      <th>locale</th>\n",
       "      <th>transferred</th>\n",
       "      <th>dcoilwtico</th>\n",
       "    </tr>\n",
       "  </thead>\n",
       "  <tbody>\n",
       "    <tr>\n",
       "      <td>1964983</td>\n",
       "      <td>2016-08-03</td>\n",
       "      <td>5</td>\n",
       "      <td>1473482</td>\n",
       "      <td>37.070</td>\n",
       "      <td>True</td>\n",
       "      <td>Santo Domingo</td>\n",
       "      <td>D</td>\n",
       "      <td>4</td>\n",
       "      <td>PRODUCE</td>\n",
       "      <td>1</td>\n",
       "      <td>NaN</td>\n",
       "      <td>NaN</td>\n",
       "      <td>NaN</td>\n",
       "      <td>40.8000</td>\n",
       "    </tr>\n",
       "    <tr>\n",
       "      <td>2996879</td>\n",
       "      <td>2016-08-13</td>\n",
       "      <td>42</td>\n",
       "      <td>364606</td>\n",
       "      <td>28.000</td>\n",
       "      <td>False</td>\n",
       "      <td>Cuenca</td>\n",
       "      <td>D</td>\n",
       "      <td>2</td>\n",
       "      <td>GROCERY I</td>\n",
       "      <td>0</td>\n",
       "      <td>NaN</td>\n",
       "      <td>NaN</td>\n",
       "      <td>NaN</td>\n",
       "      <td>45.0950</td>\n",
       "    </tr>\n",
       "    <tr>\n",
       "      <td>2791146</td>\n",
       "      <td>2016-08-11</td>\n",
       "      <td>35</td>\n",
       "      <td>414750</td>\n",
       "      <td>2.000</td>\n",
       "      <td>False</td>\n",
       "      <td>Playas</td>\n",
       "      <td>C</td>\n",
       "      <td>3</td>\n",
       "      <td>GROCERY I</td>\n",
       "      <td>0</td>\n",
       "      <td>NaN</td>\n",
       "      <td>NaN</td>\n",
       "      <td>NaN</td>\n",
       "      <td>43.5100</td>\n",
       "    </tr>\n",
       "    <tr>\n",
       "      <td>912037</td>\n",
       "      <td>2016-07-24</td>\n",
       "      <td>9</td>\n",
       "      <td>1965358</td>\n",
       "      <td>1.000</td>\n",
       "      <td>True</td>\n",
       "      <td>Quito</td>\n",
       "      <td>B</td>\n",
       "      <td>6</td>\n",
       "      <td>BEAUTY</td>\n",
       "      <td>0</td>\n",
       "      <td>Additional</td>\n",
       "      <td>Local</td>\n",
       "      <td>False</td>\n",
       "      <td>42.6525</td>\n",
       "    </tr>\n",
       "    <tr>\n",
       "      <td>3131859</td>\n",
       "      <td>2016-08-15</td>\n",
       "      <td>5</td>\n",
       "      <td>1333307</td>\n",
       "      <td>20.000</td>\n",
       "      <td>True</td>\n",
       "      <td>Santo Domingo</td>\n",
       "      <td>D</td>\n",
       "      <td>4</td>\n",
       "      <td>BREAD/BAKERY</td>\n",
       "      <td>1</td>\n",
       "      <td>Holiday</td>\n",
       "      <td>Local</td>\n",
       "      <td>False</td>\n",
       "      <td>45.7200</td>\n",
       "    </tr>\n",
       "    <tr>\n",
       "      <td>...</td>\n",
       "      <td>...</td>\n",
       "      <td>...</td>\n",
       "      <td>...</td>\n",
       "      <td>...</td>\n",
       "      <td>...</td>\n",
       "      <td>...</td>\n",
       "      <td>...</td>\n",
       "      <td>...</td>\n",
       "      <td>...</td>\n",
       "      <td>...</td>\n",
       "      <td>...</td>\n",
       "      <td>...</td>\n",
       "      <td>...</td>\n",
       "      <td>...</td>\n",
       "    </tr>\n",
       "    <tr>\n",
       "      <td>671020</td>\n",
       "      <td>2016-07-21</td>\n",
       "      <td>50</td>\n",
       "      <td>1084425</td>\n",
       "      <td>3.000</td>\n",
       "      <td>False</td>\n",
       "      <td>Ambato</td>\n",
       "      <td>A</td>\n",
       "      <td>14</td>\n",
       "      <td>BEVERAGES</td>\n",
       "      <td>0</td>\n",
       "      <td>NaN</td>\n",
       "      <td>NaN</td>\n",
       "      <td>NaN</td>\n",
       "      <td>43.9600</td>\n",
       "    </tr>\n",
       "    <tr>\n",
       "      <td>1693927</td>\n",
       "      <td>2016-07-31</td>\n",
       "      <td>25</td>\n",
       "      <td>1920072</td>\n",
       "      <td>1.000</td>\n",
       "      <td>True</td>\n",
       "      <td>Salinas</td>\n",
       "      <td>D</td>\n",
       "      <td>1</td>\n",
       "      <td>GROCERY I</td>\n",
       "      <td>0</td>\n",
       "      <td>NaN</td>\n",
       "      <td>NaN</td>\n",
       "      <td>NaN</td>\n",
       "      <td>40.4225</td>\n",
       "    </tr>\n",
       "    <tr>\n",
       "      <td>3144540</td>\n",
       "      <td>2016-08-15</td>\n",
       "      <td>11</td>\n",
       "      <td>1695935</td>\n",
       "      <td>1.305</td>\n",
       "      <td>False</td>\n",
       "      <td>Cayambe</td>\n",
       "      <td>B</td>\n",
       "      <td>6</td>\n",
       "      <td>PRODUCE</td>\n",
       "      <td>1</td>\n",
       "      <td>Holiday</td>\n",
       "      <td>Local</td>\n",
       "      <td>False</td>\n",
       "      <td>45.7200</td>\n",
       "    </tr>\n",
       "    <tr>\n",
       "      <td>908650</td>\n",
       "      <td>2016-07-24</td>\n",
       "      <td>9</td>\n",
       "      <td>368136</td>\n",
       "      <td>6.000</td>\n",
       "      <td>False</td>\n",
       "      <td>Quito</td>\n",
       "      <td>B</td>\n",
       "      <td>6</td>\n",
       "      <td>GROCERY I</td>\n",
       "      <td>0</td>\n",
       "      <td>Transfer</td>\n",
       "      <td>Local</td>\n",
       "      <td>False</td>\n",
       "      <td>42.6525</td>\n",
       "    </tr>\n",
       "    <tr>\n",
       "      <td>2930343</td>\n",
       "      <td>2016-08-13</td>\n",
       "      <td>3</td>\n",
       "      <td>850334</td>\n",
       "      <td>2.000</td>\n",
       "      <td>False</td>\n",
       "      <td>Quito</td>\n",
       "      <td>D</td>\n",
       "      <td>8</td>\n",
       "      <td>GROCERY I</td>\n",
       "      <td>0</td>\n",
       "      <td>NaN</td>\n",
       "      <td>NaN</td>\n",
       "      <td>NaN</td>\n",
       "      <td>45.0950</td>\n",
       "    </tr>\n",
       "  </tbody>\n",
       "</table>\n",
       "<p>32183 rows × 14 columns</p>\n",
       "</div>"
      ],
      "text/plain": [
       "               date  store_nbr  item_nbr  unit_sales onpromotion  \\\n",
       "1964983  2016-08-03          5   1473482      37.070        True   \n",
       "2996879  2016-08-13         42    364606      28.000       False   \n",
       "2791146  2016-08-11         35    414750       2.000       False   \n",
       "912037   2016-07-24          9   1965358       1.000        True   \n",
       "3131859  2016-08-15          5   1333307      20.000        True   \n",
       "...             ...        ...       ...         ...         ...   \n",
       "671020   2016-07-21         50   1084425       3.000       False   \n",
       "1693927  2016-07-31         25   1920072       1.000        True   \n",
       "3144540  2016-08-15         11   1695935       1.305       False   \n",
       "908650   2016-07-24          9    368136       6.000       False   \n",
       "2930343  2016-08-13          3    850334       2.000       False   \n",
       "\n",
       "                  city type_x  cluster        family  perishable      type_y  \\\n",
       "1964983  Santo Domingo      D        4       PRODUCE           1         NaN   \n",
       "2996879         Cuenca      D        2     GROCERY I           0         NaN   \n",
       "2791146         Playas      C        3     GROCERY I           0         NaN   \n",
       "912037           Quito      B        6        BEAUTY           0  Additional   \n",
       "3131859  Santo Domingo      D        4  BREAD/BAKERY           1     Holiday   \n",
       "...                ...    ...      ...           ...         ...         ...   \n",
       "671020          Ambato      A       14     BEVERAGES           0         NaN   \n",
       "1693927        Salinas      D        1     GROCERY I           0         NaN   \n",
       "3144540        Cayambe      B        6       PRODUCE           1     Holiday   \n",
       "908650           Quito      B        6     GROCERY I           0    Transfer   \n",
       "2930343          Quito      D        8     GROCERY I           0         NaN   \n",
       "\n",
       "        locale transferred  dcoilwtico  \n",
       "1964983    NaN         NaN     40.8000  \n",
       "2996879    NaN         NaN     45.0950  \n",
       "2791146    NaN         NaN     43.5100  \n",
       "912037   Local       False     42.6525  \n",
       "3131859  Local       False     45.7200  \n",
       "...        ...         ...         ...  \n",
       "671020     NaN         NaN     43.9600  \n",
       "1693927    NaN         NaN     40.4225  \n",
       "3144540  Local       False     45.7200  \n",
       "908650   Local       False     42.6525  \n",
       "2930343    NaN         NaN     45.0950  \n",
       "\n",
       "[32183 rows x 14 columns]"
      ]
     },
     "execution_count": 35,
     "metadata": {},
     "output_type": "execute_result"
    }
   ],
   "source": [
    "strain = Salesdf.sample(frac=0.01,replace=True)\n",
    "strain"
   ]
  },
  {
   "cell_type": "code",
   "execution_count": 36,
   "metadata": {},
   "outputs": [
    {
     "data": {
      "text/plain": [
       "<matplotlib.axes._subplots.AxesSubplot at 0x7f2f678369b0>"
      ]
     },
     "execution_count": 36,
     "metadata": {},
     "output_type": "execute_result"
    },
    {
     "data": {
      "image/png": "[encoded data removed]",
      "text/plain": [
       "<Figure size 6480x864 with 1 Axes>"
      ]
     },
     "metadata": {
      "needs_background": "light"
     },
     "output_type": "display_data"
    }
   ],
   "source": [
    "# Plotting Sales per Item Family\n",
    "fig, (axis1) = plt.subplots(1,1,figsize=(90,12))\n",
    "sns.barplot(x='family', y='unit_sales', data=strain, ax=axis1)"
   ]
  },
  {
   "cell_type": "markdown",
   "metadata": {},
   "source": [
    "## The above plot shows the sales of products per Item family. The average unit_sales ranges somewhere between 0 to 20 with the maximum for the Food and Beverages item family."
   ]
  },
  {
   "cell_type": "code",
   "execution_count": 37,
   "metadata": {},
   "outputs": [
    {
     "data": {
      "text/plain": [
       "<matplotlib.axes._subplots.AxesSubplot at 0x7f2f676cf6d8>"
      ]
     },
     "execution_count": 37,
     "metadata": {},
     "output_type": "execute_result"
    },
    {
     "data": {
      "image/png": "[encoded data removed]",
      "text/plain": [
       "<Figure size 1080x288 with 1 Axes>"
      ]
     },
     "metadata": {
      "needs_background": "light"
     },
     "output_type": "display_data"
    }
   ],
   "source": [
    "# Plotting Sales per Store Type\n",
    "fig, (axis1) = plt.subplots(1,1,figsize=(15,4))\n",
    "sns.barplot(x='type_x', y='unit_sales', data=strain, ax=axis1)"
   ]
  },
  {
   "cell_type": "markdown",
   "metadata": {},
   "source": [
    "## The bar plot of Total Sales per store type shows that Store type A has the maximum sales over other store types."
   ]
  },
  {
   "cell_type": "code",
   "execution_count": 38,
   "metadata": {},
   "outputs": [
    {
     "data": {
      "text/plain": [
       "<matplotlib.axes._subplots.AxesSubplot at 0x7f2f676ae470>"
      ]
     },
     "execution_count": 38,
     "metadata": {},
     "output_type": "execute_result"
    },
    {
     "data": {
      "image/png": "[encoded data removed]",
      "text/plain": [
       "<Figure size 2160x288 with 1 Axes>"
      ]
     },
     "metadata": {
      "needs_background": "light"
     },
     "output_type": "display_data"
    }
   ],
   "source": [
    "# Plotting Stores in Cities\n",
    "fig, (axis1) = plt.subplots(1,1,figsize=(30,4))\n",
    "sns.countplot(x=stores['city'], data=stores, ax=axis1)"
   ]
  },
  {
   "cell_type": "markdown",
   "metadata": {},
   "source": [
    "## The City of Quito has the most number of Stores and the second being the city of Guayaquil."
   ]
  },
  {
   "cell_type": "code",
   "execution_count": 39,
   "metadata": {},
   "outputs": [
    {
     "data": {
      "text/plain": [
       "<matplotlib.axes._subplots.AxesSubplot at 0x7f2f675826d8>"
      ]
     },
     "execution_count": 39,
     "metadata": {},
     "output_type": "execute_result"
    },
    {
     "data": {
      "image/png": "[encoded data removed]",
      "text/plain": [
       "<Figure size 2160x288 with 1 Axes>"
      ]
     },
     "metadata": {
      "needs_background": "light"
     },
     "output_type": "display_data"
    }
   ],
   "source": [
    "# Plotting Stores in States\n",
    "fig, (axis1) = plt.subplots(1,1,figsize=(30,4))\n",
    "sns.countplot(x=stores['state'], data=stores, ax=axis1)"
   ]
  },
  {
   "cell_type": "markdown",
   "metadata": {},
   "source": [
    "## The States of Pichincha Santo and the state of Guayas has the most number of Stores."
   ]
  },
  {
   "cell_type": "code",
   "execution_count": 40,
   "metadata": {},
   "outputs": [
    {
     "data": {
      "image/png": "[encoded data removed]",
      "text/plain": [
       "<Figure size 936x792 with 1 Axes>"
      ]
     },
     "metadata": {},
     "output_type": "display_data"
    }
   ],
   "source": [
    "# Stacked Barplots of Types against clusters\n",
    "plt.style.use('seaborn-white')\n",
    "#plt.style.use('dark_background')\n",
    "type_cluster = stores.groupby(['type','cluster']).size()\n",
    "type_cluster.unstack().plot(kind='bar',stacked=True, colormap= 'PuBu', figsize=(13,11),  grid=False)\n",
    "plt.title('Stacked Barplot of Store types and their cluster distribution', fontsize=18)\n",
    "plt.ylabel('Count of clusters in a particular store type', fontsize=16)\n",
    "plt.xlabel('Store type', fontsize=16)\n",
    "plt.show()"
   ]
  },
  {
   "cell_type": "markdown",
   "metadata": {},
   "source": [
    "# The above bar plot shows the cluster distribution across the store types."
   ]
  },
  {
   "cell_type": "code",
   "execution_count": 41,
   "metadata": {},
   "outputs": [
    {
     "data": {
      "image/png": "[encoded data removed]",
      "text/plain": [
       "<Figure size 936x792 with 1 Axes>"
      ]
     },
     "metadata": {},
     "output_type": "display_data"
    }
   ],
   "source": [
    "# Stacked barplot of types of stores across the different cities\n",
    "plt.style.use('seaborn-white')\n",
    "city_cluster = stores.groupby(['city','type']).store_nbr.size()\n",
    "city_cluster.unstack().plot(kind='bar',stacked=True, colormap= 'viridis', figsize=(13,11),  grid=False)\n",
    "plt.title('Stacked Barplot of Store types opened for each city')\n",
    "plt.ylabel('Count of stores for a particular city')\n",
    "plt.show()"
   ]
  },
  {
   "cell_type": "code",
   "execution_count": 42,
   "metadata": {},
   "outputs": [
    {
     "data": {
      "image/png": "[encoded data removed]",
      "text/plain": [
       "<Figure size 864x720 with 1 Axes>"
      ]
     },
     "metadata": {},
     "output_type": "display_data"
    }
   ],
   "source": [
    "# Holiday Events data\n",
    "plt.style.use('seaborn-white')\n",
    "# plt.style.use('dark_background')\n",
    "holiday_local_type = holidays.groupby(['locale_name', 'type']).size()\n",
    "holiday_local_type.unstack().plot(kind='bar',stacked=True, colormap= 'magma_r', figsize=(12,10),  grid=False)\n",
    "plt.title('Stacked Barplot of locale name against event type')\n",
    "plt.ylabel('Count of entries')\n",
    "plt.show()"
   ]
  },
  {
   "cell_type": "markdown",
   "metadata": {},
   "source": [
    "# Data Transformation"
   ]
  },
  {
   "cell_type": "markdown",
   "metadata": {},
   "source": [
    "## What is One Hot Encoding?\n",
    "A one hot encoding is a representation of categorical variables as binary vectors. This first requires that the categorical values be mapped to integer values. Then, each integer value is represented as a binary vector that is all zero values except the index of the integer, which is marked with a 1."
   ]
  },
  {
   "cell_type": "markdown",
   "metadata": {},
   "source": [
    "# Why Use a One Hot Encoding?\n",
    "A one hot encoding allows the representation of categorical data to be more expressive. Many machine learning algorithms cannot work with categorical data directly. The categories must be converted into numbers. This is required for both input and output variables that are categorical."
   ]
  },
  {
   "cell_type": "code",
   "execution_count": 43,
   "metadata": {},
   "outputs": [],
   "source": [
    "## One hot encoding using get_dummies on pandas dataframe.\n",
    "dummy_variables = ['onpromotion','city','type_x','cluster','store_nbr','item_nbr',\n",
    "                'family','perishable','type_y', 'locale', 'transferred', 'month', 'day']\n",
    "\n",
    "for var in dummy_variables:\n",
    "    dummy = pd.get_dummies(Salesdf_filtered[var], prefix = var, drop_first = False)\n",
    "    Salesdf_filtered = pd.concat([Salesdf_filtered, dummy], axis = 1)\n",
    "\n",
    "Salesdf_filtered = Salesdf_filtered.drop(dummy_variables, axis = 1)\n",
    "Salesdf_filtered = Salesdf_filtered.drop(['year'], axis = 1)"
   ]
  },
  {
   "cell_type": "code",
   "execution_count": 44,
   "metadata": {},
   "outputs": [
    {
     "name": "stdout",
     "output_type": "stream",
     "text": [
      "<class 'pandas.core.frame.DataFrame'>\n",
      "Int64Index: 34678 entries, 119 to 3218223\n",
      "Columns: 146 entries, unit_sales to day_Wednesday\n",
      "dtypes: float64(2), uint8(144)\n",
      "memory usage: 5.6 MB\n"
     ]
    }
   ],
   "source": [
    "Salesdf_filtered.info()"
   ]
  },
  {
   "cell_type": "code",
   "execution_count": 45,
   "metadata": {},
   "outputs": [
    {
     "data": {
      "text/html": [
       "<div>\n",
       "<style scoped>\n",
       "    .dataframe tbody tr th:only-of-type {\n",
       "        vertical-align: middle;\n",
       "    }\n",
       "\n",
       "    .dataframe tbody tr th {\n",
       "        vertical-align: top;\n",
       "    }\n",
       "\n",
       "    .dataframe thead th {\n",
       "        text-align: right;\n",
       "    }\n",
       "</style>\n",
       "<table border=\"1\" class=\"dataframe\">\n",
       "  <thead>\n",
       "    <tr style=\"text-align: right;\">\n",
       "      <th></th>\n",
       "      <th>unit_sales</th>\n",
       "      <th>dcoilwtico</th>\n",
       "      <th>onpromotion_False</th>\n",
       "      <th>onpromotion_True</th>\n",
       "      <th>city_Ambato</th>\n",
       "      <th>city_Babahoyo</th>\n",
       "      <th>city_Cayambe</th>\n",
       "      <th>city_Cuenca</th>\n",
       "      <th>city_Daule</th>\n",
       "      <th>city_El Carmen</th>\n",
       "      <th>...</th>\n",
       "      <th>transferred_no_holyday</th>\n",
       "      <th>month_07</th>\n",
       "      <th>month_08</th>\n",
       "      <th>day_Friday</th>\n",
       "      <th>day_Monday</th>\n",
       "      <th>day_Saturday</th>\n",
       "      <th>day_Sunday</th>\n",
       "      <th>day_Thursday</th>\n",
       "      <th>day_Tuesday</th>\n",
       "      <th>day_Wednesday</th>\n",
       "    </tr>\n",
       "  </thead>\n",
       "  <tbody>\n",
       "    <tr>\n",
       "      <td>119</td>\n",
       "      <td>9.0</td>\n",
       "      <td>45.93</td>\n",
       "      <td>1</td>\n",
       "      <td>0</td>\n",
       "      <td>0</td>\n",
       "      <td>0</td>\n",
       "      <td>0</td>\n",
       "      <td>0</td>\n",
       "      <td>0</td>\n",
       "      <td>0</td>\n",
       "      <td>...</td>\n",
       "      <td>1</td>\n",
       "      <td>1</td>\n",
       "      <td>0</td>\n",
       "      <td>1</td>\n",
       "      <td>0</td>\n",
       "      <td>0</td>\n",
       "      <td>0</td>\n",
       "      <td>0</td>\n",
       "      <td>0</td>\n",
       "      <td>0</td>\n",
       "    </tr>\n",
       "    <tr>\n",
       "      <td>142</td>\n",
       "      <td>6.0</td>\n",
       "      <td>45.93</td>\n",
       "      <td>0</td>\n",
       "      <td>1</td>\n",
       "      <td>0</td>\n",
       "      <td>0</td>\n",
       "      <td>0</td>\n",
       "      <td>0</td>\n",
       "      <td>0</td>\n",
       "      <td>0</td>\n",
       "      <td>...</td>\n",
       "      <td>1</td>\n",
       "      <td>1</td>\n",
       "      <td>0</td>\n",
       "      <td>1</td>\n",
       "      <td>0</td>\n",
       "      <td>0</td>\n",
       "      <td>0</td>\n",
       "      <td>0</td>\n",
       "      <td>0</td>\n",
       "      <td>0</td>\n",
       "    </tr>\n",
       "    <tr>\n",
       "      <td>156</td>\n",
       "      <td>29.0</td>\n",
       "      <td>45.93</td>\n",
       "      <td>1</td>\n",
       "      <td>0</td>\n",
       "      <td>0</td>\n",
       "      <td>0</td>\n",
       "      <td>0</td>\n",
       "      <td>0</td>\n",
       "      <td>0</td>\n",
       "      <td>0</td>\n",
       "      <td>...</td>\n",
       "      <td>1</td>\n",
       "      <td>1</td>\n",
       "      <td>0</td>\n",
       "      <td>1</td>\n",
       "      <td>0</td>\n",
       "      <td>0</td>\n",
       "      <td>0</td>\n",
       "      <td>0</td>\n",
       "      <td>0</td>\n",
       "      <td>0</td>\n",
       "    </tr>\n",
       "    <tr>\n",
       "      <td>170</td>\n",
       "      <td>9.0</td>\n",
       "      <td>45.93</td>\n",
       "      <td>1</td>\n",
       "      <td>0</td>\n",
       "      <td>0</td>\n",
       "      <td>0</td>\n",
       "      <td>0</td>\n",
       "      <td>0</td>\n",
       "      <td>0</td>\n",
       "      <td>0</td>\n",
       "      <td>...</td>\n",
       "      <td>1</td>\n",
       "      <td>1</td>\n",
       "      <td>0</td>\n",
       "      <td>1</td>\n",
       "      <td>0</td>\n",
       "      <td>0</td>\n",
       "      <td>0</td>\n",
       "      <td>0</td>\n",
       "      <td>0</td>\n",
       "      <td>0</td>\n",
       "    </tr>\n",
       "    <tr>\n",
       "      <td>193</td>\n",
       "      <td>25.0</td>\n",
       "      <td>45.93</td>\n",
       "      <td>1</td>\n",
       "      <td>0</td>\n",
       "      <td>0</td>\n",
       "      <td>0</td>\n",
       "      <td>0</td>\n",
       "      <td>0</td>\n",
       "      <td>0</td>\n",
       "      <td>0</td>\n",
       "      <td>...</td>\n",
       "      <td>1</td>\n",
       "      <td>1</td>\n",
       "      <td>0</td>\n",
       "      <td>1</td>\n",
       "      <td>0</td>\n",
       "      <td>0</td>\n",
       "      <td>0</td>\n",
       "      <td>0</td>\n",
       "      <td>0</td>\n",
       "      <td>0</td>\n",
       "    </tr>\n",
       "  </tbody>\n",
       "</table>\n",
       "<p>5 rows × 146 columns</p>\n",
       "</div>"
      ],
      "text/plain": [
       "     unit_sales  dcoilwtico  onpromotion_False  onpromotion_True  city_Ambato  \\\n",
       "119         9.0       45.93                  1                 0            0   \n",
       "142         6.0       45.93                  0                 1            0   \n",
       "156        29.0       45.93                  1                 0            0   \n",
       "170         9.0       45.93                  1                 0            0   \n",
       "193        25.0       45.93                  1                 0            0   \n",
       "\n",
       "     city_Babahoyo  city_Cayambe  city_Cuenca  city_Daule  city_El Carmen  \\\n",
       "119              0             0            0           0               0   \n",
       "142              0             0            0           0               0   \n",
       "156              0             0            0           0               0   \n",
       "170              0             0            0           0               0   \n",
       "193              0             0            0           0               0   \n",
       "\n",
       "     ...  transferred_no_holyday  month_07  month_08  day_Friday  day_Monday  \\\n",
       "119  ...                       1         1         0           1           0   \n",
       "142  ...                       1         1         0           1           0   \n",
       "156  ...                       1         1         0           1           0   \n",
       "170  ...                       1         1         0           1           0   \n",
       "193  ...                       1         1         0           1           0   \n",
       "\n",
       "     day_Saturday  day_Sunday  day_Thursday  day_Tuesday  day_Wednesday  \n",
       "119             0           0             0            0              0  \n",
       "142             0           0             0            0              0  \n",
       "156             0           0             0            0              0  \n",
       "170             0           0             0            0              0  \n",
       "193             0           0             0            0              0  \n",
       "\n",
       "[5 rows x 146 columns]"
      ]
     },
     "execution_count": 45,
     "metadata": {},
     "output_type": "execute_result"
    }
   ],
   "source": [
    "Salesdf_filtered.head()"
   ]
  },
  {
   "cell_type": "code",
   "execution_count": 46,
   "metadata": {},
   "outputs": [],
   "source": [
    "#Re-scale\n",
    "#We keep this value to re-scale the predicted unit_sales values in the following lines of code.\n",
    "min_train, max_train = Salesdf_filtered['unit_sales'].min(), Salesdf_filtered['unit_sales'].max()"
   ]
  },
  {
   "cell_type": "code",
   "execution_count": 47,
   "metadata": {},
   "outputs": [],
   "source": [
    "scalable_variables = ['unit_sales','dcoilwtico']\n",
    "\n",
    "for var in scalable_variables:\n",
    "    mini, maxi = Salesdf_filtered[var].min(), Salesdf_filtered[var].max()\n",
    "    Salesdf_filtered.loc[:,var] = (Salesdf_filtered[var] - mini) / (maxi - mini)"
   ]
  },
  {
   "cell_type": "code",
   "execution_count": 48,
   "metadata": {},
   "outputs": [
    {
     "name": "stdout",
     "output_type": "stream",
     "text": [
      "Shape :  (34678, 146)\n"
     ]
    },
    {
     "data": {
      "text/html": [
       "<div>\n",
       "<style scoped>\n",
       "    .dataframe tbody tr th:only-of-type {\n",
       "        vertical-align: middle;\n",
       "    }\n",
       "\n",
       "    .dataframe tbody tr th {\n",
       "        vertical-align: top;\n",
       "    }\n",
       "\n",
       "    .dataframe thead th {\n",
       "        text-align: right;\n",
       "    }\n",
       "</style>\n",
       "<table border=\"1\" class=\"dataframe\">\n",
       "  <thead>\n",
       "    <tr style=\"text-align: right;\">\n",
       "      <th></th>\n",
       "      <th>unit_sales</th>\n",
       "      <th>dcoilwtico</th>\n",
       "      <th>onpromotion_False</th>\n",
       "      <th>onpromotion_True</th>\n",
       "      <th>city_Ambato</th>\n",
       "      <th>city_Babahoyo</th>\n",
       "      <th>city_Cayambe</th>\n",
       "      <th>city_Cuenca</th>\n",
       "      <th>city_Daule</th>\n",
       "      <th>city_El Carmen</th>\n",
       "      <th>...</th>\n",
       "      <th>transferred_no_holyday</th>\n",
       "      <th>month_07</th>\n",
       "      <th>month_08</th>\n",
       "      <th>day_Friday</th>\n",
       "      <th>day_Monday</th>\n",
       "      <th>day_Saturday</th>\n",
       "      <th>day_Sunday</th>\n",
       "      <th>day_Thursday</th>\n",
       "      <th>day_Tuesday</th>\n",
       "      <th>day_Wednesday</th>\n",
       "    </tr>\n",
       "  </thead>\n",
       "  <tbody>\n",
       "    <tr>\n",
       "      <td>2596550</td>\n",
       "      <td>0.015094</td>\n",
       "      <td>0.510109</td>\n",
       "      <td>0</td>\n",
       "      <td>1</td>\n",
       "      <td>0</td>\n",
       "      <td>0</td>\n",
       "      <td>0</td>\n",
       "      <td>0</td>\n",
       "      <td>0</td>\n",
       "      <td>0</td>\n",
       "      <td>...</td>\n",
       "      <td>1</td>\n",
       "      <td>0</td>\n",
       "      <td>1</td>\n",
       "      <td>0</td>\n",
       "      <td>0</td>\n",
       "      <td>0</td>\n",
       "      <td>0</td>\n",
       "      <td>0</td>\n",
       "      <td>1</td>\n",
       "      <td>0</td>\n",
       "    </tr>\n",
       "    <tr>\n",
       "      <td>324833</td>\n",
       "      <td>0.041509</td>\n",
       "      <td>0.891135</td>\n",
       "      <td>1</td>\n",
       "      <td>0</td>\n",
       "      <td>0</td>\n",
       "      <td>0</td>\n",
       "      <td>0</td>\n",
       "      <td>0</td>\n",
       "      <td>0</td>\n",
       "      <td>0</td>\n",
       "      <td>...</td>\n",
       "      <td>1</td>\n",
       "      <td>1</td>\n",
       "      <td>0</td>\n",
       "      <td>0</td>\n",
       "      <td>1</td>\n",
       "      <td>0</td>\n",
       "      <td>0</td>\n",
       "      <td>0</td>\n",
       "      <td>0</td>\n",
       "      <td>0</td>\n",
       "    </tr>\n",
       "    <tr>\n",
       "      <td>447712</td>\n",
       "      <td>0.047170</td>\n",
       "      <td>0.799378</td>\n",
       "      <td>1</td>\n",
       "      <td>0</td>\n",
       "      <td>0</td>\n",
       "      <td>0</td>\n",
       "      <td>0</td>\n",
       "      <td>0</td>\n",
       "      <td>0</td>\n",
       "      <td>0</td>\n",
       "      <td>...</td>\n",
       "      <td>1</td>\n",
       "      <td>1</td>\n",
       "      <td>0</td>\n",
       "      <td>0</td>\n",
       "      <td>0</td>\n",
       "      <td>0</td>\n",
       "      <td>0</td>\n",
       "      <td>0</td>\n",
       "      <td>1</td>\n",
       "      <td>0</td>\n",
       "    </tr>\n",
       "    <tr>\n",
       "      <td>392238</td>\n",
       "      <td>0.090566</td>\n",
       "      <td>0.891135</td>\n",
       "      <td>1</td>\n",
       "      <td>0</td>\n",
       "      <td>0</td>\n",
       "      <td>0</td>\n",
       "      <td>0</td>\n",
       "      <td>0</td>\n",
       "      <td>0</td>\n",
       "      <td>0</td>\n",
       "      <td>...</td>\n",
       "      <td>1</td>\n",
       "      <td>1</td>\n",
       "      <td>0</td>\n",
       "      <td>0</td>\n",
       "      <td>1</td>\n",
       "      <td>0</td>\n",
       "      <td>0</td>\n",
       "      <td>0</td>\n",
       "      <td>0</td>\n",
       "      <td>0</td>\n",
       "    </tr>\n",
       "    <tr>\n",
       "      <td>1307584</td>\n",
       "      <td>0.011321</td>\n",
       "      <td>0.373250</td>\n",
       "      <td>0</td>\n",
       "      <td>1</td>\n",
       "      <td>0</td>\n",
       "      <td>0</td>\n",
       "      <td>0</td>\n",
       "      <td>0</td>\n",
       "      <td>1</td>\n",
       "      <td>0</td>\n",
       "      <td>...</td>\n",
       "      <td>1</td>\n",
       "      <td>1</td>\n",
       "      <td>0</td>\n",
       "      <td>0</td>\n",
       "      <td>0</td>\n",
       "      <td>0</td>\n",
       "      <td>0</td>\n",
       "      <td>0</td>\n",
       "      <td>0</td>\n",
       "      <td>1</td>\n",
       "    </tr>\n",
       "    <tr>\n",
       "      <td>1777879</td>\n",
       "      <td>0.018868</td>\n",
       "      <td>0.085537</td>\n",
       "      <td>1</td>\n",
       "      <td>0</td>\n",
       "      <td>0</td>\n",
       "      <td>0</td>\n",
       "      <td>0</td>\n",
       "      <td>0</td>\n",
       "      <td>0</td>\n",
       "      <td>0</td>\n",
       "      <td>...</td>\n",
       "      <td>1</td>\n",
       "      <td>0</td>\n",
       "      <td>1</td>\n",
       "      <td>0</td>\n",
       "      <td>1</td>\n",
       "      <td>0</td>\n",
       "      <td>0</td>\n",
       "      <td>0</td>\n",
       "      <td>0</td>\n",
       "      <td>0</td>\n",
       "    </tr>\n",
       "    <tr>\n",
       "      <td>325124</td>\n",
       "      <td>0.056604</td>\n",
       "      <td>0.891135</td>\n",
       "      <td>1</td>\n",
       "      <td>0</td>\n",
       "      <td>0</td>\n",
       "      <td>0</td>\n",
       "      <td>0</td>\n",
       "      <td>0</td>\n",
       "      <td>0</td>\n",
       "      <td>0</td>\n",
       "      <td>...</td>\n",
       "      <td>1</td>\n",
       "      <td>1</td>\n",
       "      <td>0</td>\n",
       "      <td>0</td>\n",
       "      <td>1</td>\n",
       "      <td>0</td>\n",
       "      <td>0</td>\n",
       "      <td>0</td>\n",
       "      <td>0</td>\n",
       "      <td>0</td>\n",
       "    </tr>\n",
       "    <tr>\n",
       "      <td>3176426</td>\n",
       "      <td>0.016981</td>\n",
       "      <td>0.967341</td>\n",
       "      <td>1</td>\n",
       "      <td>0</td>\n",
       "      <td>0</td>\n",
       "      <td>0</td>\n",
       "      <td>0</td>\n",
       "      <td>0</td>\n",
       "      <td>0</td>\n",
       "      <td>0</td>\n",
       "      <td>...</td>\n",
       "      <td>0</td>\n",
       "      <td>0</td>\n",
       "      <td>1</td>\n",
       "      <td>0</td>\n",
       "      <td>1</td>\n",
       "      <td>0</td>\n",
       "      <td>0</td>\n",
       "      <td>0</td>\n",
       "      <td>0</td>\n",
       "      <td>0</td>\n",
       "    </tr>\n",
       "    <tr>\n",
       "      <td>830206</td>\n",
       "      <td>0.067925</td>\n",
       "      <td>0.529549</td>\n",
       "      <td>1</td>\n",
       "      <td>0</td>\n",
       "      <td>0</td>\n",
       "      <td>0</td>\n",
       "      <td>0</td>\n",
       "      <td>0</td>\n",
       "      <td>0</td>\n",
       "      <td>0</td>\n",
       "      <td>...</td>\n",
       "      <td>0</td>\n",
       "      <td>1</td>\n",
       "      <td>0</td>\n",
       "      <td>0</td>\n",
       "      <td>0</td>\n",
       "      <td>1</td>\n",
       "      <td>0</td>\n",
       "      <td>0</td>\n",
       "      <td>0</td>\n",
       "      <td>0</td>\n",
       "    </tr>\n",
       "    <tr>\n",
       "      <td>2767651</td>\n",
       "      <td>0.024528</td>\n",
       "      <td>0.623639</td>\n",
       "      <td>0</td>\n",
       "      <td>1</td>\n",
       "      <td>0</td>\n",
       "      <td>0</td>\n",
       "      <td>0</td>\n",
       "      <td>0</td>\n",
       "      <td>0</td>\n",
       "      <td>0</td>\n",
       "      <td>...</td>\n",
       "      <td>1</td>\n",
       "      <td>0</td>\n",
       "      <td>1</td>\n",
       "      <td>0</td>\n",
       "      <td>0</td>\n",
       "      <td>0</td>\n",
       "      <td>0</td>\n",
       "      <td>1</td>\n",
       "      <td>0</td>\n",
       "      <td>0</td>\n",
       "    </tr>\n",
       "  </tbody>\n",
       "</table>\n",
       "<p>10 rows × 146 columns</p>\n",
       "</div>"
      ],
      "text/plain": [
       "         unit_sales  dcoilwtico  onpromotion_False  onpromotion_True  \\\n",
       "2596550    0.015094    0.510109                  0                 1   \n",
       "324833     0.041509    0.891135                  1                 0   \n",
       "447712     0.047170    0.799378                  1                 0   \n",
       "392238     0.090566    0.891135                  1                 0   \n",
       "1307584    0.011321    0.373250                  0                 1   \n",
       "1777879    0.018868    0.085537                  1                 0   \n",
       "325124     0.056604    0.891135                  1                 0   \n",
       "3176426    0.016981    0.967341                  1                 0   \n",
       "830206     0.067925    0.529549                  1                 0   \n",
       "2767651    0.024528    0.623639                  0                 1   \n",
       "\n",
       "         city_Ambato  city_Babahoyo  city_Cayambe  city_Cuenca  city_Daule  \\\n",
       "2596550            0              0             0            0           0   \n",
       "324833             0              0             0            0           0   \n",
       "447712             0              0             0            0           0   \n",
       "392238             0              0             0            0           0   \n",
       "1307584            0              0             0            0           1   \n",
       "1777879            0              0             0            0           0   \n",
       "325124             0              0             0            0           0   \n",
       "3176426            0              0             0            0           0   \n",
       "830206             0              0             0            0           0   \n",
       "2767651            0              0             0            0           0   \n",
       "\n",
       "         city_El Carmen  ...  transferred_no_holyday  month_07  month_08  \\\n",
       "2596550               0  ...                       1         0         1   \n",
       "324833                0  ...                       1         1         0   \n",
       "447712                0  ...                       1         1         0   \n",
       "392238                0  ...                       1         1         0   \n",
       "1307584               0  ...                       1         1         0   \n",
       "1777879               0  ...                       1         0         1   \n",
       "325124                0  ...                       1         1         0   \n",
       "3176426               0  ...                       0         0         1   \n",
       "830206                0  ...                       0         1         0   \n",
       "2767651               0  ...                       1         0         1   \n",
       "\n",
       "         day_Friday  day_Monday  day_Saturday  day_Sunday  day_Thursday  \\\n",
       "2596550           0           0             0           0             0   \n",
       "324833            0           1             0           0             0   \n",
       "447712            0           0             0           0             0   \n",
       "392238            0           1             0           0             0   \n",
       "1307584           0           0             0           0             0   \n",
       "1777879           0           1             0           0             0   \n",
       "325124            0           1             0           0             0   \n",
       "3176426           0           1             0           0             0   \n",
       "830206            0           0             1           0             0   \n",
       "2767651           0           0             0           0             1   \n",
       "\n",
       "         day_Tuesday  day_Wednesday  \n",
       "2596550            1              0  \n",
       "324833             0              0  \n",
       "447712             1              0  \n",
       "392238             0              0  \n",
       "1307584            0              1  \n",
       "1777879            0              0  \n",
       "325124             0              0  \n",
       "3176426            0              0  \n",
       "830206             0              0  \n",
       "2767651            0              0  \n",
       "\n",
       "[10 rows x 146 columns]"
      ]
     },
     "execution_count": 48,
     "metadata": {},
     "output_type": "execute_result"
    }
   ],
   "source": [
    "print('Shape : ', Salesdf_filtered.shape)\n",
    "Salesdf_filtered.sample(10)"
   ]
  },
  {
   "cell_type": "code",
   "execution_count": 49,
   "metadata": {},
   "outputs": [
    {
     "data": {
      "text/plain": [
       "unit_sales           0\n",
       "dcoilwtico           0\n",
       "onpromotion_False    0\n",
       "onpromotion_True     0\n",
       "city_Ambato          0\n",
       "                    ..\n",
       "day_Saturday         0\n",
       "day_Sunday           0\n",
       "day_Thursday         0\n",
       "day_Tuesday          0\n",
       "day_Wednesday        0\n",
       "Length: 146, dtype: int64"
      ]
     },
     "execution_count": 49,
     "metadata": {},
     "output_type": "execute_result"
    }
   ],
   "source": [
    "Salesdf_filtered.isnull().sum()"
   ]
  },
  {
   "cell_type": "code",
   "execution_count": 50,
   "metadata": {},
   "outputs": [
    {
     "name": "stdout",
     "output_type": "stream",
     "text": [
      "Shape X : (34678, 145)\n",
      "Shape y : (34678,)\n"
     ]
    }
   ],
   "source": [
    "#train database without unit_sales\n",
    "Salesdf_filtered = Salesdf_filtered.reset_index(drop=True)  #we reset the index\n",
    "y = Salesdf_filtered['unit_sales']\n",
    "X = Salesdf_filtered.drop(['unit_sales'], axis = 1)\n",
    "\n",
    "print('Shape X :', X.shape)\n",
    "print('Shape y :', y.shape)"
   ]
  },
  {
   "cell_type": "code",
   "execution_count": 51,
   "metadata": {},
   "outputs": [
    {
     "name": "stdout",
     "output_type": "stream",
     "text": [
      "X_train shape : (27742, 145)\n",
      "y_train shape : (27742,)\n",
      "X_test shape : (6936, 145)\n",
      "y_test shape : (6936,)\n"
     ]
    }
   ],
   "source": [
    "num_test = 0.20\n",
    "X_train, X_test, y_train, y_test = train_test_split(X, y, test_size=num_test, random_state=15)\n",
    "print('X_train shape :', X_train.shape)\n",
    "print('y_train shape :', y_train.shape)\n",
    "print('X_test shape :', X_test.shape)\n",
    "print('y_test shape :', y_test.shape)"
   ]
  },
  {
   "cell_type": "markdown",
   "metadata": {},
   "source": [
    "# Regression Model fitting techniques.\n",
    "## Linear Regression\n",
    "Linear Regression is a linear approach for modelling the relationship between a scalar dependent variable y and one or more explanatory variables (or independent variables) denoted X. The case of one explanatory variable is called simple linear regression. For more than one explanatory variable, the process is called multiple linear regression.\n",
    "\n",
    "Linear regression models are often fitted using the least squares approach, but they may also be fitted in other ways, such as by minimizing the \"lack of fit\" in some other norm (as with least absolute deviations regression), or by minimizing a penalized version of the least squares cost function as in ridge regression (L2-norm penalty) and lasso (L1-norm penalty)."
   ]
  },
  {
   "cell_type": "code",
   "execution_count": 52,
   "metadata": {},
   "outputs": [
    {
     "name": "stdout",
     "output_type": "stream",
     "text": [
      "LinearRegression(copy_X=True, fit_intercept=True, n_jobs=None, normalize=False)\n"
     ]
    }
   ],
   "source": [
    "# Fit the linear model\n",
    "model = linear_model.LinearRegression()\n",
    "results = model.fit(X_train, y_train)\n",
    "print(results)"
   ]
  },
  {
   "cell_type": "code",
   "execution_count": 53,
   "metadata": {},
   "outputs": [
    {
     "name": "stdout",
     "output_type": "stream",
     "text": [
      "61921163176.23975 [-1.42839867e-02 -6.85476841e+10 -6.85476841e+10 -4.81219445e+10\n",
      " -9.31337114e+10 -1.31276542e+11 -2.11570209e+11  2.26966361e+10\n",
      " -1.42167941e+10 -5.94696916e+10  3.73748195e+10 -1.02045155e+11\n",
      "  3.69603790e+10  1.11832001e+10 -7.40924538e+10 -4.01626249e+10\n",
      " -5.10848694e+10 -2.14161650e+10 -2.31544530e+10  2.14695941e+10\n",
      " -5.36977719e+10 -2.66036398e+10  2.13577625e+10 -1.34339079e+10\n",
      " -5.40834586e+10 -1.24426756e+11  4.66657904e+09  5.59520101e+10\n",
      "  1.68048277e+10  2.39527758e+10 -6.09100219e+10  1.08349493e+11\n",
      " -6.08410360e+10 -2.49942896e+10  3.96031702e+10  1.92428164e+10\n",
      " -1.11127786e+11 -4.98406533e+10 -1.36519847e+10 -1.25808180e+10\n",
      "  6.08613002e+10 -4.87659510e+10 -2.91864087e+10  4.28647940e+10\n",
      " -9.05921373e+10 -1.54893402e+10  6.24926497e+10 -2.13076836e+10\n",
      " -2.13076836e+10 -6.53438996e+08 -3.68421076e+10  1.98001612e+09\n",
      " -2.13076836e+10 -6.53438996e+08 -6.53438996e+08 -5.75986600e+10\n",
      "  9.50862554e+08  4.70742419e+10 -3.68359773e+10 -3.68359773e+10\n",
      " -2.64748912e+10 -6.26131562e+10 -1.32041997e+09 -4.08753238e+10\n",
      " -2.28665035e+10 -6.30275967e+10 -5.75986600e+10 -3.01188412e+10\n",
      " -2.65867229e+10 -1.53238028e+10  8.58574452e+10 -2.75380223e+09\n",
      "  3.75282412e+10 -3.88843462e+10  3.03802930e+10  3.03802930e+10\n",
      "  4.66412767e+10  4.07550459e+10  4.66412767e+10 -1.70610669e+09\n",
      "  1.78428555e+10 -3.22494256e+10  2.42759154e+09  2.61229841e+10\n",
      " -1.19408175e+10  1.27367909e+11 -4.31900914e+09 -1.01857305e+09\n",
      "  2.61229841e+10 -1.21951707e+10  5.11343216e+10  2.98761916e+10\n",
      "  4.78726979e+10  4.78726979e+10  4.78726979e+10  2.98761916e+10\n",
      "  6.93910026e+10  1.03686358e+11 -2.64951583e+10 -4.11870844e+10\n",
      " -8.50145514e+09 -8.50145514e+09 -8.50145514e+09  2.74784332e+10\n",
      " -8.50145514e+09 -8.50145514e+09 -8.50145514e+09 -8.50145514e+09\n",
      " -8.50145514e+09  3.74210377e+10 -8.50145514e+09 -8.50145514e+09\n",
      " -8.50145514e+09 -8.50145514e+09 -9.06133360e+09 -9.06133360e+09\n",
      " -9.06133360e+09 -9.06133360e+09 -9.06133360e+09 -9.06133360e+09\n",
      "  1.69725827e+10 -1.48199746e+09  1.64127043e+10 -1.95671840e+10\n",
      "  2.65457937e+10 -1.48199746e+09  2.16281849e+10  2.16281849e+10\n",
      "  2.16281849e+10 -4.20502247e+09  1.02039455e+10  1.02039455e+10\n",
      " -4.20502247e+09 -1.02340844e+10 -1.02340844e+10  3.00080910e+10\n",
      "  4.28528576e+09  4.28528576e+09  6.57905075e+09  6.57905075e+09\n",
      "  6.57905075e+09  6.57905075e+09  6.57905075e+09  6.57905075e+09\n",
      "  6.57905075e+09]\n"
     ]
    }
   ],
   "source": [
    "# Print the coefficients\n",
    "print (results.intercept_, results.coef_)"
   ]
  },
  {
   "cell_type": "code",
   "execution_count": 54,
   "metadata": {},
   "outputs": [
    {
     "name": "stdout",
     "output_type": "stream",
     "text": [
      "[0.03691864 0.04779816 0.02523041 ... 0.04598236 0.01998901 0.04025269]\n"
     ]
    }
   ],
   "source": [
    "#Predicting X_test using our model\n",
    "y_pred = results.predict(X_test)\n",
    "print(y_pred)"
   ]
  },
  {
   "cell_type": "code",
   "execution_count": 55,
   "metadata": {},
   "outputs": [
    {
     "name": "stdout",
     "output_type": "stream",
     "text": [
      "Explained Variance Score = 0.4623867760957836 / 1.0\n",
      "R2 Score = 0.46222305501705285 / 1.0\n",
      "RMSE =  0.0017995053824982773 / 0.0\n"
     ]
    }
   ],
   "source": [
    "#Evaluating our model using different evaluation metrics\n",
    "#1 #Explained variance regression score function\n",
    "from sklearn.metrics import explained_variance_score, mean_squared_error, r2_score\n",
    "\n",
    "#Best possible value is 1.0, lower value is worse (EVS)\n",
    "print('Explained Variance Score =',explained_variance_score(y_test, y_pred, multioutput='uniform_average'), '/ 1.0')\n",
    "print('R2 Score =', r2_score(y_test, y_pred), '/ 1.0') \n",
    "print('RMSE = ', mean_squared_error(y_test, y_pred), '/ 0.0')"
   ]
  },
  {
   "cell_type": "code",
   "execution_count": 56,
   "metadata": {},
   "outputs": [
    {
     "data": {
      "text/html": [
       "<table class=\"simpletable\">\n",
       "<caption>OLS Regression Results</caption>\n",
       "<tr>\n",
       "  <th>Dep. Variable:</th>       <td>unit_sales</td>    <th>  R-squared:         </th>  <td>   0.453</td> \n",
       "</tr>\n",
       "<tr>\n",
       "  <th>Model:</th>                   <td>OLS</td>       <th>  Adj. R-squared:    </th>  <td>   0.451</td> \n",
       "</tr>\n",
       "<tr>\n",
       "  <th>Method:</th>             <td>Least Squares</td>  <th>  F-statistic:       </th>  <td>   269.5</td> \n",
       "</tr>\n",
       "<tr>\n",
       "  <th>Date:</th>             <td>Fri, 25 Oct 2019</td> <th>  Prob (F-statistic):</th>   <td>  0.00</td>  \n",
       "</tr>\n",
       "<tr>\n",
       "  <th>Time:</th>                 <td>23:05:23</td>     <th>  Log-Likelihood:    </th>  <td>  47308.</td> \n",
       "</tr>\n",
       "<tr>\n",
       "  <th>No. Observations:</th>      <td> 27742</td>      <th>  AIC:               </th> <td>-9.444e+04</td>\n",
       "</tr>\n",
       "<tr>\n",
       "  <th>Df Residuals:</th>          <td> 27656</td>      <th>  BIC:               </th> <td>-9.374e+04</td>\n",
       "</tr>\n",
       "<tr>\n",
       "  <th>Df Model:</th>              <td>    85</td>      <th>                     </th>      <td> </td>    \n",
       "</tr>\n",
       "<tr>\n",
       "  <th>Covariance Type:</th>      <td>nonrobust</td>    <th>                     </th>      <td> </td>    \n",
       "</tr>\n",
       "</table>\n",
       "<table class=\"simpletable\">\n",
       "<tr>\n",
       "             <td></td>               <th>coef</th>     <th>std err</th>      <th>t</th>      <th>P>|t|</th>  <th>[0.025</th>    <th>0.975]</th>  \n",
       "</tr>\n",
       "<tr>\n",
       "  <th>dcoilwtico</th>             <td>   -0.0143</td> <td>    0.001</td> <td>  -13.832</td> <td> 0.000</td> <td>   -0.016</td> <td>   -0.012</td>\n",
       "</tr>\n",
       "<tr>\n",
       "  <th>onpromotion_False</th>      <td>    0.0016</td> <td>    0.001</td> <td>    2.949</td> <td> 0.003</td> <td>    0.001</td> <td>    0.003</td>\n",
       "</tr>\n",
       "<tr>\n",
       "  <th>onpromotion_True</th>       <td>    0.0202</td> <td>    0.001</td> <td>   29.964</td> <td> 0.000</td> <td>    0.019</td> <td>    0.022</td>\n",
       "</tr>\n",
       "<tr>\n",
       "  <th>city_Ambato</th>            <td>   -0.0074</td> <td>    0.001</td> <td>   -8.667</td> <td> 0.000</td> <td>   -0.009</td> <td>   -0.006</td>\n",
       "</tr>\n",
       "<tr>\n",
       "  <th>city_Babahoyo</th>          <td>    0.0048</td> <td>    0.001</td> <td>    6.522</td> <td> 0.000</td> <td>    0.003</td> <td>    0.006</td>\n",
       "</tr>\n",
       "<tr>\n",
       "  <th>city_Cayambe</th>           <td>    0.0027</td> <td>    0.001</td> <td>    2.945</td> <td> 0.003</td> <td>    0.001</td> <td>    0.004</td>\n",
       "</tr>\n",
       "<tr>\n",
       "  <th>city_Cuenca</th>            <td>    0.0041</td> <td>    0.001</td> <td>    5.341</td> <td> 0.000</td> <td>    0.003</td> <td>    0.006</td>\n",
       "</tr>\n",
       "<tr>\n",
       "  <th>city_Daule</th>             <td>    0.0040</td> <td>    0.001</td> <td>    4.711</td> <td> 0.000</td> <td>    0.002</td> <td>    0.006</td>\n",
       "</tr>\n",
       "<tr>\n",
       "  <th>city_El Carmen</th>         <td>    0.0020</td> <td>    0.001</td> <td>    2.153</td> <td> 0.031</td> <td>    0.000</td> <td>    0.004</td>\n",
       "</tr>\n",
       "<tr>\n",
       "  <th>city_Esmeraldas</th>        <td>   -0.0055</td> <td>    0.001</td> <td>   -6.134</td> <td> 0.000</td> <td>   -0.007</td> <td>   -0.004</td>\n",
       "</tr>\n",
       "<tr>\n",
       "  <th>city_Guaranda</th>          <td>    0.0032</td> <td>    0.001</td> <td>    3.625</td> <td> 0.000</td> <td>    0.001</td> <td>    0.005</td>\n",
       "</tr>\n",
       "<tr>\n",
       "  <th>city_Guayaquil</th>         <td>   -0.0101</td> <td>    0.001</td> <td>  -15.442</td> <td> 0.000</td> <td>   -0.011</td> <td>   -0.009</td>\n",
       "</tr>\n",
       "<tr>\n",
       "  <th>city_Ibarra</th>            <td>   -0.0018</td> <td>    0.001</td> <td>   -2.062</td> <td> 0.039</td> <td>   -0.004</td> <td>-8.93e-05</td>\n",
       "</tr>\n",
       "<tr>\n",
       "  <th>city_Latacunga</th>         <td>    0.0013</td> <td>    0.001</td> <td>    1.590</td> <td> 0.112</td> <td>   -0.000</td> <td>    0.003</td>\n",
       "</tr>\n",
       "<tr>\n",
       "  <th>city_Libertad</th>          <td>   -0.0055</td> <td>    0.001</td> <td>   -6.182</td> <td> 0.000</td> <td>   -0.007</td> <td>   -0.004</td>\n",
       "</tr>\n",
       "<tr>\n",
       "  <th>city_Loja</th>              <td>    0.0072</td> <td>    0.001</td> <td>    8.410</td> <td> 0.000</td> <td>    0.006</td> <td>    0.009</td>\n",
       "</tr>\n",
       "<tr>\n",
       "  <th>city_Machala</th>           <td>    0.0187</td> <td>    0.001</td> <td>   21.299</td> <td> 0.000</td> <td>    0.017</td> <td>    0.020</td>\n",
       "</tr>\n",
       "<tr>\n",
       "  <th>city_Manta</th>             <td>    0.0161</td> <td>    0.001</td> <td>   18.284</td> <td> 0.000</td> <td>    0.014</td> <td>    0.018</td>\n",
       "</tr>\n",
       "<tr>\n",
       "  <th>city_Playas</th>            <td>   -0.0108</td> <td>    0.001</td> <td>  -11.720</td> <td> 0.000</td> <td>   -0.013</td> <td>   -0.009</td>\n",
       "</tr>\n",
       "<tr>\n",
       "  <th>city_Puyo</th>              <td>   -0.0029</td> <td>    0.001</td> <td>   -3.842</td> <td> 0.000</td> <td>   -0.004</td> <td>   -0.001</td>\n",
       "</tr>\n",
       "<tr>\n",
       "  <th>city_Quevedo</th>           <td>    0.0018</td> <td>    0.001</td> <td>    2.046</td> <td> 0.041</td> <td> 7.76e-05</td> <td>    0.004</td>\n",
       "</tr>\n",
       "<tr>\n",
       "  <th>city_Quito</th>             <td>    0.0091</td> <td>    0.001</td> <td>   16.336</td> <td> 0.000</td> <td>    0.008</td> <td>    0.010</td>\n",
       "</tr>\n",
       "<tr>\n",
       "  <th>city_Riobamba</th>          <td>   -0.0020</td> <td>    0.001</td> <td>   -2.600</td> <td> 0.009</td> <td>   -0.003</td> <td>   -0.000</td>\n",
       "</tr>\n",
       "<tr>\n",
       "  <th>city_Salinas</th>           <td>   -0.0099</td> <td>    0.001</td> <td>  -11.563</td> <td> 0.000</td> <td>   -0.012</td> <td>   -0.008</td>\n",
       "</tr>\n",
       "<tr>\n",
       "  <th>city_Santo Domingo</th>     <td>    0.0026</td> <td>    0.001</td> <td>    3.155</td> <td> 0.002</td> <td>    0.001</td> <td>    0.004</td>\n",
       "</tr>\n",
       "<tr>\n",
       "  <th>type_x_A</th>               <td>    0.0308</td> <td>    0.000</td> <td>   62.268</td> <td> 0.000</td> <td>    0.030</td> <td>    0.032</td>\n",
       "</tr>\n",
       "<tr>\n",
       "  <th>type_x_B</th>               <td>   -0.0016</td> <td>    0.000</td> <td>   -3.234</td> <td> 0.001</td> <td>   -0.003</td> <td>   -0.001</td>\n",
       "</tr>\n",
       "<tr>\n",
       "  <th>type_x_C</th>               <td>   -0.0111</td> <td>    0.000</td> <td>  -27.134</td> <td> 0.000</td> <td>   -0.012</td> <td>   -0.010</td>\n",
       "</tr>\n",
       "<tr>\n",
       "  <th>type_x_D</th>               <td>   -0.0052</td> <td>    0.000</td> <td>  -11.351</td> <td> 0.000</td> <td>   -0.006</td> <td>   -0.004</td>\n",
       "</tr>\n",
       "<tr>\n",
       "  <th>type_x_E</th>               <td>    0.0089</td> <td>    0.001</td> <td>   13.175</td> <td> 0.000</td> <td>    0.008</td> <td>    0.010</td>\n",
       "</tr>\n",
       "<tr>\n",
       "  <th>cluster_1</th>              <td>    0.0055</td> <td>    0.001</td> <td>    7.539</td> <td> 0.000</td> <td>    0.004</td> <td>    0.007</td>\n",
       "</tr>\n",
       "<tr>\n",
       "  <th>cluster_2</th>              <td>   -0.0019</td> <td>    0.001</td> <td>   -2.445</td> <td> 0.014</td> <td>   -0.003</td> <td>   -0.000</td>\n",
       "</tr>\n",
       "<tr>\n",
       "  <th>cluster_3</th>              <td>   -0.0005</td> <td>    0.001</td> <td>   -0.895</td> <td> 0.371</td> <td>   -0.002</td> <td>    0.001</td>\n",
       "</tr>\n",
       "<tr>\n",
       "  <th>cluster_4</th>              <td>   -0.0020</td> <td>    0.001</td> <td>   -2.695</td> <td> 0.007</td> <td>   -0.003</td> <td>   -0.001</td>\n",
       "</tr>\n",
       "<tr>\n",
       "  <th>cluster_5</th>              <td>    0.0072</td> <td>    0.001</td> <td>    8.539</td> <td> 0.000</td> <td>    0.006</td> <td>    0.009</td>\n",
       "</tr>\n",
       "<tr>\n",
       "  <th>cluster_6</th>              <td>    0.0052</td> <td>    0.001</td> <td>    8.380</td> <td> 0.000</td> <td>    0.004</td> <td>    0.006</td>\n",
       "</tr>\n",
       "<tr>\n",
       "  <th>cluster_7</th>              <td>   -0.0048</td> <td>    0.001</td> <td>   -7.969</td> <td> 0.000</td> <td>   -0.006</td> <td>   -0.004</td>\n",
       "</tr>\n",
       "<tr>\n",
       "  <th>cluster_8</th>              <td>    0.0100</td> <td>    0.001</td> <td>   12.829</td> <td> 0.000</td> <td>    0.008</td> <td>    0.012</td>\n",
       "</tr>\n",
       "<tr>\n",
       "  <th>cluster_9</th>              <td>   -0.0011</td> <td>    0.001</td> <td>   -1.376</td> <td> 0.169</td> <td>   -0.003</td> <td>    0.000</td>\n",
       "</tr>\n",
       "<tr>\n",
       "  <th>cluster_10</th>             <td>   -0.0020</td> <td>    0.001</td> <td>   -2.886</td> <td> 0.004</td> <td>   -0.003</td> <td>   -0.001</td>\n",
       "</tr>\n",
       "<tr>\n",
       "  <th>cluster_11</th>             <td>    0.0241</td> <td>    0.001</td> <td>   30.163</td> <td> 0.000</td> <td>    0.023</td> <td>    0.026</td>\n",
       "</tr>\n",
       "<tr>\n",
       "  <th>cluster_12</th>             <td>    0.0056</td> <td>    0.001</td> <td>    6.712</td> <td> 0.000</td> <td>    0.004</td> <td>    0.007</td>\n",
       "</tr>\n",
       "<tr>\n",
       "  <th>cluster_13</th>             <td>-6.486e-05</td> <td>    0.001</td> <td>   -0.089</td> <td> 0.929</td> <td>   -0.001</td> <td>    0.001</td>\n",
       "</tr>\n",
       "<tr>\n",
       "  <th>cluster_14</th>             <td>    0.0034</td> <td>    0.001</td> <td>    4.815</td> <td> 0.000</td> <td>    0.002</td> <td>    0.005</td>\n",
       "</tr>\n",
       "<tr>\n",
       "  <th>cluster_15</th>             <td>   -0.0113</td> <td>    0.001</td> <td>  -18.160</td> <td> 0.000</td> <td>   -0.012</td> <td>   -0.010</td>\n",
       "</tr>\n",
       "<tr>\n",
       "  <th>cluster_16</th>             <td>   -0.0116</td> <td>    0.001</td> <td>  -14.320</td> <td> 0.000</td> <td>   -0.013</td> <td>   -0.010</td>\n",
       "</tr>\n",
       "<tr>\n",
       "  <th>cluster_17</th>             <td>   -0.0039</td> <td>    0.001</td> <td>   -4.731</td> <td> 0.000</td> <td>   -0.005</td> <td>   -0.002</td>\n",
       "</tr>\n",
       "<tr>\n",
       "  <th>store_nbr_1</th>            <td>   -0.0277</td> <td>    0.002</td> <td>  -17.013</td> <td> 0.000</td> <td>   -0.031</td> <td>   -0.024</td>\n",
       "</tr>\n",
       "<tr>\n",
       "  <th>store_nbr_2</th>            <td>   -0.0104</td> <td>    0.002</td> <td>   -6.456</td> <td> 0.000</td> <td>   -0.014</td> <td>   -0.007</td>\n",
       "</tr>\n",
       "<tr>\n",
       "  <th>store_nbr_3</th>            <td>    0.0339</td> <td>    0.002</td> <td>   21.715</td> <td> 0.000</td> <td>    0.031</td> <td>    0.037</td>\n",
       "</tr>\n",
       "<tr>\n",
       "  <th>store_nbr_4</th>            <td>    0.0006</td> <td>    0.001</td> <td>    0.454</td> <td> 0.650</td> <td>   -0.002</td> <td>    0.003</td>\n",
       "</tr>\n",
       "<tr>\n",
       "  <th>store_nbr_5</th>            <td>    0.0013</td> <td>    0.001</td> <td>    1.070</td> <td> 0.285</td> <td>   -0.001</td> <td>    0.004</td>\n",
       "</tr>\n",
       "<tr>\n",
       "  <th>store_nbr_6</th>            <td>    0.0220</td> <td>    0.002</td> <td>   13.822</td> <td> 0.000</td> <td>    0.019</td> <td>    0.025</td>\n",
       "</tr>\n",
       "<tr>\n",
       "  <th>store_nbr_7</th>            <td>   -0.0148</td> <td>    0.002</td> <td>   -9.314</td> <td> 0.000</td> <td>   -0.018</td> <td>   -0.012</td>\n",
       "</tr>\n",
       "<tr>\n",
       "  <th>store_nbr_8</th>            <td>   -0.0090</td> <td>    0.002</td> <td>   -5.693</td> <td> 0.000</td> <td>   -0.012</td> <td>   -0.006</td>\n",
       "</tr>\n",
       "<tr>\n",
       "  <th>store_nbr_9</th>            <td>    0.0074</td> <td>    0.002</td> <td>    4.568</td> <td> 0.000</td> <td>    0.004</td> <td>    0.011</td>\n",
       "</tr>\n",
       "<tr>\n",
       "  <th>store_nbr_10</th>           <td>   -0.0140</td> <td>    0.001</td> <td>  -10.434</td> <td> 0.000</td> <td>   -0.017</td> <td>   -0.011</td>\n",
       "</tr>\n",
       "<tr>\n",
       "  <th>store_nbr_11</th>           <td>    0.0027</td> <td>    0.001</td> <td>    2.945</td> <td> 0.003</td> <td>    0.001</td> <td>    0.004</td>\n",
       "</tr>\n",
       "<tr>\n",
       "  <th>store_nbr_12</th>           <td>    0.0044</td> <td>    0.001</td> <td>    3.094</td> <td> 0.002</td> <td>    0.002</td> <td>    0.007</td>\n",
       "</tr>\n",
       "<tr>\n",
       "  <th>store_nbr_13</th>           <td>   -0.0031</td> <td>    0.001</td> <td>   -2.170</td> <td> 0.030</td> <td>   -0.006</td> <td>   -0.000</td>\n",
       "</tr>\n",
       "<tr>\n",
       "  <th>store_nbr_14</th>           <td>   -0.0020</td> <td>    0.001</td> <td>   -2.600</td> <td> 0.009</td> <td>   -0.003</td> <td>   -0.000</td>\n",
       "</tr>\n",
       "<tr>\n",
       "  <th>store_nbr_15</th>           <td>   -0.0018</td> <td>    0.001</td> <td>   -2.062</td> <td> 0.039</td> <td>   -0.004</td> <td>-8.93e-05</td>\n",
       "</tr>\n",
       "<tr>\n",
       "  <th>store_nbr_16</th>           <td>   -0.0049</td> <td>    0.001</td> <td>   -3.492</td> <td> 0.000</td> <td>   -0.008</td> <td>   -0.002</td>\n",
       "</tr>\n",
       "<tr>\n",
       "  <th>store_nbr_17</th>           <td>    0.0056</td> <td>    0.001</td> <td>    6.712</td> <td> 0.000</td> <td>    0.004</td> <td>    0.007</td>\n",
       "</tr>\n",
       "<tr>\n",
       "  <th>store_nbr_18</th>           <td>   -0.0116</td> <td>    0.001</td> <td>  -14.320</td> <td> 0.000</td> <td>   -0.013</td> <td>   -0.010</td>\n",
       "</tr>\n",
       "<tr>\n",
       "  <th>store_nbr_19</th>           <td>    0.0032</td> <td>    0.001</td> <td>    3.625</td> <td> 0.000</td> <td>    0.001</td> <td>    0.005</td>\n",
       "</tr>\n",
       "<tr>\n",
       "  <th>store_nbr_20</th>           <td>   -0.0131</td> <td>    0.002</td> <td>   -8.240</td> <td> 0.000</td> <td>   -0.016</td> <td>   -0.010</td>\n",
       "</tr>\n",
       "<tr>\n",
       "  <th>store_nbr_21</th>           <td>    0.0061</td> <td>    0.001</td> <td>    4.503</td> <td> 0.000</td> <td>    0.003</td> <td>    0.009</td>\n",
       "</tr>\n",
       "<tr>\n",
       "  <th>store_nbr_22</th>           <td>   -0.0029</td> <td>    0.001</td> <td>   -3.842</td> <td> 0.000</td> <td>   -0.004</td> <td>   -0.001</td>\n",
       "</tr>\n",
       "<tr>\n",
       "  <th>store_nbr_23</th>           <td>   -0.0017</td> <td>    0.001</td> <td>   -1.479</td> <td> 0.139</td> <td>   -0.004</td> <td>    0.001</td>\n",
       "</tr>\n",
       "<tr>\n",
       "  <th>store_nbr_24</th>           <td>    0.0113</td> <td>    0.001</td> <td>    9.119</td> <td> 0.000</td> <td>    0.009</td> <td>    0.014</td>\n",
       "</tr>\n",
       "<tr>\n",
       "  <th>store_nbr_25</th>           <td>   -0.0099</td> <td>    0.001</td> <td>  -11.563</td> <td> 0.000</td> <td>   -0.012</td> <td>   -0.008</td>\n",
       "</tr>\n",
       "<tr>\n",
       "  <th>store_nbr_26</th>           <td>   -0.0156</td> <td>    0.001</td> <td>  -13.162</td> <td> 0.000</td> <td>   -0.018</td> <td>   -0.013</td>\n",
       "</tr>\n",
       "<tr>\n",
       "  <th>store_nbr_27</th>           <td>    0.0040</td> <td>    0.001</td> <td>    4.711</td> <td> 0.000</td> <td>    0.002</td> <td>    0.006</td>\n",
       "</tr>\n",
       "<tr>\n",
       "  <th>store_nbr_28</th>           <td>    0.0212</td> <td>    0.002</td> <td>   13.986</td> <td> 0.000</td> <td>    0.018</td> <td>    0.024</td>\n",
       "</tr>\n",
       "<tr>\n",
       "  <th>store_nbr_29</th>           <td>   -0.0013</td> <td>    0.002</td> <td>   -0.882</td> <td> 0.378</td> <td>   -0.004</td> <td>    0.002</td>\n",
       "</tr>\n",
       "<tr>\n",
       "  <th>store_nbr_30</th>           <td>   -0.0046</td> <td>    0.002</td> <td>   -2.884</td> <td> 0.004</td> <td>   -0.008</td> <td>   -0.001</td>\n",
       "</tr>\n",
       "<tr>\n",
       "  <th>store_nbr_31</th>           <td>    0.0048</td> <td>    0.001</td> <td>    6.522</td> <td> 0.000</td> <td>    0.003</td> <td>    0.006</td>\n",
       "</tr>\n",
       "<tr>\n",
       "  <th>store_nbr_32</th>           <td>   -0.0133</td> <td>    0.002</td> <td>   -8.163</td> <td> 0.000</td> <td>   -0.016</td> <td>   -0.010</td>\n",
       "</tr>\n",
       "<tr>\n",
       "  <th>store_nbr_33</th>           <td>    0.0018</td> <td>    0.001</td> <td>    2.046</td> <td> 0.041</td> <td> 7.76e-05</td> <td>    0.004</td>\n",
       "</tr>\n",
       "<tr>\n",
       "  <th>store_nbr_34</th>           <td>   -0.0038</td> <td>    0.002</td> <td>   -2.558</td> <td> 0.011</td> <td>   -0.007</td> <td>   -0.001</td>\n",
       "</tr>\n",
       "<tr>\n",
       "  <th>store_nbr_35</th>           <td>   -0.0108</td> <td>    0.001</td> <td>  -11.720</td> <td> 0.000</td> <td>   -0.013</td> <td>   -0.009</td>\n",
       "</tr>\n",
       "<tr>\n",
       "  <th>store_nbr_36</th>           <td>   -0.0055</td> <td>    0.001</td> <td>   -6.182</td> <td> 0.000</td> <td>   -0.007</td> <td>   -0.004</td>\n",
       "</tr>\n",
       "<tr>\n",
       "  <th>store_nbr_37</th>           <td>   -0.0012</td> <td>    0.001</td> <td>   -0.823</td> <td> 0.411</td> <td>   -0.004</td> <td>    0.002</td>\n",
       "</tr>\n",
       "<tr>\n",
       "  <th>store_nbr_38</th>           <td>    0.0072</td> <td>    0.001</td> <td>    8.410</td> <td> 0.000</td> <td>    0.006</td> <td>    0.009</td>\n",
       "</tr>\n",
       "<tr>\n",
       "  <th>store_nbr_39</th>           <td>    0.0060</td> <td>    0.001</td> <td>    5.170</td> <td> 0.000</td> <td>    0.004</td> <td>    0.008</td>\n",
       "</tr>\n",
       "<tr>\n",
       "  <th>store_nbr_40</th>           <td>    0.0292</td> <td>    0.001</td> <td>   23.111</td> <td> 0.000</td> <td>    0.027</td> <td>    0.032</td>\n",
       "</tr>\n",
       "<tr>\n",
       "  <th>store_nbr_41</th>           <td>   -0.0105</td> <td>    0.001</td> <td>   -9.048</td> <td> 0.000</td> <td>   -0.013</td> <td>   -0.008</td>\n",
       "</tr>\n",
       "<tr>\n",
       "  <th>store_nbr_42</th>           <td>   -0.0007</td> <td>    0.001</td> <td>   -0.505</td> <td> 0.613</td> <td>   -0.003</td> <td>    0.002</td>\n",
       "</tr>\n",
       "<tr>\n",
       "  <th>store_nbr_43</th>           <td>   -0.0055</td> <td>    0.001</td> <td>   -6.134</td> <td> 0.000</td> <td>   -0.007</td> <td>   -0.004</td>\n",
       "</tr>\n",
       "<tr>\n",
       "  <th>store_nbr_44</th>           <td>    0.0072</td> <td>    0.001</td> <td>    8.539</td> <td> 0.000</td> <td>    0.006</td> <td>    0.009</td>\n",
       "</tr>\n",
       "<tr>\n",
       "  <th>store_nbr_45</th>           <td>    0.0532</td> <td>    0.001</td> <td>   37.014</td> <td> 0.000</td> <td>    0.050</td> <td>    0.056</td>\n",
       "</tr>\n",
       "<tr>\n",
       "  <th>store_nbr_46</th>           <td>   -0.0046</td> <td>    0.002</td> <td>   -2.859</td> <td> 0.004</td> <td>   -0.008</td> <td>   -0.001</td>\n",
       "</tr>\n",
       "<tr>\n",
       "  <th>store_nbr_47</th>           <td>    0.0171</td> <td>    0.002</td> <td>   10.595</td> <td> 0.000</td> <td>    0.014</td> <td>    0.020</td>\n",
       "</tr>\n",
       "<tr>\n",
       "  <th>store_nbr_48</th>           <td>   -0.0034</td> <td>    0.002</td> <td>   -2.107</td> <td> 0.035</td> <td>   -0.007</td> <td>   -0.000</td>\n",
       "</tr>\n",
       "<tr>\n",
       "  <th>store_nbr_49</th>           <td>   -0.0291</td> <td>    0.001</td> <td>  -20.243</td> <td> 0.000</td> <td>   -0.032</td> <td>   -0.026</td>\n",
       "</tr>\n",
       "<tr>\n",
       "  <th>store_nbr_50</th>           <td>   -0.0057</td> <td>    0.001</td> <td>   -4.727</td> <td> 0.000</td> <td>   -0.008</td> <td>   -0.003</td>\n",
       "</tr>\n",
       "<tr>\n",
       "  <th>store_nbr_51</th>           <td>   -0.0039</td> <td>    0.001</td> <td>   -4.731</td> <td> 0.000</td> <td>   -0.005</td> <td>   -0.002</td>\n",
       "</tr>\n",
       "<tr>\n",
       "  <th>store_nbr_53</th>           <td>    0.0161</td> <td>    0.001</td> <td>   18.284</td> <td> 0.000</td> <td>    0.014</td> <td>    0.018</td>\n",
       "</tr>\n",
       "<tr>\n",
       "  <th>store_nbr_54</th>           <td>    0.0020</td> <td>    0.001</td> <td>    2.153</td> <td> 0.031</td> <td>    0.000</td> <td>    0.004</td>\n",
       "</tr>\n",
       "<tr>\n",
       "  <th>item_nbr_222879</th>        <td>   -0.0098</td> <td>    0.001</td> <td>   -8.385</td> <td> 0.000</td> <td>   -0.012</td> <td>   -0.007</td>\n",
       "</tr>\n",
       "<tr>\n",
       "  <th>item_nbr_261052</th>        <td>   -0.0158</td> <td>    0.001</td> <td>  -10.754</td> <td> 0.000</td> <td>   -0.019</td> <td>   -0.013</td>\n",
       "</tr>\n",
       "<tr>\n",
       "  <th>item_nbr_265559</th>        <td>    0.0459</td> <td>    0.001</td> <td>   40.318</td> <td> 0.000</td> <td>    0.044</td> <td>    0.048</td>\n",
       "</tr>\n",
       "<tr>\n",
       "  <th>item_nbr_273528</th>        <td>   -0.0077</td> <td>    0.001</td> <td>  -15.241</td> <td> 0.000</td> <td>   -0.009</td> <td>   -0.007</td>\n",
       "</tr>\n",
       "<tr>\n",
       "  <th>item_nbr_314384</th>        <td>    0.0293</td> <td>    0.001</td> <td>   25.544</td> <td> 0.000</td> <td>    0.027</td> <td>    0.032</td>\n",
       "</tr>\n",
       "<tr>\n",
       "  <th>item_nbr_323013</th>        <td>   -0.0256</td> <td>    0.001</td> <td>  -20.431</td> <td> 0.000</td> <td>   -0.028</td> <td>   -0.023</td>\n",
       "</tr>\n",
       "<tr>\n",
       "  <th>item_nbr_364606</th>        <td>    0.0483</td> <td>    0.001</td> <td>   42.038</td> <td> 0.000</td> <td>    0.046</td> <td>    0.051</td>\n",
       "</tr>\n",
       "<tr>\n",
       "  <th>item_nbr_364724</th>        <td>   -0.0210</td> <td>    0.001</td> <td>  -18.193</td> <td> 0.000</td> <td>   -0.023</td> <td>   -0.019</td>\n",
       "</tr>\n",
       "<tr>\n",
       "  <th>item_nbr_414353</th>        <td>    0.0052</td> <td>    0.001</td> <td>    4.507</td> <td> 0.000</td> <td>    0.003</td> <td>    0.008</td>\n",
       "</tr>\n",
       "<tr>\n",
       "  <th>item_nbr_502331</th>        <td>    0.0112</td> <td>    0.000</td> <td>   35.306</td> <td> 0.000</td> <td>    0.011</td> <td>    0.012</td>\n",
       "</tr>\n",
       "<tr>\n",
       "  <th>item_nbr_514144</th>        <td>   -0.0130</td> <td>    0.001</td> <td>  -11.194</td> <td> 0.000</td> <td>   -0.015</td> <td>   -0.011</td>\n",
       "</tr>\n",
       "<tr>\n",
       "  <th>item_nbr_847863</th>        <td>   -0.0211</td> <td>    0.001</td> <td>  -18.103</td> <td> 0.000</td> <td>   -0.023</td> <td>   -0.019</td>\n",
       "</tr>\n",
       "<tr>\n",
       "  <th>item_nbr_1036689</th>       <td>   -0.0045</td> <td>    0.001</td> <td>   -4.034</td> <td> 0.000</td> <td>   -0.007</td> <td>   -0.002</td>\n",
       "</tr>\n",
       "<tr>\n",
       "  <th>item_nbr_1157564</th>       <td>   -0.0202</td> <td>    0.001</td> <td>  -17.055</td> <td> 0.000</td> <td>   -0.022</td> <td>   -0.018</td>\n",
       "</tr>\n",
       "<tr>\n",
       "  <th>item_nbr_1463786</th>       <td>   -0.0454</td> <td>    0.001</td> <td>  -41.962</td> <td> 0.000</td> <td>   -0.048</td> <td>   -0.043</td>\n",
       "</tr>\n",
       "<tr>\n",
       "  <th>item_nbr_1463810</th>       <td>    0.0330</td> <td>    0.001</td> <td>   30.571</td> <td> 0.000</td> <td>    0.031</td> <td>    0.035</td>\n",
       "</tr>\n",
       "<tr>\n",
       "  <th>item_nbr_1463814</th>       <td>    0.0255</td> <td>    0.001</td> <td>   23.318</td> <td> 0.000</td> <td>    0.023</td> <td>    0.028</td>\n",
       "</tr>\n",
       "<tr>\n",
       "  <th>item_nbr_1463855</th>       <td>    0.0007</td> <td>    0.001</td> <td>    0.656</td> <td> 0.512</td> <td>   -0.001</td> <td>    0.003</td>\n",
       "</tr>\n",
       "<tr>\n",
       "  <th>item_nbr_1463860</th>       <td>    0.0293</td> <td>    0.001</td> <td>   27.303</td> <td> 0.000</td> <td>    0.027</td> <td>    0.031</td>\n",
       "</tr>\n",
       "<tr>\n",
       "  <th>item_nbr_1958216</th>       <td>   -0.0226</td> <td>    0.001</td> <td>  -20.875</td> <td> 0.000</td> <td>   -0.025</td> <td>   -0.021</td>\n",
       "</tr>\n",
       "<tr>\n",
       "  <th>family_BEVERAGES</th>       <td>    0.0205</td> <td>    0.000</td> <td>   53.579</td> <td> 0.000</td> <td>    0.020</td> <td>    0.021</td>\n",
       "</tr>\n",
       "<tr>\n",
       "  <th>family_BREAD/BAKERY</th>    <td>    0.0112</td> <td>    0.000</td> <td>   35.306</td> <td> 0.000</td> <td>    0.011</td> <td>    0.012</td>\n",
       "</tr>\n",
       "<tr>\n",
       "  <th>family_GROCERY I</th>       <td>   -0.0022</td> <td>    0.000</td> <td>   -6.261</td> <td> 0.000</td> <td>   -0.003</td> <td>   -0.002</td>\n",
       "</tr>\n",
       "<tr>\n",
       "  <th>family_PERSONAL CARE</th>   <td>   -0.0077</td> <td>    0.001</td> <td>  -15.241</td> <td> 0.000</td> <td>   -0.009</td> <td>   -0.007</td>\n",
       "</tr>\n",
       "<tr>\n",
       "  <th>perishable_0</th>           <td>    0.0105</td> <td>    0.000</td> <td>   35.644</td> <td> 0.000</td> <td>    0.010</td> <td>    0.011</td>\n",
       "</tr>\n",
       "<tr>\n",
       "  <th>perishable_1</th>           <td>    0.0112</td> <td>    0.000</td> <td>   35.306</td> <td> 0.000</td> <td>    0.011</td> <td>    0.012</td>\n",
       "</tr>\n",
       "<tr>\n",
       "  <th>type_y_Additional</th>      <td>    0.0035</td> <td>    0.001</td> <td>    2.799</td> <td> 0.005</td> <td>    0.001</td> <td>    0.006</td>\n",
       "</tr>\n",
       "<tr>\n",
       "  <th>type_y_Holiday</th>         <td>    0.0057</td> <td>    0.001</td> <td>    5.622</td> <td> 0.000</td> <td>    0.004</td> <td>    0.008</td>\n",
       "</tr>\n",
       "<tr>\n",
       "  <th>type_y_Transfer</th>        <td>    0.0047</td> <td>    0.001</td> <td>    4.276</td> <td> 0.000</td> <td>    0.003</td> <td>    0.007</td>\n",
       "</tr>\n",
       "<tr>\n",
       "  <th>type_y_no_holyday</th>      <td>    0.0078</td> <td>    0.000</td> <td>   40.226</td> <td> 0.000</td> <td>    0.007</td> <td>    0.008</td>\n",
       "</tr>\n",
       "<tr>\n",
       "  <th>locale_Local</th>           <td>    0.0026</td> <td>    0.001</td> <td>    2.718</td> <td> 0.007</td> <td>    0.001</td> <td>    0.005</td>\n",
       "</tr>\n",
       "<tr>\n",
       "  <th>locale_National</th>        <td>    0.0113</td> <td>    0.001</td> <td>   11.256</td> <td> 0.000</td> <td>    0.009</td> <td>    0.013</td>\n",
       "</tr>\n",
       "<tr>\n",
       "  <th>locale_no_locale</th>       <td>    0.0078</td> <td>    0.000</td> <td>   40.226</td> <td> 0.000</td> <td>    0.007</td> <td>    0.008</td>\n",
       "</tr>\n",
       "<tr>\n",
       "  <th>transferred_False</th>      <td>    0.0119</td> <td>    0.001</td> <td>   13.547</td> <td> 0.000</td> <td>    0.010</td> <td>    0.014</td>\n",
       "</tr>\n",
       "<tr>\n",
       "  <th>transferred_True</th>       <td>    0.0020</td> <td>    0.001</td> <td>    2.011</td> <td> 0.044</td> <td> 5.17e-05</td> <td>    0.004</td>\n",
       "</tr>\n",
       "<tr>\n",
       "  <th>transferred_no_holyday</th> <td>    0.0078</td> <td>    0.000</td> <td>   40.226</td> <td> 0.000</td> <td>    0.007</td> <td>    0.008</td>\n",
       "</tr>\n",
       "<tr>\n",
       "  <th>month_07</th>               <td>    0.0119</td> <td>    0.000</td> <td>   32.743</td> <td> 0.000</td> <td>    0.011</td> <td>    0.013</td>\n",
       "</tr>\n",
       "<tr>\n",
       "  <th>month_08</th>               <td>    0.0099</td> <td>    0.000</td> <td>   29.494</td> <td> 0.000</td> <td>    0.009</td> <td>    0.011</td>\n",
       "</tr>\n",
       "<tr>\n",
       "  <th>day_Friday</th>             <td>   -0.0052</td> <td>    0.001</td> <td>   -7.335</td> <td> 0.000</td> <td>   -0.007</td> <td>   -0.004</td>\n",
       "</tr>\n",
       "<tr>\n",
       "  <th>day_Monday</th>             <td>    0.0115</td> <td>    0.001</td> <td>   15.794</td> <td> 0.000</td> <td>    0.010</td> <td>    0.013</td>\n",
       "</tr>\n",
       "<tr>\n",
       "  <th>day_Saturday</th>           <td>    0.0120</td> <td>    0.001</td> <td>   18.145</td> <td> 0.000</td> <td>    0.011</td> <td>    0.013</td>\n",
       "</tr>\n",
       "<tr>\n",
       "  <th>day_Sunday</th>             <td>    0.0218</td> <td>    0.001</td> <td>   31.589</td> <td> 0.000</td> <td>    0.020</td> <td>    0.023</td>\n",
       "</tr>\n",
       "<tr>\n",
       "  <th>day_Thursday</th>           <td>   -0.0110</td> <td>    0.001</td> <td>  -15.375</td> <td> 0.000</td> <td>   -0.012</td> <td>   -0.010</td>\n",
       "</tr>\n",
       "<tr>\n",
       "  <th>day_Tuesday</th>            <td>   -0.0030</td> <td>    0.001</td> <td>   -4.142</td> <td> 0.000</td> <td>   -0.004</td> <td>   -0.002</td>\n",
       "</tr>\n",
       "<tr>\n",
       "  <th>day_Wednesday</th>          <td>   -0.0043</td> <td>    0.001</td> <td>   -5.552</td> <td> 0.000</td> <td>   -0.006</td> <td>   -0.003</td>\n",
       "</tr>\n",
       "</table>\n",
       "<table class=\"simpletable\">\n",
       "<tr>\n",
       "  <th>Omnibus:</th>       <td>21175.518</td> <th>  Durbin-Watson:     </th>  <td>   1.997</td>  \n",
       "</tr>\n",
       "<tr>\n",
       "  <th>Prob(Omnibus):</th>  <td> 0.000</td>   <th>  Jarque-Bera (JB):  </th> <td>1009398.677</td>\n",
       "</tr>\n",
       "<tr>\n",
       "  <th>Skew:</th>           <td> 3.237</td>   <th>  Prob(JB):          </th>  <td>    0.00</td>  \n",
       "</tr>\n",
       "<tr>\n",
       "  <th>Kurtosis:</th>       <td>31.833</td>   <th>  Cond. No.          </th>  <td>1.17e+16</td>  \n",
       "</tr>\n",
       "</table><br/><br/>Warnings:<br/>[1] Standard Errors assume that the covariance matrix of the errors is correctly specified.<br/>[2] The smallest eigenvalue is 1.13e-27. This might indicate that there are<br/>strong multicollinearity problems or that the design matrix is singular."
      ],
      "text/plain": [
       "<class 'statsmodels.iolib.summary.Summary'>\n",
       "\"\"\"\n",
       "                            OLS Regression Results                            \n",
       "==============================================================================\n",
       "Dep. Variable:             unit_sales   R-squared:                       0.453\n",
       "Model:                            OLS   Adj. R-squared:                  0.451\n",
       "Method:                 Least Squares   F-statistic:                     269.5\n",
       "Date:                Fri, 25 Oct 2019   Prob (F-statistic):               0.00\n",
       "Time:                        23:05:23   Log-Likelihood:                 47308.\n",
       "No. Observations:               27742   AIC:                        -9.444e+04\n",
       "Df Residuals:                   27656   BIC:                        -9.374e+04\n",
       "Df Model:                          85                                         \n",
       "Covariance Type:            nonrobust                                         \n",
       "==========================================================================================\n",
       "                             coef    std err          t      P>|t|      [0.025      0.975]\n",
       "------------------------------------------------------------------------------------------\n",
       "dcoilwtico                -0.0143      0.001    -13.832      0.000      -0.016      -0.012\n",
       "onpromotion_False          0.0016      0.001      2.949      0.003       0.001       0.003\n",
       "onpromotion_True           0.0202      0.001     29.964      0.000       0.019       0.022\n",
       "city_Ambato               -0.0074      0.001     -8.667      0.000      -0.009      -0.006\n",
       "city_Babahoyo              0.0048      0.001      6.522      0.000       0.003       0.006\n",
       "city_Cayambe               0.0027      0.001      2.945      0.003       0.001       0.004\n",
       "city_Cuenca                0.0041      0.001      5.341      0.000       0.003       0.006\n",
       "city_Daule                 0.0040      0.001      4.711      0.000       0.002       0.006\n",
       "city_El Carmen             0.0020      0.001      2.153      0.031       0.000       0.004\n",
       "city_Esmeraldas           -0.0055      0.001     -6.134      0.000      -0.007      -0.004\n",
       "city_Guaranda              0.0032      0.001      3.625      0.000       0.001       0.005\n",
       "city_Guayaquil            -0.0101      0.001    -15.442      0.000      -0.011      -0.009\n",
       "city_Ibarra               -0.0018      0.001     -2.062      0.039      -0.004   -8.93e-05\n",
       "city_Latacunga             0.0013      0.001      1.590      0.112      -0.000       0.003\n",
       "city_Libertad             -0.0055      0.001     -6.182      0.000      -0.007      -0.004\n",
       "city_Loja                  0.0072      0.001      8.410      0.000       0.006       0.009\n",
       "city_Machala               0.0187      0.001     21.299      0.000       0.017       0.020\n",
       "city_Manta                 0.0161      0.001     18.284      0.000       0.014       0.018\n",
       "city_Playas               -0.0108      0.001    -11.720      0.000      -0.013      -0.009\n",
       "city_Puyo                 -0.0029      0.001     -3.842      0.000      -0.004      -0.001\n",
       "city_Quevedo               0.0018      0.001      2.046      0.041    7.76e-05       0.004\n",
       "city_Quito                 0.0091      0.001     16.336      0.000       0.008       0.010\n",
       "city_Riobamba             -0.0020      0.001     -2.600      0.009      -0.003      -0.000\n",
       "city_Salinas              -0.0099      0.001    -11.563      0.000      -0.012      -0.008\n",
       "city_Santo Domingo         0.0026      0.001      3.155      0.002       0.001       0.004\n",
       "type_x_A                   0.0308      0.000     62.268      0.000       0.030       0.032\n",
       "type_x_B                  -0.0016      0.000     -3.234      0.001      -0.003      -0.001\n",
       "type_x_C                  -0.0111      0.000    -27.134      0.000      -0.012      -0.010\n",
       "type_x_D                  -0.0052      0.000    -11.351      0.000      -0.006      -0.004\n",
       "type_x_E                   0.0089      0.001     13.175      0.000       0.008       0.010\n",
       "cluster_1                  0.0055      0.001      7.539      0.000       0.004       0.007\n",
       "cluster_2                 -0.0019      0.001     -2.445      0.014      -0.003      -0.000\n",
       "cluster_3                 -0.0005      0.001     -0.895      0.371      -0.002       0.001\n",
       "cluster_4                 -0.0020      0.001     -2.695      0.007      -0.003      -0.001\n",
       "cluster_5                  0.0072      0.001      8.539      0.000       0.006       0.009\n",
       "cluster_6                  0.0052      0.001      8.380      0.000       0.004       0.006\n",
       "cluster_7                 -0.0048      0.001     -7.969      0.000      -0.006      -0.004\n",
       "cluster_8                  0.0100      0.001     12.829      0.000       0.008       0.012\n",
       "cluster_9                 -0.0011      0.001     -1.376      0.169      -0.003       0.000\n",
       "cluster_10                -0.0020      0.001     -2.886      0.004      -0.003      -0.001\n",
       "cluster_11                 0.0241      0.001     30.163      0.000       0.023       0.026\n",
       "cluster_12                 0.0056      0.001      6.712      0.000       0.004       0.007\n",
       "cluster_13             -6.486e-05      0.001     -0.089      0.929      -0.001       0.001\n",
       "cluster_14                 0.0034      0.001      4.815      0.000       0.002       0.005\n",
       "cluster_15                -0.0113      0.001    -18.160      0.000      -0.012      -0.010\n",
       "cluster_16                -0.0116      0.001    -14.320      0.000      -0.013      -0.010\n",
       "cluster_17                -0.0039      0.001     -4.731      0.000      -0.005      -0.002\n",
       "store_nbr_1               -0.0277      0.002    -17.013      0.000      -0.031      -0.024\n",
       "store_nbr_2               -0.0104      0.002     -6.456      0.000      -0.014      -0.007\n",
       "store_nbr_3                0.0339      0.002     21.715      0.000       0.031       0.037\n",
       "store_nbr_4                0.0006      0.001      0.454      0.650      -0.002       0.003\n",
       "store_nbr_5                0.0013      0.001      1.070      0.285      -0.001       0.004\n",
       "store_nbr_6                0.0220      0.002     13.822      0.000       0.019       0.025\n",
       "store_nbr_7               -0.0148      0.002     -9.314      0.000      -0.018      -0.012\n",
       "store_nbr_8               -0.0090      0.002     -5.693      0.000      -0.012      -0.006\n",
       "store_nbr_9                0.0074      0.002      4.568      0.000       0.004       0.011\n",
       "store_nbr_10              -0.0140      0.001    -10.434      0.000      -0.017      -0.011\n",
       "store_nbr_11               0.0027      0.001      2.945      0.003       0.001       0.004\n",
       "store_nbr_12               0.0044      0.001      3.094      0.002       0.002       0.007\n",
       "store_nbr_13              -0.0031      0.001     -2.170      0.030      -0.006      -0.000\n",
       "store_nbr_14              -0.0020      0.001     -2.600      0.009      -0.003      -0.000\n",
       "store_nbr_15              -0.0018      0.001     -2.062      0.039      -0.004   -8.93e-05\n",
       "store_nbr_16              -0.0049      0.001     -3.492      0.000      -0.008      -0.002\n",
       "store_nbr_17               0.0056      0.001      6.712      0.000       0.004       0.007\n",
       "store_nbr_18              -0.0116      0.001    -14.320      0.000      -0.013      -0.010\n",
       "store_nbr_19               0.0032      0.001      3.625      0.000       0.001       0.005\n",
       "store_nbr_20              -0.0131      0.002     -8.240      0.000      -0.016      -0.010\n",
       "store_nbr_21               0.0061      0.001      4.503      0.000       0.003       0.009\n",
       "store_nbr_22              -0.0029      0.001     -3.842      0.000      -0.004      -0.001\n",
       "store_nbr_23              -0.0017      0.001     -1.479      0.139      -0.004       0.001\n",
       "store_nbr_24               0.0113      0.001      9.119      0.000       0.009       0.014\n",
       "store_nbr_25              -0.0099      0.001    -11.563      0.000      -0.012      -0.008\n",
       "store_nbr_26              -0.0156      0.001    -13.162      0.000      -0.018      -0.013\n",
       "store_nbr_27               0.0040      0.001      4.711      0.000       0.002       0.006\n",
       "store_nbr_28               0.0212      0.002     13.986      0.000       0.018       0.024\n",
       "store_nbr_29              -0.0013      0.002     -0.882      0.378      -0.004       0.002\n",
       "store_nbr_30              -0.0046      0.002     -2.884      0.004      -0.008      -0.001\n",
       "store_nbr_31               0.0048      0.001      6.522      0.000       0.003       0.006\n",
       "store_nbr_32              -0.0133      0.002     -8.163      0.000      -0.016      -0.010\n",
       "store_nbr_33               0.0018      0.001      2.046      0.041    7.76e-05       0.004\n",
       "store_nbr_34              -0.0038      0.002     -2.558      0.011      -0.007      -0.001\n",
       "store_nbr_35              -0.0108      0.001    -11.720      0.000      -0.013      -0.009\n",
       "store_nbr_36              -0.0055      0.001     -6.182      0.000      -0.007      -0.004\n",
       "store_nbr_37              -0.0012      0.001     -0.823      0.411      -0.004       0.002\n",
       "store_nbr_38               0.0072      0.001      8.410      0.000       0.006       0.009\n",
       "store_nbr_39               0.0060      0.001      5.170      0.000       0.004       0.008\n",
       "store_nbr_40               0.0292      0.001     23.111      0.000       0.027       0.032\n",
       "store_nbr_41              -0.0105      0.001     -9.048      0.000      -0.013      -0.008\n",
       "store_nbr_42              -0.0007      0.001     -0.505      0.613      -0.003       0.002\n",
       "store_nbr_43              -0.0055      0.001     -6.134      0.000      -0.007      -0.004\n",
       "store_nbr_44               0.0072      0.001      8.539      0.000       0.006       0.009\n",
       "store_nbr_45               0.0532      0.001     37.014      0.000       0.050       0.056\n",
       "store_nbr_46              -0.0046      0.002     -2.859      0.004      -0.008      -0.001\n",
       "store_nbr_47               0.0171      0.002     10.595      0.000       0.014       0.020\n",
       "store_nbr_48              -0.0034      0.002     -2.107      0.035      -0.007      -0.000\n",
       "store_nbr_49              -0.0291      0.001    -20.243      0.000      -0.032      -0.026\n",
       "store_nbr_50              -0.0057      0.001     -4.727      0.000      -0.008      -0.003\n",
       "store_nbr_51              -0.0039      0.001     -4.731      0.000      -0.005      -0.002\n",
       "store_nbr_53               0.0161      0.001     18.284      0.000       0.014       0.018\n",
       "store_nbr_54               0.0020      0.001      2.153      0.031       0.000       0.004\n",
       "item_nbr_222879           -0.0098      0.001     -8.385      0.000      -0.012      -0.007\n",
       "item_nbr_261052           -0.0158      0.001    -10.754      0.000      -0.019      -0.013\n",
       "item_nbr_265559            0.0459      0.001     40.318      0.000       0.044       0.048\n",
       "item_nbr_273528           -0.0077      0.001    -15.241      0.000      -0.009      -0.007\n",
       "item_nbr_314384            0.0293      0.001     25.544      0.000       0.027       0.032\n",
       "item_nbr_323013           -0.0256      0.001    -20.431      0.000      -0.028      -0.023\n",
       "item_nbr_364606            0.0483      0.001     42.038      0.000       0.046       0.051\n",
       "item_nbr_364724           -0.0210      0.001    -18.193      0.000      -0.023      -0.019\n",
       "item_nbr_414353            0.0052      0.001      4.507      0.000       0.003       0.008\n",
       "item_nbr_502331            0.0112      0.000     35.306      0.000       0.011       0.012\n",
       "item_nbr_514144           -0.0130      0.001    -11.194      0.000      -0.015      -0.011\n",
       "item_nbr_847863           -0.0211      0.001    -18.103      0.000      -0.023      -0.019\n",
       "item_nbr_1036689          -0.0045      0.001     -4.034      0.000      -0.007      -0.002\n",
       "item_nbr_1157564          -0.0202      0.001    -17.055      0.000      -0.022      -0.018\n",
       "item_nbr_1463786          -0.0454      0.001    -41.962      0.000      -0.048      -0.043\n",
       "item_nbr_1463810           0.0330      0.001     30.571      0.000       0.031       0.035\n",
       "item_nbr_1463814           0.0255      0.001     23.318      0.000       0.023       0.028\n",
       "item_nbr_1463855           0.0007      0.001      0.656      0.512      -0.001       0.003\n",
       "item_nbr_1463860           0.0293      0.001     27.303      0.000       0.027       0.031\n",
       "item_nbr_1958216          -0.0226      0.001    -20.875      0.000      -0.025      -0.021\n",
       "family_BEVERAGES           0.0205      0.000     53.579      0.000       0.020       0.021\n",
       "family_BREAD/BAKERY        0.0112      0.000     35.306      0.000       0.011       0.012\n",
       "family_GROCERY I          -0.0022      0.000     -6.261      0.000      -0.003      -0.002\n",
       "family_PERSONAL CARE      -0.0077      0.001    -15.241      0.000      -0.009      -0.007\n",
       "perishable_0               0.0105      0.000     35.644      0.000       0.010       0.011\n",
       "perishable_1               0.0112      0.000     35.306      0.000       0.011       0.012\n",
       "type_y_Additional          0.0035      0.001      2.799      0.005       0.001       0.006\n",
       "type_y_Holiday             0.0057      0.001      5.622      0.000       0.004       0.008\n",
       "type_y_Transfer            0.0047      0.001      4.276      0.000       0.003       0.007\n",
       "type_y_no_holyday          0.0078      0.000     40.226      0.000       0.007       0.008\n",
       "locale_Local               0.0026      0.001      2.718      0.007       0.001       0.005\n",
       "locale_National            0.0113      0.001     11.256      0.000       0.009       0.013\n",
       "locale_no_locale           0.0078      0.000     40.226      0.000       0.007       0.008\n",
       "transferred_False          0.0119      0.001     13.547      0.000       0.010       0.014\n",
       "transferred_True           0.0020      0.001      2.011      0.044    5.17e-05       0.004\n",
       "transferred_no_holyday     0.0078      0.000     40.226      0.000       0.007       0.008\n",
       "month_07                   0.0119      0.000     32.743      0.000       0.011       0.013\n",
       "month_08                   0.0099      0.000     29.494      0.000       0.009       0.011\n",
       "day_Friday                -0.0052      0.001     -7.335      0.000      -0.007      -0.004\n",
       "day_Monday                 0.0115      0.001     15.794      0.000       0.010       0.013\n",
       "day_Saturday               0.0120      0.001     18.145      0.000       0.011       0.013\n",
       "day_Sunday                 0.0218      0.001     31.589      0.000       0.020       0.023\n",
       "day_Thursday              -0.0110      0.001    -15.375      0.000      -0.012      -0.010\n",
       "day_Tuesday               -0.0030      0.001     -4.142      0.000      -0.004      -0.002\n",
       "day_Wednesday             -0.0043      0.001     -5.552      0.000      -0.006      -0.003\n",
       "==============================================================================\n",
       "Omnibus:                    21175.518   Durbin-Watson:                   1.997\n",
       "Prob(Omnibus):                  0.000   Jarque-Bera (JB):          1009398.677\n",
       "Skew:                           3.237   Prob(JB):                         0.00\n",
       "Kurtosis:                      31.833   Cond. No.                     1.17e+16\n",
       "==============================================================================\n",
       "\n",
       "Warnings:\n",
       "[1] Standard Errors assume that the covariance matrix of the errors is correctly specified.\n",
       "[2] The smallest eigenvalue is 1.13e-27. This might indicate that there are\n",
       "strong multicollinearity problems or that the design matrix is singular.\n",
       "\"\"\""
      ]
     },
     "execution_count": 56,
     "metadata": {},
     "output_type": "execute_result"
    }
   ],
   "source": [
    "import statsmodels.regression.linear_model as sm\n",
    "\n",
    "#import statsmodels.formula.api as sm\n",
    "model = sm.OLS(endog=y_train, exog=X_train)\n",
    "results = model.fit()\n",
    "# Statsmodels gives R-like statistical output\n",
    "results.summary()\n",
    "\n",
    "# Here the Ordinalry Least Squares method has given us the r^2 value of 0.453 which is poor for model to be predicted on these variables."
   ]
  },
  {
   "cell_type": "markdown",
   "metadata": {},
   "source": [
    "## The Linear regression model gives a low R- square value of 0.453"
   ]
  },
  {
   "cell_type": "markdown",
   "metadata": {},
   "source": [
    "## Checking for VIF for eliminating multicollinearity and overfitting"
   ]
  },
  {
   "cell_type": "code",
   "execution_count": 57,
   "metadata": {},
   "outputs": [],
   "source": [
    "#Implementing VIF (Variance Inflation Factor) to check whether the selected independent variables are correct for prediction \n",
    "# or not. Also, 'item_nbr', 'perishable' and 'dcoilwtico' had very close levels of co-relation with price which makes us to investigate whether all \n",
    "# three are important or not.\n",
    "indep=['dcoilwtico','perishable','item_nbr','store_nbr','cluster']\n",
    "X=Salesdf[indep]"
   ]
  },
  {
   "cell_type": "code",
   "execution_count": 58,
   "metadata": {},
   "outputs": [
    {
     "name": "stdout",
     "output_type": "stream",
     "text": [
      "vif : [11.289157876804323, 1.3541421145036463, 5.004774609057117, 3.9219191046555366, 4.4905163098664405]\n",
      "dcoilwtico\n",
      "Final variables:  ['perishable', 'item_nbr', 'store_nbr', 'cluster']\n"
     ]
    }
   ],
   "source": [
    "from statsmodels.stats.outliers_influence import variance_inflation_factor  \n",
    "thresh=10 #Setting a threshold of 10 as a sign of serious and sever multi-collinearity\n",
    "for i in np.arange(0,len(indep)):\n",
    "    vif=[variance_inflation_factor(X[indep].values,ix)\n",
    "    for ix in range(X[indep].shape[1])]\n",
    "    maxloc=vif.index(max(vif))\n",
    "    if max(vif) > thresh:\n",
    "        print (\"vif :\", vif)\n",
    "        print( X[indep].columns[maxloc] )\n",
    "        del indep[maxloc]\n",
    "    else:\n",
    "        break\n",
    "        \n",
    "    print ('Final variables: ', indep)"
   ]
  },
  {
   "cell_type": "code",
   "execution_count": 59,
   "metadata": {},
   "outputs": [
    {
     "data": {
      "text/html": [
       "<div>\n",
       "<style scoped>\n",
       "    .dataframe tbody tr th:only-of-type {\n",
       "        vertical-align: middle;\n",
       "    }\n",
       "\n",
       "    .dataframe tbody tr th {\n",
       "        vertical-align: top;\n",
       "    }\n",
       "\n",
       "    .dataframe thead th {\n",
       "        text-align: right;\n",
       "    }\n",
       "</style>\n",
       "<table border=\"1\" class=\"dataframe\">\n",
       "  <thead>\n",
       "    <tr style=\"text-align: right;\">\n",
       "      <th></th>\n",
       "      <th>perishable</th>\n",
       "      <th>item_nbr</th>\n",
       "      <th>store_nbr</th>\n",
       "      <th>cluster</th>\n",
       "    </tr>\n",
       "  </thead>\n",
       "  <tbody>\n",
       "    <tr>\n",
       "      <td>0</td>\n",
       "      <td>1</td>\n",
       "      <td>103665</td>\n",
       "      <td>1</td>\n",
       "      <td>13</td>\n",
       "    </tr>\n",
       "    <tr>\n",
       "      <td>1</td>\n",
       "      <td>0</td>\n",
       "      <td>105574</td>\n",
       "      <td>1</td>\n",
       "      <td>13</td>\n",
       "    </tr>\n",
       "    <tr>\n",
       "      <td>2</td>\n",
       "      <td>0</td>\n",
       "      <td>105575</td>\n",
       "      <td>1</td>\n",
       "      <td>13</td>\n",
       "    </tr>\n",
       "    <tr>\n",
       "      <td>3</td>\n",
       "      <td>0</td>\n",
       "      <td>105577</td>\n",
       "      <td>1</td>\n",
       "      <td>13</td>\n",
       "    </tr>\n",
       "    <tr>\n",
       "      <td>4</td>\n",
       "      <td>0</td>\n",
       "      <td>105693</td>\n",
       "      <td>1</td>\n",
       "      <td>13</td>\n",
       "    </tr>\n",
       "  </tbody>\n",
       "</table>\n",
       "</div>"
      ],
      "text/plain": [
       "   perishable  item_nbr  store_nbr  cluster\n",
       "0           1    103665          1       13\n",
       "1           0    105574          1       13\n",
       "2           0    105575          1       13\n",
       "3           0    105577          1       13\n",
       "4           0    105693          1       13"
      ]
     },
     "execution_count": 59,
     "metadata": {},
     "output_type": "execute_result"
    }
   ],
   "source": [
    "X[indep].head(5)"
   ]
  },
  {
   "cell_type": "code",
   "execution_count": 60,
   "metadata": {},
   "outputs": [],
   "source": [
    "X=Salesdf[['perishable', 'item_nbr', 'store_nbr', 'cluster']]\n",
    "y=Salesdf[[\"unit_sales\"]]"
   ]
  },
  {
   "cell_type": "markdown",
   "metadata": {},
   "source": [
    "## Cross Validation using Scikit Learn\n",
    "R^2 value is basically dependant on the way the data is split. Hence, there may be times when the R^2 value may not be able to represent the model's ability to generalize. For this we perform cross validation."
   ]
  },
  {
   "cell_type": "code",
   "execution_count": 61,
   "metadata": {},
   "outputs": [
    {
     "name": "stdout",
     "output_type": "stream",
     "text": [
      "[0.44292296 0.43459332 0.47715337 0.45168847 0.43980665]\n",
      "0.44923295202395835\n",
      "0.015023776013901965\n"
     ]
    }
   ],
   "source": [
    "reg=linear_model.LinearRegression()\n",
    "cv_results=cross_val_score(reg,X_train,y_train,cv=5)\n",
    "print(cv_results)\n",
    "print(np.mean(cv_results))\n",
    "print(np.std(cv_results))\n",
    "#Using cross validation of score 5"
   ]
  },
  {
   "cell_type": "markdown",
   "metadata": {},
   "source": [
    "# Regularization\n",
    "We perform regularization in order to alter the loss function to penalize it for having higher coefficients for each feature variable. And as we know, large coefficients leads to overfitting."
   ]
  },
  {
   "cell_type": "code",
   "execution_count": 62,
   "metadata": {},
   "outputs": [
    {
     "data": {
      "text/plain": [
       "0.4611427831845102"
      ]
     },
     "execution_count": 62,
     "metadata": {},
     "output_type": "execute_result"
    }
   ],
   "source": [
    "ridge = Ridge(alpha=0.1, normalize = True)\n",
    "ridge.fit(X_train,y_train)\n",
    "ridge_pred=ridge.predict(X_test)\n",
    "ridge.score(X_test,y_test)\n",
    "#The score is pretty much similar to the linear model built which ensures that the model has passed the Ridge regression test\n",
    "# for regularization\n",
    "#Ridge is used to penalize the loss function by adding the OLS loss function to the square of each coefficient multiplied by alpha."
   ]
  },
  {
   "cell_type": "markdown",
   "metadata": {},
   "source": [
    "## DecisionTree Regressor\n",
    "A decision tree is a decision support tool that uses a tree-like graph or model of decisions and their possible consequences, including chance event outcomes, resource costs, and utility. It is one way to display an algorithm that only contains conditional control statements."
   ]
  },
  {
   "cell_type": "code",
   "execution_count": 63,
   "metadata": {},
   "outputs": [],
   "source": [
    "dtr=DecisionTreeRegressor(max_depth=500,min_samples_leaf=90,max_leaf_nodes=90)"
   ]
  },
  {
   "cell_type": "code",
   "execution_count": 64,
   "metadata": {},
   "outputs": [
    {
     "name": "stdout",
     "output_type": "stream",
     "text": [
      "R2 score =  0.4814969737915389 / 1.0\n",
      "MSE score =  0.0017350111327910458 / 0.0\n"
     ]
    }
   ],
   "source": [
    "dtr.fit(X_train,y_train)\n",
    "y_pred=dtr.predict(X_test)\n",
    "\n",
    "print('R2 score = ',r2_score(y_test, y_pred), '/ 1.0')\n",
    "print('MSE score = ',mean_squared_error(y_test, y_pred), '/ 0.0')\n",
    "##using a decision tree greatly improves the accurancy of model prediction."
   ]
  },
  {
   "cell_type": "code",
   "execution_count": 65,
   "metadata": {},
   "outputs": [
    {
     "name": "stderr",
     "output_type": "stream",
     "text": [
      "/opt/conda/lib/python3.6/site-packages/ipykernel_launcher.py:2: FutureWarning: Method .as_matrix will be removed in a future version. Use .values instead.\n",
      "  \n"
     ]
    },
    {
     "data": {
      "image/png": "[encoded data removed]",
      "text/plain": [
       "<Figure size 432x288 with 1 Axes>"
      ]
     },
     "metadata": {},
     "output_type": "display_data"
    }
   ],
   "source": [
    "#Lets plot the  first 50 predictions\n",
    "plt.plot(y_test.as_matrix()[0:50], '+', color ='blue', alpha=0.7)\n",
    "plt.plot(y_pred[0:50], 'ro', color ='red', alpha=0.5)\n",
    "plt.show()"
   ]
  },
  {
   "cell_type": "markdown",
   "metadata": {},
   "source": [
    "## ExtraTrees Regressor\n",
    "Extra-trees differ from classic decision trees in the way they are built. When looking for the best split to separate the samples of a node into two groups, random splits are drawn for each of the max_features randomly selected features and the best split among those is chosen."
   ]
  },
  {
   "cell_type": "code",
   "execution_count": 66,
   "metadata": {},
   "outputs": [
    {
     "name": "stdout",
     "output_type": "stream",
     "text": [
      "Fitting 3 folds for each of 54 candidates, totalling 162 fits\n"
     ]
    },
    {
     "name": "stderr",
     "output_type": "stream",
     "text": [
      "[Parallel(n_jobs=-1)]: Using backend LokyBackend with 4 concurrent workers.\n",
      "[Parallel(n_jobs=-1)]: Done  42 tasks      | elapsed:   41.2s\n",
      "[Parallel(n_jobs=-1)]: Done 162 out of 162 | elapsed:  5.5min finished\n"
     ]
    },
    {
     "data": {
      "text/plain": [
       "ExtraTreesRegressor(bootstrap=False, criterion='mse', max_depth=15,\n",
       "                    max_features='auto', max_leaf_nodes=None,\n",
       "                    min_impurity_decrease=0.0, min_impurity_split=None,\n",
       "                    min_samples_leaf=1, min_samples_split=10,\n",
       "                    min_weight_fraction_leaf=0.0, n_estimators=100, n_jobs=None,\n",
       "                    oob_score=False, random_state=None, verbose=0,\n",
       "                    warm_start=False)"
      ]
     },
     "execution_count": 66,
     "metadata": {},
     "output_type": "execute_result"
    }
   ],
   "source": [
    "\n",
    "etr = ExtraTreesRegressor()\n",
    "\n",
    "# Choose some parameter combinations to try\n",
    "\n",
    "parameters = {'n_estimators': [5,10,100],\n",
    "              'criterion': ['mse'],\n",
    "              'max_depth': [5,10,15], \n",
    "              'min_samples_split': [2,5,10],\n",
    "              'min_samples_leaf': [1,5]\n",
    "             }\n",
    "#We have to use RandomForestRegressor's own scorer (which is R^2 score)\n",
    "\n",
    "#Determines the cross-validation splitting strategy /to specify the number of folds in a (Stratified)KFold\n",
    "\n",
    "grid_obj = GridSearchCV(etr, parameters,\n",
    "                        cv=3, \n",
    "                        n_jobs=-1, #Number of jobs to run in parallel\n",
    "                        verbose=1)\n",
    "grid_obj = grid_obj.fit(X_train, y_train)\n",
    "\n",
    "# Set the clf to the best combination of parameters\n",
    "etr = grid_obj.best_estimator_\n",
    "\n",
    "# Fit the best algorithm to the data. \n",
    "etr.fit(X_train, y_train)"
   ]
  },
  {
   "cell_type": "code",
   "execution_count": 67,
   "metadata": {},
   "outputs": [
    {
     "name": "stdout",
     "output_type": "stream",
     "text": [
      "R2 score =  0.7002745681507502 / 1.0\n",
      "MSE score =  0.00100293910498794 / 0.0\n",
      "RMSE score =  0.031669213835962835 / 0.0\n"
     ]
    }
   ],
   "source": [
    "import math\n",
    "y_pred = etr.predict(X_test)\n",
    "\n",
    "print('R2 score = ',r2_score(y_test, y_pred), '/ 1.0')\n",
    "print('MSE score = ',mean_squared_error(y_test, y_pred), '/ 0.0')\n",
    "print('RMSE score = ',math.sqrt(mean_squared_error(y_test, y_pred)), '/ 0.0')"
   ]
  },
  {
   "cell_type": "code",
   "execution_count": 68,
   "metadata": {},
   "outputs": [
    {
     "name": "stderr",
     "output_type": "stream",
     "text": [
      "/opt/conda/lib/python3.6/site-packages/ipykernel_launcher.py:2: FutureWarning: Method .as_matrix will be removed in a future version. Use .values instead.\n",
      "  \n"
     ]
    },
    {
     "data": {
      "image/png": "[encoded data removed]",
      "text/plain": [
       "<Figure size 432x288 with 1 Axes>"
      ]
     },
     "metadata": {},
     "output_type": "display_data"
    }
   ],
   "source": [
    "#Lets plot the  first 50 predictions\n",
    "plt.plot(y_test.as_matrix()[0:50], '+', color ='blue', alpha=0.7)\n",
    "plt.plot(y_pred[0:50], 'ro', color ='red', alpha=0.5)\n",
    "plt.show()"
   ]
  },
  {
   "cell_type": "markdown",
   "metadata": {},
   "source": [
    "# Random Forest Regressor"
   ]
  },
  {
   "cell_type": "code",
   "execution_count": 69,
   "metadata": {},
   "outputs": [
    {
     "name": "stderr",
     "output_type": "stream",
     "text": [
      "[Parallel(n_jobs=-1)]: Using backend LokyBackend with 4 concurrent workers.\n"
     ]
    },
    {
     "name": "stdout",
     "output_type": "stream",
     "text": [
      "Fitting 5 folds for each of 6 candidates, totalling 30 fits\n"
     ]
    },
    {
     "name": "stderr",
     "output_type": "stream",
     "text": [
      "[Parallel(n_jobs=-1)]: Done  30 out of  30 | elapsed:  2.1min finished\n"
     ]
    },
    {
     "data": {
      "text/plain": [
       "RandomForestRegressor(bootstrap=True, criterion='mse', max_depth=None,\n",
       "                      max_features='auto', max_leaf_nodes=None,\n",
       "                      min_impurity_decrease=0.0, min_impurity_split=None,\n",
       "                      min_samples_leaf=1, min_samples_split=2,\n",
       "                      min_weight_fraction_leaf=0.0, n_estimators=100,\n",
       "                      n_jobs=None, oob_score=False, random_state=None,\n",
       "                      verbose=0, warm_start=False)"
      ]
     },
     "execution_count": 69,
     "metadata": {},
     "output_type": "execute_result"
    }
   ],
   "source": [
    "# Choose the type of classifier. \n",
    "RFR = RandomForestRegressor()\n",
    "\n",
    "# Choose some parameter combinations to try\n",
    "parameters = {'n_estimators': [5, 10, 100],\n",
    "              'min_samples_leaf': [1,5]\n",
    "             }\n",
    "\n",
    "\n",
    "#We have to use RandomForestRegressor's own scorer (which is R^2 score)\n",
    "\n",
    "#Determines the cross-validation splitting strategy /to specify the number of folds in a (Stratified)KFold\n",
    "grid_obj = GridSearchCV(RFR, parameters,\n",
    "                        cv=5, \n",
    "                        n_jobs=-1, #Number of jobs to run in parallel\n",
    "                        verbose=1)\n",
    "grid_obj = grid_obj.fit(X_train, y_train)\n",
    "\n",
    "# Set the clf to the best combination of parameters\n",
    "RFR = grid_obj.best_estimator_\n",
    "\n",
    "# Fit the best algorithm to the data. \n",
    "RFR.fit(X_train, y_train)"
   ]
  },
  {
   "cell_type": "code",
   "execution_count": 70,
   "metadata": {},
   "outputs": [
    {
     "name": "stdout",
     "output_type": "stream",
     "text": [
      "R2 score =  0.8017773176812173 / 1.0\n",
      "MSE score =  0.000663291327554413 / 0.0\n",
      "RMSE score =  0.025754442870200338 / 0.0\n"
     ]
    }
   ],
   "source": [
    "y_pred = RFR.predict(X_test)\n",
    "\n",
    "print('R2 score = ',r2_score(y_test, y_pred), '/ 1.0')\n",
    "print('MSE score = ',mean_squared_error(y_test, y_pred), '/ 0.0')\n",
    "print('RMSE score = ',math.sqrt(mean_squared_error(y_test, y_pred)), '/ 0.0')"
   ]
  },
  {
   "cell_type": "code",
   "execution_count": 71,
   "metadata": {},
   "outputs": [
    {
     "name": "stderr",
     "output_type": "stream",
     "text": [
      "/opt/conda/lib/python3.6/site-packages/ipykernel_launcher.py:2: FutureWarning: Method .as_matrix will be removed in a future version. Use .values instead.\n",
      "  \n"
     ]
    },
    {
     "data": {
      "image/png": "[encoded data removed]",
      "text/plain": [
       "<Figure size 432x288 with 1 Axes>"
      ]
     },
     "metadata": {},
     "output_type": "display_data"
    }
   ],
   "source": [
    "#Lets plot the  first 50 predictions\n",
    "plt.plot(y_test.as_matrix()[0:50], '+', color ='blue', alpha=0.7)\n",
    "plt.plot(y_pred[0:50], 'ro', color ='red', alpha=0.5)\n",
    "plt.show()"
   ]
  },
  {
   "cell_type": "markdown",
   "metadata": {},
   "source": [
    "### Even after tuning the parameters multiple times above is the best RMSE score obtained through RandomForest Regressor\n",
    "Below is an example."
   ]
  },
  {
   "cell_type": "code",
   "execution_count": 72,
   "metadata": {},
   "outputs": [
    {
     "name": "stdout",
     "output_type": "stream",
     "text": [
      "Fitting 5 folds for each of 12 candidates, totalling 60 fits\n"
     ]
    },
    {
     "name": "stderr",
     "output_type": "stream",
     "text": [
      "[Parallel(n_jobs=-1)]: Using backend LokyBackend with 4 concurrent workers.\n",
      "[Parallel(n_jobs=-1)]: Done  42 tasks      | elapsed: 10.9min\n",
      "[Parallel(n_jobs=-1)]: Done  60 out of  60 | elapsed: 16.0min finished\n"
     ]
    },
    {
     "data": {
      "text/plain": [
       "RandomForestRegressor(bootstrap=True, criterion='mse', max_depth=None,\n",
       "                      max_features='auto', max_leaf_nodes=None,\n",
       "                      min_impurity_decrease=0.0, min_impurity_split=None,\n",
       "                      min_samples_leaf=1, min_samples_split=2,\n",
       "                      min_weight_fraction_leaf=0.0, n_estimators=500,\n",
       "                      n_jobs=None, oob_score=False, random_state=None,\n",
       "                      verbose=0, warm_start=False)"
      ]
     },
     "execution_count": 72,
     "metadata": {},
     "output_type": "execute_result"
    }
   ],
   "source": [
    "RFR = RandomForestRegressor()\n",
    "\n",
    "# Choose some parameter combinations to try\n",
    "parameters = {'n_estimators': [5,10,500],\n",
    "               'max_features':['auto'],\n",
    "              'min_samples_leaf': [1,5,10,50]\n",
    "             }\n",
    "\n",
    "\n",
    "#We have to use RandomForestRegressor's own scorer (which is R^2 score)\n",
    "\n",
    "#Determines the cross-validation splitting strategy /to specify the number of folds in a (Stratified)KFold\n",
    "grid_obj = GridSearchCV(RFR, parameters,\n",
    "                        cv=5, \n",
    "                        n_jobs=-1, #Number of jobs to run in parallel\n",
    "                        verbose=1)\n",
    "grid_obj = grid_obj.fit(X_train, y_train)\n",
    "\n",
    "# Set the clf to the best combination of parameters\n",
    "RFR = grid_obj.best_estimator_\n",
    "\n",
    "# Fit the best algorithm to the data. \n",
    "RFR.fit(X_train, y_train)"
   ]
  },
  {
   "cell_type": "code",
   "execution_count": 73,
   "metadata": {},
   "outputs": [
    {
     "name": "stdout",
     "output_type": "stream",
     "text": [
      "R2 score =  0.806252980195732 / 1.0\n",
      "RMSE score =  0.0254620285431131 / 0.0\n"
     ]
    }
   ],
   "source": [
    "y_pred = RFR.predict(X_test)\n",
    "\n",
    "print('R2 score = ',r2_score(y_test, y_pred), '/ 1.0')\n",
    "print('RMSE score = ',math.sqrt(mean_squared_error(y_test, y_pred)), '/ 0.0')"
   ]
  },
  {
   "cell_type": "code",
   "execution_count": 74,
   "metadata": {},
   "outputs": [
    {
     "name": "stderr",
     "output_type": "stream",
     "text": [
      "/opt/conda/lib/python3.6/site-packages/ipykernel_launcher.py:2: FutureWarning: Method .as_matrix will be removed in a future version. Use .values instead.\n",
      "  \n"
     ]
    },
    {
     "data": {
      "image/png": "[encoded data removed]",
      "text/plain": [
       "<Figure size 432x288 with 1 Axes>"
      ]
     },
     "metadata": {},
     "output_type": "display_data"
    }
   ],
   "source": [
    "#Lets plot the  first 50 predictions\n",
    "plt.plot(y_test.as_matrix()[0:50], '+', color ='blue', alpha=0.7)\n",
    "plt.plot(y_pred[0:50], 'ro', color ='red', alpha=0.5)\n",
    "plt.show()"
   ]
  },
  {
   "cell_type": "markdown",
   "metadata": {},
   "source": [
    "# Gradient Boosting Regressor"
   ]
  },
  {
   "cell_type": "code",
   "execution_count": 75,
   "metadata": {},
   "outputs": [
    {
     "name": "stdout",
     "output_type": "stream",
     "text": [
      "Fitting 5 folds for each of 16 candidates, totalling 80 fits\n"
     ]
    },
    {
     "name": "stderr",
     "output_type": "stream",
     "text": [
      "[Parallel(n_jobs=-1)]: Using backend LokyBackend with 4 concurrent workers.\n",
      "[Parallel(n_jobs=-1)]: Done  42 tasks      | elapsed:   34.0s\n",
      "[Parallel(n_jobs=-1)]: Done  80 out of  80 | elapsed:  1.9min finished\n"
     ]
    },
    {
     "data": {
      "text/plain": [
       "GradientBoostingRegressor(alpha=0.9, criterion='mse', init=None,\n",
       "                          learning_rate=0.1, loss='huber', max_depth=10,\n",
       "                          max_features=None, max_leaf_nodes=None,\n",
       "                          min_impurity_decrease=0.0, min_impurity_split=None,\n",
       "                          min_samples_leaf=1, min_samples_split=2,\n",
       "                          min_weight_fraction_leaf=0.0, n_estimators=10,\n",
       "                          n_iter_no_change=None, presort='auto',\n",
       "                          random_state=None, subsample=1.0, tol=0.0001,\n",
       "                          validation_fraction=0.1, verbose=0, warm_start=False)"
      ]
     },
     "execution_count": 75,
     "metadata": {},
     "output_type": "execute_result"
    }
   ],
   "source": [
    "#gbr = GradientBoostingRegressor(loss='huber',learning_rate=0.3,n_estimators=100,max_depth=5,min_samples_split=3)\n",
    "gbr=GradientBoostingRegressor()\n",
    "\n",
    "parameters = {'n_estimators': [5,10],\n",
    "              'loss':['huber'],\n",
    "              'criterion': ['mse'],\n",
    "              'max_depth': [5,10], \n",
    "              'min_samples_split': [2,5],\n",
    "              'min_samples_leaf': [1,5]\n",
    "             }\n",
    "\n",
    "#Determines the cross-validation splitting strategy /to specify the number of folds in a (Stratified)KFold\n",
    "grid_obj = GridSearchCV(gbr, parameters,\n",
    "                        cv=5, \n",
    "                        n_jobs=-1, #Number of jobs to run in parallel\n",
    "                        verbose=1)\n",
    "grid_obj = grid_obj.fit(X_train, y_train)\n",
    "\n",
    "# Set the clf to the best combination of parameters\n",
    "gbr = grid_obj.best_estimator_\n",
    "\n",
    "# Fit the best algorithm to the data. \n",
    "gbr.fit(X_train, y_train)"
   ]
  },
  {
   "cell_type": "code",
   "execution_count": 76,
   "metadata": {},
   "outputs": [
    {
     "name": "stdout",
     "output_type": "stream",
     "text": [
      "R2 score using Gradient Boosting=  0.4739730931776369 / 1.0\n",
      "RMSE score using XG Boost=  0.04195458840824953 / 0.0\n"
     ]
    }
   ],
   "source": [
    "y_pred = gbr.predict(X_test)\n",
    "\n",
    "print('R2 score using Gradient Boosting= ',r2_score(y_test, y_pred), '/ 1.0')\n",
    "print('RMSE score using XG Boost= ',math.sqrt(mean_squared_error(y_test, y_pred)), '/ 0.0')"
   ]
  },
  {
   "cell_type": "code",
   "execution_count": 77,
   "metadata": {},
   "outputs": [
    {
     "name": "stderr",
     "output_type": "stream",
     "text": [
      "/opt/conda/lib/python3.6/site-packages/ipykernel_launcher.py:1: FutureWarning: Method .as_matrix will be removed in a future version. Use .values instead.\n",
      "  \"\"\"Entry point for launching an IPython kernel.\n"
     ]
    },
    {
     "data": {
      "image/png": "[encoded data removed]",
      "text/plain": [
       "<Figure size 432x288 with 1 Axes>"
      ]
     },
     "metadata": {},
     "output_type": "display_data"
    }
   ],
   "source": [
    "plt.plot(y_test.as_matrix()[0:50], '+', color ='blue', alpha=0.7)\n",
    "plt.plot(y_pred[0:50], 'ro', color ='red', alpha=0.5)\n",
    "plt.show()"
   ]
  },
  {
   "cell_type": "code",
   "execution_count": 78,
   "metadata": {},
   "outputs": [
    {
     "name": "stdout",
     "output_type": "stream",
     "text": [
      "Fitting 5 folds for each of 48 candidates, totalling 240 fits\n"
     ]
    },
    {
     "name": "stderr",
     "output_type": "stream",
     "text": [
      "[Parallel(n_jobs=-1)]: Using backend LokyBackend with 4 concurrent workers.\n",
      "[Parallel(n_jobs=-1)]: Done  42 tasks      | elapsed:  8.6min\n",
      "[Parallel(n_jobs=-1)]: Done 192 tasks      | elapsed: 60.3min\n",
      "[Parallel(n_jobs=-1)]: Done 240 out of 240 | elapsed: 85.0min finished\n"
     ]
    },
    {
     "data": {
      "text/plain": [
       "GradientBoostingRegressor(alpha=0.9, criterion='mse', init=None,\n",
       "                          learning_rate=0.1, loss='huber', max_depth=15,\n",
       "                          max_features=None, max_leaf_nodes=None,\n",
       "                          min_impurity_decrease=0.0, min_impurity_split=None,\n",
       "                          min_samples_leaf=5, min_samples_split=5,\n",
       "                          min_weight_fraction_leaf=0.0, n_estimators=150,\n",
       "                          n_iter_no_change=None, presort='auto',\n",
       "                          random_state=None, subsample=1.0, tol=0.0001,\n",
       "                          validation_fraction=0.1, verbose=0, warm_start=False)"
      ]
     },
     "execution_count": 78,
     "metadata": {},
     "output_type": "execute_result"
    }
   ],
   "source": [
    "gbr = GradientBoostingRegressor(loss='ls',learning_rate=0.1,n_estimators=150,max_depth=10,min_samples_split=5)\n",
    "\n",
    "\n",
    "parameters = {'n_estimators': [5,15,150],\n",
    "              'loss':['ls','huber'],\n",
    "              'criterion': ['mse'],\n",
    "              'max_depth': [10,15], \n",
    "              'min_samples_split': [2,5],\n",
    "              'min_samples_leaf': [1,5]\n",
    "             }\n",
    "\n",
    "#Determines the cross-validation splitting strategy /to specify the number of folds in a (Stratified)KFold\n",
    "grid_obj = GridSearchCV(gbr, parameters,\n",
    "                        cv=5, \n",
    "                        n_jobs=-1, #Number of jobs to run in parallel\n",
    "                        verbose=1)\n",
    "grid_obj = grid_obj.fit(X_train, y_train)\n",
    "\n",
    "# Set the clf to the best combination of parameters\n",
    "gbr = grid_obj.best_estimator_\n",
    "\n",
    "# Fit the best algorithm to the data. \n",
    "gbr.fit(X_train, y_train)"
   ]
  },
  {
   "cell_type": "code",
   "execution_count": 79,
   "metadata": {},
   "outputs": [
    {
     "name": "stdout",
     "output_type": "stream",
     "text": [
      "R2 score using Gradient Boosting=  0.806252980195732 / 1.0\n",
      "RMSE score using Gradient Boosting=  0.0254620285431131 / 0.0\n"
     ]
    }
   ],
   "source": [
    "y_pred = RFR.predict(X_test)\n",
    "\n",
    "print('R2 score using Gradient Boosting= ',r2_score(y_test, y_pred), '/ 1.0')\n",
    "print('RMSE score using Gradient Boosting= ',math.sqrt(mean_squared_error(y_test, y_pred)), '/ 0.0')"
   ]
  },
  {
   "cell_type": "code",
   "execution_count": 80,
   "metadata": {},
   "outputs": [
    {
     "name": "stderr",
     "output_type": "stream",
     "text": [
      "/opt/conda/lib/python3.6/site-packages/ipykernel_launcher.py:1: FutureWarning: Method .as_matrix will be removed in a future version. Use .values instead.\n",
      "  \"\"\"Entry point for launching an IPython kernel.\n"
     ]
    },
    {
     "data": {
      "image/png": "[encoded data removed]",
      "text/plain": [
       "<Figure size 432x288 with 1 Axes>"
      ]
     },
     "metadata": {},
     "output_type": "display_data"
    }
   ],
   "source": [
    "plt.plot(y_test.as_matrix()[0:50], '+', color ='blue', alpha=0.7)\n",
    "plt.plot(y_pred[0:50], 'ro', color ='red', alpha=0.5)\n",
    "plt.show()"
   ]
  },
  {
   "cell_type": "markdown",
   "metadata": {},
   "source": [
    "# XGBoost Regressor"
   ]
  },
  {
   "cell_type": "code",
   "execution_count": 81,
   "metadata": {},
   "outputs": [],
   "source": [
    "model=XGBRegressor(max_depth=10)"
   ]
  },
  {
   "cell_type": "code",
   "execution_count": 82,
   "metadata": {},
   "outputs": [
    {
     "name": "stderr",
     "output_type": "stream",
     "text": [
      "/opt/conda/lib/python3.6/site-packages/xgboost/core.py:587: FutureWarning: Series.base is deprecated and will be removed in a future version\n",
      "  if getattr(data, 'base', None) is not None and \\\n"
     ]
    },
    {
     "name": "stdout",
     "output_type": "stream",
     "text": [
      "[01:13:13] WARNING: /workspace/src/objective/regression_obj.cu:152: reg:linear is now deprecated in favor of reg:squarederror.\n"
     ]
    },
    {
     "data": {
      "text/plain": [
       "XGBRegressor(base_score=0.5, booster='gbtree', colsample_bylevel=1,\n",
       "             colsample_bynode=1, colsample_bytree=1, gamma=0,\n",
       "             importance_type='gain', learning_rate=0.1, max_delta_step=0,\n",
       "             max_depth=10, min_child_weight=1, missing=None, n_estimators=100,\n",
       "             n_jobs=1, nthread=None, objective='reg:linear', random_state=0,\n",
       "             reg_alpha=0, reg_lambda=1, scale_pos_weight=1, seed=None,\n",
       "             silent=None, subsample=1, verbosity=1)"
      ]
     },
     "execution_count": 82,
     "metadata": {},
     "output_type": "execute_result"
    }
   ],
   "source": [
    "model.fit(X_train,y_train)"
   ]
  },
  {
   "cell_type": "code",
   "execution_count": 83,
   "metadata": {},
   "outputs": [],
   "source": [
    "y_pred=model.predict(X_test)"
   ]
  },
  {
   "cell_type": "code",
   "execution_count": 84,
   "metadata": {},
   "outputs": [
    {
     "name": "stdout",
     "output_type": "stream",
     "text": [
      "R2 score using XG Boost=  0.8123605819466322 / 1.0\n",
      "RMSE score using XG Boost=  0.02505748758471952 / 0.0\n"
     ]
    }
   ],
   "source": [
    "import math\n",
    "print('R2 score using XG Boost= ',r2_score(y_test, y_pred), '/ 1.0')\n",
    "print('RMSE score using XG Boost= ',math.sqrt(mean_squared_error(y_test, y_pred)), '/ 0.0')"
   ]
  },
  {
   "cell_type": "code",
   "execution_count": 85,
   "metadata": {},
   "outputs": [
    {
     "name": "stderr",
     "output_type": "stream",
     "text": [
      "/opt/conda/lib/python3.6/site-packages/ipykernel_launcher.py:1: FutureWarning: Method .as_matrix will be removed in a future version. Use .values instead.\n",
      "  \"\"\"Entry point for launching an IPython kernel.\n"
     ]
    },
    {
     "data": {
      "image/png": "[encoded data removed]",
      "text/plain": [
       "<Figure size 432x288 with 1 Axes>"
      ]
     },
     "metadata": {},
     "output_type": "display_data"
    }
   ],
   "source": [
    "plt.plot(y_test.as_matrix()[0:50], '+', color ='blue', alpha=0.7)\n",
    "plt.plot(y_pred[0:50], 'ro', color ='red', alpha=0.5)\n",
    "plt.show()"
   ]
  },
  {
   "cell_type": "code",
   "execution_count": null,
   "metadata": {},
   "outputs": [],
   "source": [
    "#PREDICTED RESULTS OF TESTING DATA\n",
    "y_true = []\n",
    "for val in y_pred:\n",
    "    val = (val * (max_train-min_train) + min_train)\n",
    "    y_true.append(val)\n",
    "y_true"
   ]
  },
  {
   "cell_type": "code",
   "execution_count": null,
   "metadata": {},
   "outputs": [],
   "source": [
    "#TRUE RESULTS OF TESTING DATA\n",
    "y_test_true = []\n",
    "for val in y_test:\n",
    "    val = (val * (max_train-min_train) + min_train)\n",
    "    y_test_true.append(val)\n",
    "y_test_true"
   ]
  }
 ],
 "metadata": {
  "kernelspec": {
   "display_name": "Python 3",
   "language": "python",
   "name": "python3"
  },
  "language_info": {
   "codemirror_mode": {
    "name": "ipython",
    "version": 3
   },
   "file_extension": ".py",
   "mimetype": "text/x-python",
   "name": "python",
   "nbconvert_exporter": "python",
   "pygments_lexer": "ipython3",
   "version": "3.7.3"
  }
 },
 "nbformat": 4,
 "nbformat_minor": 1
}